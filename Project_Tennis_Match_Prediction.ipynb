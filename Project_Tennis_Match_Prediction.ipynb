{
  "cells": [
    {
      "cell_type": "markdown",
      "source": "# The data\n\nThe website http://tennis-data.co.uk/alldata.php gathers outcomes of both WTA (Women Tennis Association) and ATP (Association of Tennis Professionals - men only) tennis games over several years.\n\nA short description of each variable can be found here :\nhttp://www.tennis-data.co.uk/notes.txt",
      "metadata": {
        "id": "NHvNu1WXs1zz",
        "cell_id": "00001-36e450ba-0cf0-4883-87c6-49ea3a33fc09",
        "deepnote_cell_type": "markdown"
      }
    },
    {
      "cell_type": "code",
      "metadata": {
        "id": "l-88kRrKsYrQ",
        "cell_id": "00002-fea8427d-83e4-472e-acbc-cb4698b083ef",
        "deepnote_to_be_reexecuted": false,
        "source_hash": "e96684ed",
        "execution_millis": 2418,
        "execution_start": 1616727335086,
        "deepnote_cell_type": "code"
      },
      "source": "import pandas as pd\nfrom urllib.request import urlopen  \nimport os.path as osp\nimport os\nimport logging\nimport zipfile\n\n# Utils\nimport math\n\n# Visualizations\nimport matplotlib.pyplot as plt\n%matplotlib inline\nimport seaborn as sns\n\nfrom glob import glob\nlogging.getLogger().setLevel('INFO')\n\n# Machin learning\nfrom sklearn.model_selection import train_test_split\nfrom sklearn.metrics import accuracy_score",
      "outputs": [],
      "execution_count": null
    },
    {
      "cell_type": "markdown",
      "source": "## Helpers",
      "metadata": {
        "id": "sKIDsLWbsYrV",
        "cell_id": "00003-46a4dfc0-141c-4bc3-baa1-4593cc270df9",
        "deepnote_cell_type": "markdown"
      }
    },
    {
      "cell_type": "code",
      "metadata": {
        "id": "vLAQ3fO8sYrW",
        "cell_id": "00004-0ad8735a-9ae9-425f-b592-79ef032d3bf2",
        "deepnote_to_be_reexecuted": false,
        "source_hash": "4ea38c69",
        "execution_millis": 2,
        "execution_start": 1616727337509,
        "deepnote_cell_type": "code"
      },
      "source": "def download_file(url_str, path):\n    url = urlopen(url_str)\n    output = open(path, 'wb')       \n    output.write(url.read())\n    output.close()  \n    \ndef extract_file(archive_path, target_dir):\n    zip_file = zipfile.ZipFile(archive_path, 'r')\n    zip_file.extractall(target_dir)\n    zip_file.close()",
      "outputs": [],
      "execution_count": null
    },
    {
      "cell_type": "markdown",
      "source": "## Download the dataset\nExecuting the cell below should provide you with :\n- one pandas dataframe for all ATP matches ( df_atp )\n- one pandas dataframe for all WTA matches ( df_wta )",
      "metadata": {
        "id": "nHRZzc_GsYrZ",
        "cell_id": "00005-6bd6b7f8-d358-4e10-8b07-788de0772542",
        "deepnote_cell_type": "markdown"
      }
    },
    {
      "cell_type": "code",
      "metadata": {
        "id": "OSofwP-AsYra",
        "colab": {
          "base_uri": "https://localhost:8080/"
        },
        "outputId": "010b3090-0801-4b20-e9b9-9ae7bc0aa75f",
        "cell_id": "00006-ffd3cade-7cce-4340-bbd0-6ab005193922",
        "deepnote_to_be_reexecuted": false,
        "source_hash": "65fca1ae",
        "execution_millis": 25924,
        "output_cleared": false,
        "execution_start": 1616727337516,
        "deepnote_cell_type": "code"
      },
      "source": "BASE_URL = 'http://tennis-data.co.uk'\nDATA_DIR = \"tennis_data\"\nATP_DIR = './{}/ATP'.format(DATA_DIR)\nWTA_DIR = './{}/WTA'.format(DATA_DIR)\n\nATP_URLS = [BASE_URL + \"/%i/%i.zip\" % (i,i) for i in range(2000,2019)]\nWTA_URLS = [BASE_URL + \"/%iw/%i.zip\" % (i,i) for i in range(2007,2019)]\n\nos.makedirs(osp.join(ATP_DIR, 'archives'), exist_ok=True)\nos.makedirs(osp.join(WTA_DIR, 'archives'), exist_ok=True)\n\nfor files, directory in ((ATP_URLS, ATP_DIR), (WTA_URLS, WTA_DIR)):\n    for dl_path in files:\n        logging.info(\"downloading & extracting file %s\", dl_path)\n        archive_path = osp.join(directory, 'archives', osp.basename(dl_path))\n        download_file(dl_path, archive_path)\n        extract_file(archive_path, directory)\n    \nATP_FILES = sorted(glob(\"%s/*.xls*\" % ATP_DIR))\nWTA_FILES = sorted(glob(\"%s/*.xls*\" % WTA_DIR))",
      "outputs": [
        {
          "name": "stderr",
          "text": "INFO:root:downloading & extracting file http://tennis-data.co.uk/2000/2000.zip\nINFO:root:downloading & extracting file http://tennis-data.co.uk/2001/2001.zip\nINFO:root:downloading & extracting file http://tennis-data.co.uk/2002/2002.zip\nINFO:root:downloading & extracting file http://tennis-data.co.uk/2003/2003.zip\nINFO:root:downloading & extracting file http://tennis-data.co.uk/2004/2004.zip\nINFO:root:downloading & extracting file http://tennis-data.co.uk/2005/2005.zip\nINFO:root:downloading & extracting file http://tennis-data.co.uk/2006/2006.zip\nINFO:root:downloading & extracting file http://tennis-data.co.uk/2007/2007.zip\nINFO:root:downloading & extracting file http://tennis-data.co.uk/2008/2008.zip\nINFO:root:downloading & extracting file http://tennis-data.co.uk/2009/2009.zip\nINFO:root:downloading & extracting file http://tennis-data.co.uk/2010/2010.zip\nINFO:root:downloading & extracting file http://tennis-data.co.uk/2011/2011.zip\nINFO:root:downloading & extracting file http://tennis-data.co.uk/2012/2012.zip\nINFO:root:downloading & extracting file http://tennis-data.co.uk/2013/2013.zip\nINFO:root:downloading & extracting file http://tennis-data.co.uk/2014/2014.zip\nINFO:root:downloading & extracting file http://tennis-data.co.uk/2015/2015.zip\nINFO:root:downloading & extracting file http://tennis-data.co.uk/2016/2016.zip\nINFO:root:downloading & extracting file http://tennis-data.co.uk/2017/2017.zip\nINFO:root:downloading & extracting file http://tennis-data.co.uk/2018/2018.zip\nINFO:root:downloading & extracting file http://tennis-data.co.uk/2007w/2007.zip\nINFO:root:downloading & extracting file http://tennis-data.co.uk/2008w/2008.zip\nINFO:root:downloading & extracting file http://tennis-data.co.uk/2009w/2009.zip\nINFO:root:downloading & extracting file http://tennis-data.co.uk/2010w/2010.zip\nINFO:root:downloading & extracting file http://tennis-data.co.uk/2011w/2011.zip\nINFO:root:downloading & extracting file http://tennis-data.co.uk/2012w/2012.zip\nINFO:root:downloading & extracting file http://tennis-data.co.uk/2013w/2013.zip\nINFO:root:downloading & extracting file http://tennis-data.co.uk/2014w/2014.zip\nINFO:root:downloading & extracting file http://tennis-data.co.uk/2015w/2015.zip\nINFO:root:downloading & extracting file http://tennis-data.co.uk/2016w/2016.zip\nINFO:root:downloading & extracting file http://tennis-data.co.uk/2017w/2017.zip\nINFO:root:downloading & extracting file http://tennis-data.co.uk/2018w/2018.zip\n",
          "output_type": "stream"
        }
      ],
      "execution_count": null
    },
    {
      "cell_type": "code",
      "metadata": {
        "tags": [],
        "cell_id": "00006-93dc39a6-4c4f-4d84-881e-ecca2337aca6",
        "deepnote_to_be_reexecuted": false,
        "source_hash": "5aa1f074",
        "execution_millis": 22407,
        "is_code_hidden": false,
        "execution_start": 1616727363450,
        "deepnote_cell_type": "code"
      },
      "source": "df_atp = pd.concat([pd.read_excel(f) for f in ATP_FILES], ignore_index=True)\ndf_wta = pd.concat([pd.read_excel(f) for f in WTA_FILES], ignore_index=True)\n\nlogging.info(\"%i matches ATP in df_atp\", df_atp.shape[0])\nlogging.info(\"%i matches WTA in df_wta\", df_wta.shape[0])",
      "outputs": [
        {
          "name": "stderr",
          "text": "/shared-libs/python3.7/py-core/lib/python3.7/site-packages/ipykernel_launcher.py:1: FutureWarning: Your version of xlrd is 1.2.0. In xlrd >= 2.0, only the xls format is supported. As a result, the openpyxl engine will be used if it is installed and the engine argument is not specified. Install openpyxl instead.\n  \"\"\"Entry point for launching an IPython kernel.\n/shared-libs/python3.7/py-core/lib/python3.7/site-packages/ipykernel_launcher.py:2: FutureWarning: Your version of xlrd is 1.2.0. In xlrd >= 2.0, only the xls format is supported. As a result, the openpyxl engine will be used if it is installed and the engine argument is not specified. Install openpyxl instead.\n  \nINFO:root:52298 matches ATP in df_atp\nINFO:root:29581 matches WTA in df_wta\n",
          "output_type": "stream"
        }
      ],
      "execution_count": null
    },
    {
      "cell_type": "code",
      "source": "data_copy = df_atp",
      "metadata": {
        "tags": [],
        "cell_id": "00007-bce032cc-91bd-4a47-aa8d-1c6cd08b4284",
        "deepnote_to_be_reexecuted": false,
        "source_hash": "ba6c0fac",
        "execution_millis": 1,
        "execution_start": 1616727385854,
        "deepnote_cell_type": "code"
      },
      "outputs": [],
      "execution_count": null
    },
    {
      "cell_type": "code",
      "source": "df_atp = data_copy",
      "metadata": {
        "tags": [],
        "cell_id": "00008-b6a86807-e608-47dc-9829-9493f680982d",
        "deepnote_to_be_reexecuted": false,
        "source_hash": "ab864575",
        "execution_millis": 0,
        "execution_start": 1616727385855,
        "deepnote_cell_type": "code"
      },
      "outputs": [],
      "execution_count": null
    },
    {
      "cell_type": "markdown",
      "source": "## Data visualisation and minor correction\n\nBefore doing any computation with the data, we want to visualize the dataframe and see if any mistakes or issues occured during the conversion from xls file to dataframe.",
      "metadata": {
        "tags": [],
        "cell_id": "00007-cd49c542-2468-405a-a20d-8785555716d8",
        "deepnote_cell_type": "markdown"
      }
    },
    {
      "cell_type": "code",
      "source": "df_atp.describe()",
      "metadata": {
        "tags": [],
        "cell_id": "00008-1cfdc818-5840-4269-aac5-9b1c870c1901",
        "deepnote_to_be_reexecuted": false,
        "source_hash": "d0c025ce",
        "execution_millis": 214,
        "execution_start": 1616727385856,
        "deepnote_cell_type": "code"
      },
      "outputs": [
        {
          "output_type": "execute_result",
          "execution_count": 7,
          "data": {
            "application/vnd.deepnote.dataframe.v2+json": {
              "row_count": 8,
              "column_count": 36,
              "columns": [
                {
                  "name": "ATP",
                  "dtype": "float64",
                  "stats": {
                    "unique_count": 8,
                    "nan_count": 0,
                    "min": 1,
                    "max": 52298,
                    "histogram": [
                      {
                        "bin_start": 1,
                        "bin_end": 5230.7,
                        "count": 7
                      },
                      {
                        "bin_start": 5230.7,
                        "bin_end": 10460.4,
                        "count": 0
                      },
                      {
                        "bin_start": 10460.4,
                        "bin_end": 15690.099999999999,
                        "count": 0
                      },
                      {
                        "bin_start": 15690.099999999999,
                        "bin_end": 20919.8,
                        "count": 0
                      },
                      {
                        "bin_start": 20919.8,
                        "bin_end": 26149.5,
                        "count": 0
                      },
                      {
                        "bin_start": 26149.5,
                        "bin_end": 31379.199999999997,
                        "count": 0
                      },
                      {
                        "bin_start": 31379.199999999997,
                        "bin_end": 36608.9,
                        "count": 0
                      },
                      {
                        "bin_start": 36608.9,
                        "bin_end": 41838.6,
                        "count": 0
                      },
                      {
                        "bin_start": 41838.6,
                        "bin_end": 47068.299999999996,
                        "count": 0
                      },
                      {
                        "bin_start": 47068.299999999996,
                        "bin_end": 52298,
                        "count": 1
                      }
                    ]
                  }
                },
                {
                  "name": "Best of",
                  "dtype": "float64",
                  "stats": {
                    "unique_count": 5,
                    "nan_count": 0,
                    "min": 0.7785160380669638,
                    "max": 52298,
                    "histogram": [
                      {
                        "bin_start": 0.7785160380669638,
                        "bin_end": 5230.50066443426,
                        "count": 7
                      },
                      {
                        "bin_start": 5230.50066443426,
                        "bin_end": 10460.222812830452,
                        "count": 0
                      },
                      {
                        "bin_start": 10460.222812830452,
                        "bin_end": 15689.944961226645,
                        "count": 0
                      },
                      {
                        "bin_start": 15689.944961226645,
                        "bin_end": 20919.66710962284,
                        "count": 0
                      },
                      {
                        "bin_start": 20919.66710962284,
                        "bin_end": 26149.38925801903,
                        "count": 0
                      },
                      {
                        "bin_start": 26149.38925801903,
                        "bin_end": 31379.111406415224,
                        "count": 0
                      },
                      {
                        "bin_start": 31379.111406415224,
                        "bin_end": 36608.83355481142,
                        "count": 0
                      },
                      {
                        "bin_start": 36608.83355481142,
                        "bin_end": 41838.55570320761,
                        "count": 0
                      },
                      {
                        "bin_start": 41838.55570320761,
                        "bin_end": 47068.2778516038,
                        "count": 0
                      },
                      {
                        "bin_start": 47068.2778516038,
                        "bin_end": 52298,
                        "count": 1
                      }
                    ]
                  }
                },
                {
                  "name": "W1",
                  "dtype": "float64",
                  "stats": {
                    "unique_count": 6,
                    "nan_count": 0,
                    "min": 0,
                    "max": 52035,
                    "histogram": [
                      {
                        "bin_start": 0,
                        "bin_end": 5203.5,
                        "count": 7
                      },
                      {
                        "bin_start": 5203.5,
                        "bin_end": 10407,
                        "count": 0
                      },
                      {
                        "bin_start": 10407,
                        "bin_end": 15610.5,
                        "count": 0
                      },
                      {
                        "bin_start": 15610.5,
                        "bin_end": 20814,
                        "count": 0
                      },
                      {
                        "bin_start": 20814,
                        "bin_end": 26017.5,
                        "count": 0
                      },
                      {
                        "bin_start": 26017.5,
                        "bin_end": 31221,
                        "count": 0
                      },
                      {
                        "bin_start": 31221,
                        "bin_end": 36424.5,
                        "count": 0
                      },
                      {
                        "bin_start": 36424.5,
                        "bin_end": 41628,
                        "count": 0
                      },
                      {
                        "bin_start": 41628,
                        "bin_end": 46831.5,
                        "count": 0
                      },
                      {
                        "bin_start": 46831.5,
                        "bin_end": 52035,
                        "count": 1
                      }
                    ]
                  }
                },
                {
                  "name": "L1",
                  "dtype": "float64",
                  "stats": {
                    "unique_count": 8,
                    "nan_count": 0,
                    "min": 0,
                    "max": 52037,
                    "histogram": [
                      {
                        "bin_start": 0,
                        "bin_end": 5203.7,
                        "count": 7
                      },
                      {
                        "bin_start": 5203.7,
                        "bin_end": 10407.4,
                        "count": 0
                      },
                      {
                        "bin_start": 10407.4,
                        "bin_end": 15611.099999999999,
                        "count": 0
                      },
                      {
                        "bin_start": 15611.099999999999,
                        "bin_end": 20814.8,
                        "count": 0
                      },
                      {
                        "bin_start": 20814.8,
                        "bin_end": 26018.5,
                        "count": 0
                      },
                      {
                        "bin_start": 26018.5,
                        "bin_end": 31222.199999999997,
                        "count": 0
                      },
                      {
                        "bin_start": 31222.199999999997,
                        "bin_end": 36425.9,
                        "count": 0
                      },
                      {
                        "bin_start": 36425.9,
                        "bin_end": 41629.6,
                        "count": 0
                      },
                      {
                        "bin_start": 41629.6,
                        "bin_end": 46833.299999999996,
                        "count": 0
                      },
                      {
                        "bin_start": 46833.299999999996,
                        "bin_end": 52037,
                        "count": 1
                      }
                    ]
                  }
                },
                {
                  "name": "W4",
                  "dtype": "float64",
                  "stats": {
                    "unique_count": 6,
                    "nan_count": 0,
                    "min": 0,
                    "max": 4731,
                    "histogram": [
                      {
                        "bin_start": 0,
                        "bin_end": 473.1,
                        "count": 7
                      },
                      {
                        "bin_start": 473.1,
                        "bin_end": 946.2,
                        "count": 0
                      },
                      {
                        "bin_start": 946.2,
                        "bin_end": 1419.3000000000002,
                        "count": 0
                      },
                      {
                        "bin_start": 1419.3000000000002,
                        "bin_end": 1892.4,
                        "count": 0
                      },
                      {
                        "bin_start": 1892.4,
                        "bin_end": 2365.5,
                        "count": 0
                      },
                      {
                        "bin_start": 2365.5,
                        "bin_end": 2838.6000000000004,
                        "count": 0
                      },
                      {
                        "bin_start": 2838.6000000000004,
                        "bin_end": 3311.7000000000003,
                        "count": 0
                      },
                      {
                        "bin_start": 3311.7000000000003,
                        "bin_end": 3784.8,
                        "count": 0
                      },
                      {
                        "bin_start": 3784.8,
                        "bin_end": 4257.900000000001,
                        "count": 0
                      },
                      {
                        "bin_start": 4257.900000000001,
                        "bin_end": 4731,
                        "count": 1
                      }
                    ]
                  }
                },
                {
                  "name": "L4",
                  "dtype": "float64",
                  "stats": {
                    "unique_count": 8,
                    "nan_count": 0,
                    "min": 0,
                    "max": 4731,
                    "histogram": [
                      {
                        "bin_start": 0,
                        "bin_end": 473.1,
                        "count": 7
                      },
                      {
                        "bin_start": 473.1,
                        "bin_end": 946.2,
                        "count": 0
                      },
                      {
                        "bin_start": 946.2,
                        "bin_end": 1419.3000000000002,
                        "count": 0
                      },
                      {
                        "bin_start": 1419.3000000000002,
                        "bin_end": 1892.4,
                        "count": 0
                      },
                      {
                        "bin_start": 1892.4,
                        "bin_end": 2365.5,
                        "count": 0
                      },
                      {
                        "bin_start": 2365.5,
                        "bin_end": 2838.6000000000004,
                        "count": 0
                      },
                      {
                        "bin_start": 2838.6000000000004,
                        "bin_end": 3311.7000000000003,
                        "count": 0
                      },
                      {
                        "bin_start": 3311.7000000000003,
                        "bin_end": 3784.8,
                        "count": 0
                      },
                      {
                        "bin_start": 3784.8,
                        "bin_end": 4257.900000000001,
                        "count": 0
                      },
                      {
                        "bin_start": 4257.900000000001,
                        "bin_end": 4731,
                        "count": 1
                      }
                    ]
                  }
                },
                {
                  "name": "W5",
                  "dtype": "float64",
                  "stats": {
                    "unique_count": 7,
                    "nan_count": 0,
                    "min": 0,
                    "max": 1791,
                    "histogram": [
                      {
                        "bin_start": 0,
                        "bin_end": 179.1,
                        "count": 7
                      },
                      {
                        "bin_start": 179.1,
                        "bin_end": 358.2,
                        "count": 0
                      },
                      {
                        "bin_start": 358.2,
                        "bin_end": 537.3,
                        "count": 0
                      },
                      {
                        "bin_start": 537.3,
                        "bin_end": 716.4,
                        "count": 0
                      },
                      {
                        "bin_start": 716.4,
                        "bin_end": 895.5,
                        "count": 0
                      },
                      {
                        "bin_start": 895.5,
                        "bin_end": 1074.6,
                        "count": 0
                      },
                      {
                        "bin_start": 1074.6,
                        "bin_end": 1253.7,
                        "count": 0
                      },
                      {
                        "bin_start": 1253.7,
                        "bin_end": 1432.8,
                        "count": 0
                      },
                      {
                        "bin_start": 1432.8,
                        "bin_end": 1611.8999999999999,
                        "count": 0
                      },
                      {
                        "bin_start": 1611.8999999999999,
                        "bin_end": 1791,
                        "count": 1
                      }
                    ]
                  }
                },
                {
                  "name": "L5",
                  "dtype": "float64",
                  "stats": {
                    "unique_count": 8,
                    "nan_count": 0,
                    "min": 0,
                    "max": 1791,
                    "histogram": [
                      {
                        "bin_start": 0,
                        "bin_end": 179.1,
                        "count": 7
                      },
                      {
                        "bin_start": 179.1,
                        "bin_end": 358.2,
                        "count": 0
                      },
                      {
                        "bin_start": 358.2,
                        "bin_end": 537.3,
                        "count": 0
                      },
                      {
                        "bin_start": 537.3,
                        "bin_end": 716.4,
                        "count": 0
                      },
                      {
                        "bin_start": 716.4,
                        "bin_end": 895.5,
                        "count": 0
                      },
                      {
                        "bin_start": 895.5,
                        "bin_end": 1074.6,
                        "count": 0
                      },
                      {
                        "bin_start": 1074.6,
                        "bin_end": 1253.7,
                        "count": 0
                      },
                      {
                        "bin_start": 1253.7,
                        "bin_end": 1432.8,
                        "count": 0
                      },
                      {
                        "bin_start": 1432.8,
                        "bin_end": 1611.8999999999999,
                        "count": 0
                      },
                      {
                        "bin_start": 1611.8999999999999,
                        "bin_end": 1791,
                        "count": 1
                      }
                    ]
                  }
                },
                {
                  "name": "Wsets",
                  "dtype": "float64",
                  "stats": {
                    "unique_count": 6,
                    "nan_count": 0,
                    "min": 0,
                    "max": 52074,
                    "histogram": [
                      {
                        "bin_start": 0,
                        "bin_end": 5207.4,
                        "count": 7
                      },
                      {
                        "bin_start": 5207.4,
                        "bin_end": 10414.8,
                        "count": 0
                      },
                      {
                        "bin_start": 10414.8,
                        "bin_end": 15622.199999999999,
                        "count": 0
                      },
                      {
                        "bin_start": 15622.199999999999,
                        "bin_end": 20829.6,
                        "count": 0
                      },
                      {
                        "bin_start": 20829.6,
                        "bin_end": 26037,
                        "count": 0
                      },
                      {
                        "bin_start": 26037,
                        "bin_end": 31244.399999999998,
                        "count": 0
                      },
                      {
                        "bin_start": 31244.399999999998,
                        "bin_end": 36451.799999999996,
                        "count": 0
                      },
                      {
                        "bin_start": 36451.799999999996,
                        "bin_end": 41659.2,
                        "count": 0
                      },
                      {
                        "bin_start": 41659.2,
                        "bin_end": 46866.6,
                        "count": 0
                      },
                      {
                        "bin_start": 46866.6,
                        "bin_end": 52074,
                        "count": 1
                      }
                    ]
                  }
                },
                {
                  "name": "CBW",
                  "dtype": "float64",
                  "stats": {
                    "unique_count": 8,
                    "nan_count": 0,
                    "min": 0.8682542953723733,
                    "max": 17506,
                    "histogram": [
                      {
                        "bin_start": 0.8682542953723733,
                        "bin_end": 1751.3814288658352,
                        "count": 7
                      },
                      {
                        "bin_start": 1751.3814288658352,
                        "bin_end": 3501.894603436298,
                        "count": 0
                      },
                      {
                        "bin_start": 3501.894603436298,
                        "bin_end": 5252.40777800676,
                        "count": 0
                      },
                      {
                        "bin_start": 5252.40777800676,
                        "bin_end": 7002.920952577223,
                        "count": 0
                      },
                      {
                        "bin_start": 7002.920952577223,
                        "bin_end": 8753.434127147686,
                        "count": 0
                      },
                      {
                        "bin_start": 8753.434127147686,
                        "bin_end": 10503.947301718148,
                        "count": 0
                      },
                      {
                        "bin_start": 10503.947301718148,
                        "bin_end": 12254.460476288612,
                        "count": 0
                      },
                      {
                        "bin_start": 12254.460476288612,
                        "bin_end": 14004.973650859074,
                        "count": 0
                      },
                      {
                        "bin_start": 14004.973650859074,
                        "bin_end": 15755.486825429536,
                        "count": 0
                      },
                      {
                        "bin_start": 15755.486825429536,
                        "bin_end": 17506,
                        "count": 1
                      }
                    ]
                  }
                },
                {
                  "name": "CBL",
                  "dtype": "float64",
                  "stats": {
                    "unique_count": 8,
                    "nan_count": 0,
                    "min": 1.02,
                    "max": 17506,
                    "histogram": [
                      {
                        "bin_start": 1.02,
                        "bin_end": 1751.518,
                        "count": 7
                      },
                      {
                        "bin_start": 1751.518,
                        "bin_end": 3502.016,
                        "count": 0
                      },
                      {
                        "bin_start": 3502.016,
                        "bin_end": 5252.514000000001,
                        "count": 0
                      },
                      {
                        "bin_start": 5252.514000000001,
                        "bin_end": 7003.012000000001,
                        "count": 0
                      },
                      {
                        "bin_start": 7003.012000000001,
                        "bin_end": 8753.51,
                        "count": 0
                      },
                      {
                        "bin_start": 8753.51,
                        "bin_end": 10504.008000000002,
                        "count": 0
                      },
                      {
                        "bin_start": 10504.008000000002,
                        "bin_end": 12254.506000000001,
                        "count": 0
                      },
                      {
                        "bin_start": 12254.506000000001,
                        "bin_end": 14005.004,
                        "count": 0
                      },
                      {
                        "bin_start": 14005.004,
                        "bin_end": 15755.502,
                        "count": 0
                      },
                      {
                        "bin_start": 15755.502,
                        "bin_end": 17506,
                        "count": 1
                      }
                    ]
                  }
                },
                {
                  "name": "GBW",
                  "dtype": "float64",
                  "stats": {
                    "unique_count": 8,
                    "nan_count": 0,
                    "min": 0.6144544036035657,
                    "max": 5055,
                    "histogram": [
                      {
                        "bin_start": 0.6144544036035657,
                        "bin_end": 506.05300896324326,
                        "count": 7
                      },
                      {
                        "bin_start": 506.05300896324326,
                        "bin_end": 1011.4915635228829,
                        "count": 0
                      },
                      {
                        "bin_start": 1011.4915635228829,
                        "bin_end": 1516.9301180825225,
                        "count": 0
                      },
                      {
                        "bin_start": 1516.9301180825225,
                        "bin_end": 2022.3686726421622,
                        "count": 0
                      },
                      {
                        "bin_start": 2022.3686726421622,
                        "bin_end": 2527.807227201802,
                        "count": 0
                      },
                      {
                        "bin_start": 2527.807227201802,
                        "bin_end": 3033.245781761442,
                        "count": 0
                      },
                      {
                        "bin_start": 3033.245781761442,
                        "bin_end": 3538.6843363210814,
                        "count": 0
                      },
                      {
                        "bin_start": 3538.6843363210814,
                        "bin_end": 4044.122890880721,
                        "count": 0
                      },
                      {
                        "bin_start": 4044.122890880721,
                        "bin_end": 4549.56144544036,
                        "count": 0
                      },
                      {
                        "bin_start": 4549.56144544036,
                        "bin_end": 5055,
                        "count": 1
                      }
                    ]
                  }
                },
                {
                  "name": "GBL",
                  "dtype": "float64",
                  "stats": {
                    "unique_count": 8,
                    "nan_count": 0,
                    "min": 1.03,
                    "max": 5055,
                    "histogram": [
                      {
                        "bin_start": 1.03,
                        "bin_end": 506.427,
                        "count": 7
                      },
                      {
                        "bin_start": 506.427,
                        "bin_end": 1011.8240000000001,
                        "count": 0
                      },
                      {
                        "bin_start": 1011.8240000000001,
                        "bin_end": 1517.2210000000002,
                        "count": 0
                      },
                      {
                        "bin_start": 1517.2210000000002,
                        "bin_end": 2022.6180000000002,
                        "count": 0
                      },
                      {
                        "bin_start": 2022.6180000000002,
                        "bin_end": 2528.0150000000003,
                        "count": 0
                      },
                      {
                        "bin_start": 2528.0150000000003,
                        "bin_end": 3033.4120000000007,
                        "count": 0
                      },
                      {
                        "bin_start": 3033.4120000000007,
                        "bin_end": 3538.8090000000007,
                        "count": 0
                      },
                      {
                        "bin_start": 3538.8090000000007,
                        "bin_end": 4044.2060000000006,
                        "count": 0
                      },
                      {
                        "bin_start": 4044.2060000000006,
                        "bin_end": 4549.603,
                        "count": 0
                      },
                      {
                        "bin_start": 4549.603,
                        "bin_end": 5055,
                        "count": 1
                      }
                    ]
                  }
                },
                {
                  "name": "IWW",
                  "dtype": "float64",
                  "stats": {
                    "unique_count": 8,
                    "nan_count": 0,
                    "min": 0.5853995606282124,
                    "max": 13358,
                    "histogram": [
                      {
                        "bin_start": 0.5853995606282124,
                        "bin_end": 1336.3268596045655,
                        "count": 7
                      },
                      {
                        "bin_start": 1336.3268596045655,
                        "bin_end": 2672.0683196485024,
                        "count": 0
                      },
                      {
                        "bin_start": 2672.0683196485024,
                        "bin_end": 4007.80977969244,
                        "count": 0
                      },
                      {
                        "bin_start": 4007.80977969244,
                        "bin_end": 5343.551239736377,
                        "count": 0
                      },
                      {
                        "bin_start": 5343.551239736377,
                        "bin_end": 6679.292699780314,
                        "count": 0
                      },
                      {
                        "bin_start": 6679.292699780314,
                        "bin_end": 8015.034159824252,
                        "count": 0
                      },
                      {
                        "bin_start": 8015.034159824252,
                        "bin_end": 9350.77561986819,
                        "count": 0
                      },
                      {
                        "bin_start": 9350.77561986819,
                        "bin_end": 10686.517079912126,
                        "count": 0
                      },
                      {
                        "bin_start": 10686.517079912126,
                        "bin_end": 12022.258539956063,
                        "count": 0
                      },
                      {
                        "bin_start": 12022.258539956063,
                        "bin_end": 13358,
                        "count": 1
                      }
                    ]
                  }
                },
                {
                  "name": "IWL",
                  "dtype": "float64",
                  "stats": {
                    "unique_count": 8,
                    "nan_count": 0,
                    "min": 1.03,
                    "max": 13358,
                    "histogram": [
                      {
                        "bin_start": 1.03,
                        "bin_end": 1336.7269999999999,
                        "count": 7
                      },
                      {
                        "bin_start": 1336.7269999999999,
                        "bin_end": 2672.424,
                        "count": 0
                      },
                      {
                        "bin_start": 2672.424,
                        "bin_end": 4008.1209999999996,
                        "count": 0
                      },
                      {
                        "bin_start": 4008.1209999999996,
                        "bin_end": 5343.817999999999,
                        "count": 0
                      },
                      {
                        "bin_start": 5343.817999999999,
                        "bin_end": 6679.514999999999,
                        "count": 0
                      },
                      {
                        "bin_start": 6679.514999999999,
                        "bin_end": 8015.211999999999,
                        "count": 0
                      },
                      {
                        "bin_start": 8015.211999999999,
                        "bin_end": 9350.909,
                        "count": 0
                      },
                      {
                        "bin_start": 9350.909,
                        "bin_end": 10686.606,
                        "count": 0
                      },
                      {
                        "bin_start": 10686.606,
                        "bin_end": 12022.303,
                        "count": 0
                      },
                      {
                        "bin_start": 12022.303,
                        "bin_end": 13358,
                        "count": 1
                      }
                    ]
                  }
                },
                {
                  "name": "SBW",
                  "dtype": "float64",
                  "stats": {
                    "unique_count": 8,
                    "nan_count": 0,
                    "min": 0,
                    "max": 5424,
                    "histogram": [
                      {
                        "bin_start": 0,
                        "bin_end": 542.4,
                        "count": 7
                      },
                      {
                        "bin_start": 542.4,
                        "bin_end": 1084.8,
                        "count": 0
                      },
                      {
                        "bin_start": 1084.8,
                        "bin_end": 1627.1999999999998,
                        "count": 0
                      },
                      {
                        "bin_start": 1627.1999999999998,
                        "bin_end": 2169.6,
                        "count": 0
                      },
                      {
                        "bin_start": 2169.6,
                        "bin_end": 2712,
                        "count": 0
                      },
                      {
                        "bin_start": 2712,
                        "bin_end": 3254.3999999999996,
                        "count": 0
                      },
                      {
                        "bin_start": 3254.3999999999996,
                        "bin_end": 3796.7999999999997,
                        "count": 0
                      },
                      {
                        "bin_start": 3796.7999999999997,
                        "bin_end": 4339.2,
                        "count": 0
                      },
                      {
                        "bin_start": 4339.2,
                        "bin_end": 4881.599999999999,
                        "count": 0
                      },
                      {
                        "bin_start": 4881.599999999999,
                        "bin_end": 5424,
                        "count": 1
                      }
                    ]
                  }
                },
                {
                  "name": "SBL",
                  "dtype": "float64",
                  "stats": {
                    "unique_count": 8,
                    "nan_count": 0,
                    "min": 0,
                    "max": 5424,
                    "histogram": [
                      {
                        "bin_start": 0,
                        "bin_end": 542.4,
                        "count": 7
                      },
                      {
                        "bin_start": 542.4,
                        "bin_end": 1084.8,
                        "count": 0
                      },
                      {
                        "bin_start": 1084.8,
                        "bin_end": 1627.1999999999998,
                        "count": 0
                      },
                      {
                        "bin_start": 1627.1999999999998,
                        "bin_end": 2169.6,
                        "count": 0
                      },
                      {
                        "bin_start": 2169.6,
                        "bin_end": 2712,
                        "count": 0
                      },
                      {
                        "bin_start": 2712,
                        "bin_end": 3254.3999999999996,
                        "count": 0
                      },
                      {
                        "bin_start": 3254.3999999999996,
                        "bin_end": 3796.7999999999997,
                        "count": 0
                      },
                      {
                        "bin_start": 3796.7999999999997,
                        "bin_end": 4339.2,
                        "count": 0
                      },
                      {
                        "bin_start": 4339.2,
                        "bin_end": 4881.599999999999,
                        "count": 0
                      },
                      {
                        "bin_start": 4881.599999999999,
                        "bin_end": 5424,
                        "count": 1
                      }
                    ]
                  }
                },
                {
                  "name": "B365W",
                  "dtype": "float64",
                  "stats": {
                    "unique_count": 8,
                    "nan_count": 0,
                    "min": 1,
                    "max": 43643,
                    "histogram": [
                      {
                        "bin_start": 1,
                        "bin_end": 4365.2,
                        "count": 7
                      },
                      {
                        "bin_start": 4365.2,
                        "bin_end": 8729.4,
                        "count": 0
                      },
                      {
                        "bin_start": 8729.4,
                        "bin_end": 13093.599999999999,
                        "count": 0
                      },
                      {
                        "bin_start": 13093.599999999999,
                        "bin_end": 17457.8,
                        "count": 0
                      },
                      {
                        "bin_start": 17457.8,
                        "bin_end": 21822,
                        "count": 0
                      },
                      {
                        "bin_start": 21822,
                        "bin_end": 26186.199999999997,
                        "count": 0
                      },
                      {
                        "bin_start": 26186.199999999997,
                        "bin_end": 30550.399999999998,
                        "count": 0
                      },
                      {
                        "bin_start": 30550.399999999998,
                        "bin_end": 34914.6,
                        "count": 0
                      },
                      {
                        "bin_start": 34914.6,
                        "bin_end": 39278.799999999996,
                        "count": 0
                      },
                      {
                        "bin_start": 39278.799999999996,
                        "bin_end": 43643,
                        "count": 1
                      }
                    ]
                  }
                },
                {
                  "name": "B365L",
                  "dtype": "float64",
                  "stats": {
                    "unique_count": 8,
                    "nan_count": 0,
                    "min": 1.002,
                    "max": 43666,
                    "histogram": [
                      {
                        "bin_start": 1.002,
                        "bin_end": 4367.5018,
                        "count": 7
                      },
                      {
                        "bin_start": 4367.5018,
                        "bin_end": 8734.0016,
                        "count": 0
                      },
                      {
                        "bin_start": 8734.0016,
                        "bin_end": 13100.5014,
                        "count": 0
                      },
                      {
                        "bin_start": 13100.5014,
                        "bin_end": 17467.0012,
                        "count": 0
                      },
                      {
                        "bin_start": 17467.0012,
                        "bin_end": 21833.500999999997,
                        "count": 0
                      },
                      {
                        "bin_start": 21833.500999999997,
                        "bin_end": 26200.000799999998,
                        "count": 0
                      },
                      {
                        "bin_start": 26200.000799999998,
                        "bin_end": 30566.5006,
                        "count": 0
                      },
                      {
                        "bin_start": 30566.5006,
                        "bin_end": 34933.0004,
                        "count": 0
                      },
                      {
                        "bin_start": 34933.0004,
                        "bin_end": 39299.500199999995,
                        "count": 0
                      },
                      {
                        "bin_start": 39299.500199999995,
                        "bin_end": 43666,
                        "count": 1
                      }
                    ]
                  }
                },
                {
                  "name": "B&WW",
                  "dtype": "float64",
                  "stats": {
                    "unique_count": 8,
                    "nan_count": 0,
                    "min": 0.7304341705524617,
                    "max": 1097,
                    "histogram": [
                      {
                        "bin_start": 0.7304341705524617,
                        "bin_end": 110.35739075349721,
                        "count": 7
                      },
                      {
                        "bin_start": 110.35739075349721,
                        "bin_end": 219.98434733644197,
                        "count": 0
                      },
                      {
                        "bin_start": 219.98434733644197,
                        "bin_end": 329.6113039193867,
                        "count": 0
                      },
                      {
                        "bin_start": 329.6113039193867,
                        "bin_end": 439.2382605023315,
                        "count": 0
                      },
                      {
                        "bin_start": 439.2382605023315,
                        "bin_end": 548.8652170852763,
                        "count": 0
                      },
                      {
                        "bin_start": 548.8652170852763,
                        "bin_end": 658.492173668221,
                        "count": 0
                      },
                      {
                        "bin_start": 658.492173668221,
                        "bin_end": 768.1191302511658,
                        "count": 0
                      },
                      {
                        "bin_start": 768.1191302511658,
                        "bin_end": 877.7460868341105,
                        "count": 0
                      },
                      {
                        "bin_start": 877.7460868341105,
                        "bin_end": 987.3730434170553,
                        "count": 0
                      },
                      {
                        "bin_start": 987.3730434170553,
                        "bin_end": 1097,
                        "count": 1
                      }
                    ]
                  }
                },
                {
                  "name": "B&WL",
                  "dtype": "float64",
                  "stats": {
                    "unique_count": 8,
                    "nan_count": 0,
                    "min": 1.02,
                    "max": 1097,
                    "histogram": [
                      {
                        "bin_start": 1.02,
                        "bin_end": 110.618,
                        "count": 7
                      },
                      {
                        "bin_start": 110.618,
                        "bin_end": 220.216,
                        "count": 0
                      },
                      {
                        "bin_start": 220.216,
                        "bin_end": 329.81399999999996,
                        "count": 0
                      },
                      {
                        "bin_start": 329.81399999999996,
                        "bin_end": 439.412,
                        "count": 0
                      },
                      {
                        "bin_start": 439.412,
                        "bin_end": 549.01,
                        "count": 0
                      },
                      {
                        "bin_start": 549.01,
                        "bin_end": 658.608,
                        "count": 0
                      },
                      {
                        "bin_start": 658.608,
                        "bin_end": 768.206,
                        "count": 0
                      },
                      {
                        "bin_start": 768.206,
                        "bin_end": 877.804,
                        "count": 0
                      },
                      {
                        "bin_start": 877.804,
                        "bin_end": 987.4019999999999,
                        "count": 0
                      },
                      {
                        "bin_start": 987.4019999999999,
                        "bin_end": 1097,
                        "count": 1
                      }
                    ]
                  }
                },
                {
                  "name": "EXL",
                  "dtype": "float64",
                  "stats": {
                    "unique_count": 8,
                    "nan_count": 0,
                    "min": 1,
                    "max": 39416,
                    "histogram": [
                      {
                        "bin_start": 1,
                        "bin_end": 3942.5,
                        "count": 7
                      },
                      {
                        "bin_start": 3942.5,
                        "bin_end": 7884,
                        "count": 0
                      },
                      {
                        "bin_start": 7884,
                        "bin_end": 11825.5,
                        "count": 0
                      },
                      {
                        "bin_start": 11825.5,
                        "bin_end": 15767,
                        "count": 0
                      },
                      {
                        "bin_start": 15767,
                        "bin_end": 19708.5,
                        "count": 0
                      },
                      {
                        "bin_start": 19708.5,
                        "bin_end": 23650,
                        "count": 0
                      },
                      {
                        "bin_start": 23650,
                        "bin_end": 27591.5,
                        "count": 0
                      },
                      {
                        "bin_start": 27591.5,
                        "bin_end": 31533,
                        "count": 0
                      },
                      {
                        "bin_start": 31533,
                        "bin_end": 35474.5,
                        "count": 0
                      },
                      {
                        "bin_start": 35474.5,
                        "bin_end": 39416,
                        "count": 1
                      }
                    ]
                  }
                },
                {
                  "name": "PSW",
                  "dtype": "float64",
                  "stats": {
                    "unique_count": 8,
                    "nan_count": 0,
                    "min": 1,
                    "max": 37339,
                    "histogram": [
                      {
                        "bin_start": 1,
                        "bin_end": 3734.8,
                        "count": 7
                      },
                      {
                        "bin_start": 3734.8,
                        "bin_end": 7468.6,
                        "count": 0
                      },
                      {
                        "bin_start": 7468.6,
                        "bin_end": 11202.400000000001,
                        "count": 0
                      },
                      {
                        "bin_start": 11202.400000000001,
                        "bin_end": 14936.2,
                        "count": 0
                      },
                      {
                        "bin_start": 14936.2,
                        "bin_end": 18670,
                        "count": 0
                      },
                      {
                        "bin_start": 18670,
                        "bin_end": 22403.800000000003,
                        "count": 0
                      },
                      {
                        "bin_start": 22403.800000000003,
                        "bin_end": 26137.600000000002,
                        "count": 0
                      },
                      {
                        "bin_start": 26137.600000000002,
                        "bin_end": 29871.4,
                        "count": 0
                      },
                      {
                        "bin_start": 29871.4,
                        "bin_end": 33605.200000000004,
                        "count": 0
                      },
                      {
                        "bin_start": 33605.200000000004,
                        "bin_end": 37339,
                        "count": 1
                      }
                    ]
                  }
                },
                {
                  "name": "PSL",
                  "dtype": "float64",
                  "stats": {
                    "unique_count": 8,
                    "nan_count": 0,
                    "min": 1.01,
                    "max": 37339,
                    "histogram": [
                      {
                        "bin_start": 1.01,
                        "bin_end": 3734.809,
                        "count": 7
                      },
                      {
                        "bin_start": 3734.809,
                        "bin_end": 7468.608,
                        "count": 0
                      },
                      {
                        "bin_start": 7468.608,
                        "bin_end": 11202.407000000001,
                        "count": 0
                      },
                      {
                        "bin_start": 11202.407000000001,
                        "bin_end": 14936.206,
                        "count": 0
                      },
                      {
                        "bin_start": 14936.206,
                        "bin_end": 18670.004999999997,
                        "count": 0
                      },
                      {
                        "bin_start": 18670.004999999997,
                        "bin_end": 22403.804,
                        "count": 0
                      },
                      {
                        "bin_start": 22403.804,
                        "bin_end": 26137.603,
                        "count": 0
                      },
                      {
                        "bin_start": 26137.603,
                        "bin_end": 29871.402,
                        "count": 0
                      },
                      {
                        "bin_start": 29871.402,
                        "bin_end": 33605.201,
                        "count": 0
                      },
                      {
                        "bin_start": 33605.201,
                        "bin_end": 37339,
                        "count": 1
                      }
                    ]
                  }
                },
                {
                  "name": "WPts",
                  "dtype": "float64",
                  "stats": {
                    "unique_count": 8,
                    "nan_count": 0,
                    "min": 1,
                    "max": 36094,
                    "histogram": [
                      {
                        "bin_start": 1,
                        "bin_end": 3610.3,
                        "count": 6
                      },
                      {
                        "bin_start": 3610.3,
                        "bin_end": 7219.6,
                        "count": 0
                      },
                      {
                        "bin_start": 7219.6,
                        "bin_end": 10828.900000000001,
                        "count": 0
                      },
                      {
                        "bin_start": 10828.900000000001,
                        "bin_end": 14438.2,
                        "count": 0
                      },
                      {
                        "bin_start": 14438.2,
                        "bin_end": 18047.5,
                        "count": 1
                      },
                      {
                        "bin_start": 18047.5,
                        "bin_end": 21656.800000000003,
                        "count": 0
                      },
                      {
                        "bin_start": 21656.800000000003,
                        "bin_end": 25266.100000000002,
                        "count": 0
                      },
                      {
                        "bin_start": 25266.100000000002,
                        "bin_end": 28875.4,
                        "count": 0
                      },
                      {
                        "bin_start": 28875.4,
                        "bin_end": 32484.7,
                        "count": 0
                      },
                      {
                        "bin_start": 32484.7,
                        "bin_end": 36094,
                        "count": 1
                      }
                    ]
                  }
                },
                {
                  "name": "LPts",
                  "dtype": "float64",
                  "stats": {
                    "unique_count": 8,
                    "nan_count": 0,
                    "min": 1,
                    "max": 36035,
                    "histogram": [
                      {
                        "bin_start": 1,
                        "bin_end": 3604.4,
                        "count": 6
                      },
                      {
                        "bin_start": 3604.4,
                        "bin_end": 7207.8,
                        "count": 0
                      },
                      {
                        "bin_start": 7207.8,
                        "bin_end": 10811.2,
                        "count": 0
                      },
                      {
                        "bin_start": 10811.2,
                        "bin_end": 14414.6,
                        "count": 0
                      },
                      {
                        "bin_start": 14414.6,
                        "bin_end": 18018,
                        "count": 1
                      },
                      {
                        "bin_start": 18018,
                        "bin_end": 21621.4,
                        "count": 0
                      },
                      {
                        "bin_start": 21621.4,
                        "bin_end": 25224.8,
                        "count": 0
                      },
                      {
                        "bin_start": 25224.8,
                        "bin_end": 28828.2,
                        "count": 0
                      },
                      {
                        "bin_start": 28828.2,
                        "bin_end": 32431.600000000002,
                        "count": 0
                      },
                      {
                        "bin_start": 32431.600000000002,
                        "bin_end": 36035,
                        "count": 1
                      }
                    ]
                  }
                },
                {
                  "name": "UBW",
                  "dtype": "float64",
                  "stats": {
                    "unique_count": 8,
                    "nan_count": 0,
                    "min": 0.9962377486919288,
                    "max": 10671,
                    "histogram": [
                      {
                        "bin_start": 0.9962377486919288,
                        "bin_end": 1067.9966139738228,
                        "count": 7
                      },
                      {
                        "bin_start": 1067.9966139738228,
                        "bin_end": 2134.9969901989534,
                        "count": 0
                      },
                      {
                        "bin_start": 2134.9969901989534,
                        "bin_end": 3201.9973664240842,
                        "count": 0
                      },
                      {
                        "bin_start": 3201.9973664240842,
                        "bin_end": 4268.997742649215,
                        "count": 0
                      },
                      {
                        "bin_start": 4268.997742649215,
                        "bin_end": 5335.998118874346,
                        "count": 0
                      },
                      {
                        "bin_start": 5335.998118874346,
                        "bin_end": 6402.998495099477,
                        "count": 0
                      },
                      {
                        "bin_start": 6402.998495099477,
                        "bin_end": 7469.9988713246075,
                        "count": 0
                      },
                      {
                        "bin_start": 7469.9988713246075,
                        "bin_end": 8536.999247549738,
                        "count": 0
                      },
                      {
                        "bin_start": 8536.999247549738,
                        "bin_end": 9603.99962377487,
                        "count": 0
                      },
                      {
                        "bin_start": 9603.99962377487,
                        "bin_end": 10671,
                        "count": 1
                      }
                    ]
                  }
                },
                {
                  "name": "UBL",
                  "dtype": "float64",
                  "stats": {
                    "unique_count": 8,
                    "nan_count": 0,
                    "min": 1.02,
                    "max": 10671,
                    "histogram": [
                      {
                        "bin_start": 1.02,
                        "bin_end": 1068.018,
                        "count": 7
                      },
                      {
                        "bin_start": 1068.018,
                        "bin_end": 2135.016,
                        "count": 0
                      },
                      {
                        "bin_start": 2135.016,
                        "bin_end": 3202.014,
                        "count": 0
                      },
                      {
                        "bin_start": 3202.014,
                        "bin_end": 4269.012000000001,
                        "count": 0
                      },
                      {
                        "bin_start": 4269.012000000001,
                        "bin_end": 5336.01,
                        "count": 0
                      },
                      {
                        "bin_start": 5336.01,
                        "bin_end": 6403.008000000001,
                        "count": 0
                      },
                      {
                        "bin_start": 6403.008000000001,
                        "bin_end": 7470.006000000001,
                        "count": 0
                      },
                      {
                        "bin_start": 7470.006000000001,
                        "bin_end": 8537.004,
                        "count": 0
                      },
                      {
                        "bin_start": 8537.004,
                        "bin_end": 9604.002,
                        "count": 0
                      },
                      {
                        "bin_start": 9604.002,
                        "bin_end": 10671,
                        "count": 1
                      }
                    ]
                  }
                },
                {
                  "name": "LBW",
                  "dtype": "float64",
                  "stats": {
                    "unique_count": 8,
                    "nan_count": 0,
                    "min": 1,
                    "max": 28131,
                    "histogram": [
                      {
                        "bin_start": 1,
                        "bin_end": 2814,
                        "count": 7
                      },
                      {
                        "bin_start": 2814,
                        "bin_end": 5627,
                        "count": 0
                      },
                      {
                        "bin_start": 5627,
                        "bin_end": 8440,
                        "count": 0
                      },
                      {
                        "bin_start": 8440,
                        "bin_end": 11253,
                        "count": 0
                      },
                      {
                        "bin_start": 11253,
                        "bin_end": 14066,
                        "count": 0
                      },
                      {
                        "bin_start": 14066,
                        "bin_end": 16879,
                        "count": 0
                      },
                      {
                        "bin_start": 16879,
                        "bin_end": 19692,
                        "count": 0
                      },
                      {
                        "bin_start": 19692,
                        "bin_end": 22505,
                        "count": 0
                      },
                      {
                        "bin_start": 22505,
                        "bin_end": 25318,
                        "count": 0
                      },
                      {
                        "bin_start": 25318,
                        "bin_end": 28131,
                        "count": 1
                      }
                    ]
                  }
                },
                {
                  "name": "LBL",
                  "dtype": "float64",
                  "stats": {
                    "unique_count": 8,
                    "nan_count": 0,
                    "min": 1,
                    "max": 28142,
                    "histogram": [
                      {
                        "bin_start": 1,
                        "bin_end": 2815.1,
                        "count": 7
                      },
                      {
                        "bin_start": 2815.1,
                        "bin_end": 5629.2,
                        "count": 0
                      },
                      {
                        "bin_start": 5629.2,
                        "bin_end": 8443.3,
                        "count": 0
                      },
                      {
                        "bin_start": 8443.3,
                        "bin_end": 11257.4,
                        "count": 0
                      },
                      {
                        "bin_start": 11257.4,
                        "bin_end": 14071.5,
                        "count": 0
                      },
                      {
                        "bin_start": 14071.5,
                        "bin_end": 16885.6,
                        "count": 0
                      },
                      {
                        "bin_start": 16885.6,
                        "bin_end": 19699.7,
                        "count": 0
                      },
                      {
                        "bin_start": 19699.7,
                        "bin_end": 22513.8,
                        "count": 0
                      },
                      {
                        "bin_start": 22513.8,
                        "bin_end": 25327.899999999998,
                        "count": 0
                      },
                      {
                        "bin_start": 25327.899999999998,
                        "bin_end": 28142,
                        "count": 1
                      }
                    ]
                  }
                },
                {
                  "name": "SJW",
                  "dtype": "float64",
                  "stats": {
                    "unique_count": 8,
                    "nan_count": 0,
                    "min": 1,
                    "max": 15572,
                    "histogram": [
                      {
                        "bin_start": 1,
                        "bin_end": 1558.1,
                        "count": 7
                      },
                      {
                        "bin_start": 1558.1,
                        "bin_end": 3115.2,
                        "count": 0
                      },
                      {
                        "bin_start": 3115.2,
                        "bin_end": 4672.299999999999,
                        "count": 0
                      },
                      {
                        "bin_start": 4672.299999999999,
                        "bin_end": 6229.4,
                        "count": 0
                      },
                      {
                        "bin_start": 6229.4,
                        "bin_end": 7786.5,
                        "count": 0
                      },
                      {
                        "bin_start": 7786.5,
                        "bin_end": 9343.599999999999,
                        "count": 0
                      },
                      {
                        "bin_start": 9343.599999999999,
                        "bin_end": 10900.699999999999,
                        "count": 0
                      },
                      {
                        "bin_start": 10900.699999999999,
                        "bin_end": 12457.8,
                        "count": 0
                      },
                      {
                        "bin_start": 12457.8,
                        "bin_end": 14014.9,
                        "count": 0
                      },
                      {
                        "bin_start": 14014.9,
                        "bin_end": 15572,
                        "count": 1
                      }
                    ]
                  }
                },
                {
                  "name": "SJL",
                  "dtype": "float64",
                  "stats": {
                    "unique_count": 8,
                    "nan_count": 0,
                    "min": 1.01,
                    "max": 15579,
                    "histogram": [
                      {
                        "bin_start": 1.01,
                        "bin_end": 1558.809,
                        "count": 7
                      },
                      {
                        "bin_start": 1558.809,
                        "bin_end": 3116.608,
                        "count": 0
                      },
                      {
                        "bin_start": 3116.608,
                        "bin_end": 4674.407,
                        "count": 0
                      },
                      {
                        "bin_start": 4674.407,
                        "bin_end": 6232.206,
                        "count": 0
                      },
                      {
                        "bin_start": 6232.206,
                        "bin_end": 7790.005,
                        "count": 0
                      },
                      {
                        "bin_start": 7790.005,
                        "bin_end": 9347.804,
                        "count": 0
                      },
                      {
                        "bin_start": 9347.804,
                        "bin_end": 10905.603000000001,
                        "count": 0
                      },
                      {
                        "bin_start": 10905.603000000001,
                        "bin_end": 12463.402,
                        "count": 0
                      },
                      {
                        "bin_start": 12463.402,
                        "bin_end": 14021.201,
                        "count": 0
                      },
                      {
                        "bin_start": 14021.201,
                        "bin_end": 15579,
                        "count": 1
                      }
                    ]
                  }
                },
                {
                  "name": "MaxW",
                  "dtype": "float64",
                  "stats": {
                    "unique_count": 8,
                    "nan_count": 0,
                    "min": 1.01,
                    "max": 22745,
                    "histogram": [
                      {
                        "bin_start": 1.01,
                        "bin_end": 2275.4090000000006,
                        "count": 7
                      },
                      {
                        "bin_start": 2275.4090000000006,
                        "bin_end": 4549.808000000001,
                        "count": 0
                      },
                      {
                        "bin_start": 4549.808000000001,
                        "bin_end": 6824.207000000001,
                        "count": 0
                      },
                      {
                        "bin_start": 6824.207000000001,
                        "bin_end": 9098.606000000002,
                        "count": 0
                      },
                      {
                        "bin_start": 9098.606000000002,
                        "bin_end": 11373.005000000003,
                        "count": 0
                      },
                      {
                        "bin_start": 11373.005000000003,
                        "bin_end": 13647.404000000002,
                        "count": 0
                      },
                      {
                        "bin_start": 13647.404000000002,
                        "bin_end": 15921.803000000002,
                        "count": 0
                      },
                      {
                        "bin_start": 15921.803000000002,
                        "bin_end": 18196.202,
                        "count": 0
                      },
                      {
                        "bin_start": 18196.202,
                        "bin_end": 20470.601000000002,
                        "count": 0
                      },
                      {
                        "bin_start": 20470.601000000002,
                        "bin_end": 22745,
                        "count": 1
                      }
                    ]
                  }
                },
                {
                  "name": "MaxL",
                  "dtype": "float64",
                  "stats": {
                    "unique_count": 8,
                    "nan_count": 0,
                    "min": 1.01,
                    "max": 42586,
                    "histogram": [
                      {
                        "bin_start": 1.01,
                        "bin_end": 4259.509,
                        "count": 6
                      },
                      {
                        "bin_start": 4259.509,
                        "bin_end": 8518.008,
                        "count": 0
                      },
                      {
                        "bin_start": 8518.008,
                        "bin_end": 12776.507,
                        "count": 0
                      },
                      {
                        "bin_start": 12776.507,
                        "bin_end": 17035.005999999998,
                        "count": 0
                      },
                      {
                        "bin_start": 17035.005999999998,
                        "bin_end": 21293.504999999997,
                        "count": 0
                      },
                      {
                        "bin_start": 21293.504999999997,
                        "bin_end": 25552.003999999997,
                        "count": 1
                      },
                      {
                        "bin_start": 25552.003999999997,
                        "bin_end": 29810.502999999997,
                        "count": 0
                      },
                      {
                        "bin_start": 29810.502999999997,
                        "bin_end": 34069.002,
                        "count": 0
                      },
                      {
                        "bin_start": 34069.002,
                        "bin_end": 38327.501,
                        "count": 0
                      },
                      {
                        "bin_start": 38327.501,
                        "bin_end": 42586,
                        "count": 1
                      }
                    ]
                  }
                },
                {
                  "name": "AvgW",
                  "dtype": "float64",
                  "stats": {
                    "unique_count": 8,
                    "nan_count": 0,
                    "min": 1.01,
                    "max": 22745,
                    "histogram": [
                      {
                        "bin_start": 1.01,
                        "bin_end": 2275.4090000000006,
                        "count": 7
                      },
                      {
                        "bin_start": 2275.4090000000006,
                        "bin_end": 4549.808000000001,
                        "count": 0
                      },
                      {
                        "bin_start": 4549.808000000001,
                        "bin_end": 6824.207000000001,
                        "count": 0
                      },
                      {
                        "bin_start": 6824.207000000001,
                        "bin_end": 9098.606000000002,
                        "count": 0
                      },
                      {
                        "bin_start": 9098.606000000002,
                        "bin_end": 11373.005000000003,
                        "count": 0
                      },
                      {
                        "bin_start": 11373.005000000003,
                        "bin_end": 13647.404000000002,
                        "count": 0
                      },
                      {
                        "bin_start": 13647.404000000002,
                        "bin_end": 15921.803000000002,
                        "count": 0
                      },
                      {
                        "bin_start": 15921.803000000002,
                        "bin_end": 18196.202,
                        "count": 0
                      },
                      {
                        "bin_start": 18196.202,
                        "bin_end": 20470.601000000002,
                        "count": 0
                      },
                      {
                        "bin_start": 20470.601000000002,
                        "bin_end": 22745,
                        "count": 1
                      }
                    ]
                  }
                },
                {
                  "name": "AvgL",
                  "dtype": "float64",
                  "stats": {
                    "unique_count": 8,
                    "nan_count": 0,
                    "min": 1.01,
                    "max": 22745,
                    "histogram": [
                      {
                        "bin_start": 1.01,
                        "bin_end": 2275.4090000000006,
                        "count": 7
                      },
                      {
                        "bin_start": 2275.4090000000006,
                        "bin_end": 4549.808000000001,
                        "count": 0
                      },
                      {
                        "bin_start": 4549.808000000001,
                        "bin_end": 6824.207000000001,
                        "count": 0
                      },
                      {
                        "bin_start": 6824.207000000001,
                        "bin_end": 9098.606000000002,
                        "count": 0
                      },
                      {
                        "bin_start": 9098.606000000002,
                        "bin_end": 11373.005000000003,
                        "count": 0
                      },
                      {
                        "bin_start": 11373.005000000003,
                        "bin_end": 13647.404000000002,
                        "count": 0
                      },
                      {
                        "bin_start": 13647.404000000002,
                        "bin_end": 15921.803000000002,
                        "count": 0
                      },
                      {
                        "bin_start": 15921.803000000002,
                        "bin_end": 18196.202,
                        "count": 0
                      },
                      {
                        "bin_start": 18196.202,
                        "bin_end": 20470.601000000002,
                        "count": 0
                      },
                      {
                        "bin_start": 20470.601000000002,
                        "bin_end": 22745,
                        "count": 1
                      }
                    ]
                  }
                },
                {
                  "name": "_deepnote_index_column",
                  "dtype": "object"
                }
              ],
              "rows_top": [
                {
                  "ATP": 52298,
                  "Best of": 52298,
                  "W1": 52035,
                  "L1": 52037,
                  "W4": 4731,
                  "L4": 4731,
                  "W5": 1791,
                  "L5": 1791,
                  "Wsets": 52074,
                  "CBW": 17506,
                  "CBL": 17506,
                  "GBW": 5055,
                  "GBL": 5055,
                  "IWW": 13358,
                  "IWL": 13358,
                  "SBW": 5424,
                  "SBL": 5424,
                  "B365W": 43643,
                  "B365L": 43666,
                  "B&WW": 1097,
                  "B&WL": 1097,
                  "EXL": 39416,
                  "PSW": 37339,
                  "PSL": 37339,
                  "WPts": 36094,
                  "LPts": 36035,
                  "UBW": 10671,
                  "UBL": 10671,
                  "LBW": 28131,
                  "LBL": 28142,
                  "SJW": 15572,
                  "SJL": 15579,
                  "MaxW": 22745,
                  "MaxL": 22745,
                  "AvgW": 22745,
                  "AvgL": 22745,
                  "_deepnote_index_column": "count"
                },
                {
                  "ATP": 33.22253241041722,
                  "Best of": 3.3723660560633295,
                  "W1": 5.794330738925723,
                  "L1": 4.05622922151546,
                  "W4": 5.777002747833439,
                  "L4": 3.8634538152610443,
                  "W5": 6.637632607481854,
                  "L5": 3.756002233389168,
                  "Wsets": 2.1417598033567615,
                  "CBW": 1.8120797440877414,
                  "CBL": 3.0006580600936825,
                  "GBW": 1.7387418397626113,
                  "GBL": 2.401363006923838,
                  "IWW": 1.6715849678095522,
                  "IWL": 2.387132055696961,
                  "SBW": 1.7930352138643066,
                  "SBL": 2.672063974926254,
                  "B365W": 1.8237682102513577,
                  "B365L": 3.551804836715064,
                  "B&WW": 1.7286326344576117,
                  "B&WL": 2.547347310847767,
                  "EXL": 3.262179571747514,
                  "PSW": 1.9267421194997192,
                  "PSL": 4.186818125820189,
                  "WPts": 1831.8916440405608,
                  "LPts": 1047.5446649091161,
                  "UBW": 1.8158665542123513,
                  "UBL": 3.5424786805360324,
                  "LBW": 1.810226014005901,
                  "LBL": 3.451460983583256,
                  "SJW": 1.796537631646545,
                  "SJL": 3.5579425508697606,
                  "MaxW": 1.9986102440096725,
                  "MaxL": 8.326076060672674,
                  "AvgW": 1.8348212794020664,
                  "AvgL": 3.5944480545174766,
                  "_deepnote_index_column": "mean"
                },
                {
                  "ATP": 18.115493448686728,
                  "Best of": 0.7785160380669638,
                  "W1": 1.23957719848752,
                  "L1": 1.8452063725616035,
                  "W4": 1.274712412035065,
                  "L4": 1.8956828200019251,
                  "W5": 2.2905957316229886,
                  "L5": 2.817183205905762,
                  "Wsets": 0.4603105445993273,
                  "CBW": 0.8682542953723733,
                  "CBL": 2.0327912888022235,
                  "GBW": 0.6144544036035657,
                  "GBL": 1.0573051239940339,
                  "IWW": 0.5853995606282124,
                  "IWL": 1.0488181004017378,
                  "SBW": 0.7510263767188283,
                  "SBL": 1.4246722820848012,
                  "B365W": 1.1008056719015245,
                  "B365L": 3.5275639502013383,
                  "B&WW": 0.7304341705524617,
                  "B&WL": 1.3303858245716993,
                  "EXL": 2.4496274337801,
                  "PSW": 1.3347973402839204,
                  "PSL": 5.5811267499177335,
                  "WPts": 2294.3074893070752,
                  "LPts": 1213.7731684538992,
                  "UBW": 0.9962377486919288,
                  "UBL": 3.6463156552116285,
                  "LBW": 1.031690505021513,
                  "LBL": 3.075889177260772,
                  "SJW": 1.0042730831778381,
                  "SJL": 3.272510304354008,
                  "MaxW": 1.6289824218345705,
                  "MaxL": 397.2356661627662,
                  "AvgW": 1.107883957498554,
                  "AvgL": 3.282609607432499,
                  "_deepnote_index_column": "std"
                },
                {
                  "ATP": 1,
                  "Best of": 3,
                  "W1": 0,
                  "L1": 0,
                  "W4": 0,
                  "L4": 0,
                  "W5": 0,
                  "L5": 0,
                  "Wsets": 0,
                  "CBW": 1,
                  "CBL": 1.02,
                  "GBW": 1.01,
                  "GBL": 1.03,
                  "IWW": 1.01,
                  "IWL": 1.03,
                  "SBW": 0,
                  "SBL": 0,
                  "B365W": 1,
                  "B365L": 1.002,
                  "B&WW": 1.01,
                  "B&WL": 1.02,
                  "EXL": 1,
                  "PSW": 1,
                  "PSL": 1.01,
                  "WPts": 1,
                  "LPts": 1,
                  "UBW": 1.01,
                  "UBL": 1.02,
                  "LBW": 1,
                  "LBL": 1,
                  "SJW": 1,
                  "SJL": 1.01,
                  "MaxW": 1.01,
                  "MaxL": 1.01,
                  "AvgW": 1.01,
                  "AvgL": 1.01,
                  "_deepnote_index_column": "min"
                },
                {
                  "ATP": 19,
                  "Best of": 3,
                  "W1": 6,
                  "L1": 3,
                  "W4": 6,
                  "L4": 2,
                  "W5": 6,
                  "L5": 2,
                  "Wsets": 2,
                  "CBW": 1.28,
                  "CBL": 1.72,
                  "GBW": 1.33,
                  "GBL": 1.6549999999999998,
                  "IWW": 1.3,
                  "IWL": 1.65,
                  "SBW": 1.333,
                  "SBL": 1.67,
                  "B365W": 1.222,
                  "B365L": 1.72,
                  "B&WW": 1.25,
                  "B&WL": 1.6,
                  "EXL": 1.75,
                  "PSW": 1.27,
                  "PSL": 1.794,
                  "WPts": 640,
                  "LPts": 496,
                  "UBW": 1.24,
                  "UBL": 1.75,
                  "LBW": 1.25,
                  "LBL": 1.73,
                  "SJW": 1.22,
                  "SJL": 1.73,
                  "MaxW": 1.29,
                  "MaxL": 1.85,
                  "AvgW": 1.24,
                  "AvgL": 1.74,
                  "_deepnote_index_column": "25%"
                },
                {
                  "ATP": 33,
                  "Best of": 3,
                  "W1": 6,
                  "L1": 4,
                  "W4": 6,
                  "L4": 4,
                  "W5": 6,
                  "L5": 3,
                  "Wsets": 2,
                  "CBW": 1.55,
                  "CBL": 2.375,
                  "GBW": 1.55,
                  "GBL": 2.1,
                  "IWW": 1.5,
                  "IWL": 2.1,
                  "SBW": 1.571,
                  "SBL": 2.25,
                  "B365W": 1.5,
                  "B365L": 2.5,
                  "B&WW": 1.5,
                  "B&WL": 2.15,
                  "EXL": 2.46,
                  "PSW": 1.55,
                  "PSL": 2.66,
                  "WPts": 1007,
                  "LPts": 736,
                  "UBW": 1.5,
                  "UBL": 2.5,
                  "LBW": 1.5,
                  "LBL": 2.5,
                  "SJW": 1.5,
                  "SJL": 2.63,
                  "MaxW": 1.57,
                  "MaxL": 2.78,
                  "AvgW": 1.5,
                  "AvgL": 2.55,
                  "_deepnote_index_column": "50%"
                },
                {
                  "ATP": 49,
                  "Best of": 3,
                  "W1": 6,
                  "L1": 6,
                  "W4": 6,
                  "L4": 6,
                  "W5": 7,
                  "L5": 5,
                  "Wsets": 2,
                  "CBW": 2.05,
                  "CBL": 3.4,
                  "GBW": 1.98,
                  "GBL": 2.8,
                  "IWW": 1.85,
                  "IWL": 2.9,
                  "SBW": 2.1,
                  "SBL": 3,
                  "B365W": 2.075,
                  "B365L": 4,
                  "B&WW": 1.95,
                  "B&WL": 3.1,
                  "EXL": 3.75,
                  "PSW": 2.14,
                  "PSL": 4.24,
                  "WPts": 1895,
                  "LPts": 1141,
                  "UBW": 2.03,
                  "UBL": 3.85,
                  "LBW": 2,
                  "LBL": 4,
                  "SJW": 2,
                  "SJL": 4,
                  "MaxW": 2.2,
                  "MaxL": 4.54,
                  "AvgW": 2.06,
                  "AvgL": 3.99,
                  "_deepnote_index_column": "75%"
                },
                {
                  "ATP": 69,
                  "Best of": 5,
                  "W1": 7,
                  "L1": 7,
                  "W4": 7,
                  "L4": 7,
                  "W5": 70,
                  "L5": 68,
                  "Wsets": 3,
                  "CBW": 14,
                  "CBL": 25,
                  "GBW": 7.5,
                  "GBL": 11,
                  "IWW": 6,
                  "IWL": 10,
                  "SBW": 9,
                  "SBL": 13,
                  "B365W": 29,
                  "B365L": 101,
                  "B&WW": 7.5,
                  "B&WL": 9,
                  "EXL": 40,
                  "PSW": 46,
                  "PSL": 121,
                  "WPts": 16950,
                  "LPts": 16950,
                  "UBW": 18,
                  "UBL": 60,
                  "LBW": 26,
                  "LBL": 51,
                  "SJW": 19,
                  "SJL": 81,
                  "MaxW": 76,
                  "MaxL": 42586,
                  "AvgW": 23.45,
                  "AvgL": 36.44,
                  "_deepnote_index_column": "max"
                }
              ],
              "rows_bottom": null
            },
            "text/plain": "                ATP       Best of            W1            L1           W4  \\\ncount  52298.000000  52298.000000  52035.000000  52037.000000  4731.000000   \nmean      33.222532      3.372366      5.794331      4.056229     5.777003   \nstd       18.115493      0.778516      1.239577      1.845206     1.274712   \nmin        1.000000      3.000000      0.000000      0.000000     0.000000   \n25%       19.000000      3.000000      6.000000      3.000000     6.000000   \n50%       33.000000      3.000000      6.000000      4.000000     6.000000   \n75%       49.000000      3.000000      6.000000      6.000000     6.000000   \nmax       69.000000      5.000000      7.000000      7.000000     7.000000   \n\n                L4           W5           L5         Wsets           CBW  ...  \\\ncount  4731.000000  1791.000000  1791.000000  52074.000000  17506.000000  ...   \nmean      3.863454     6.637633     3.756002      2.141760      1.812080  ...   \nstd       1.895683     2.290596     2.817183      0.460311      0.868254  ...   \nmin       0.000000     0.000000     0.000000      0.000000      1.000000  ...   \n25%       2.000000     6.000000     2.000000      2.000000      1.280000  ...   \n50%       4.000000     6.000000     3.000000      2.000000      1.550000  ...   \n75%       6.000000     7.000000     5.000000      2.000000      2.050000  ...   \nmax       7.000000    70.000000    68.000000      3.000000     14.000000  ...   \n\n                UBW           UBL           LBW           LBL           SJW  \\\ncount  10671.000000  10671.000000  28131.000000  28142.000000  15572.000000   \nmean       1.815867      3.542479      1.810226      3.451461      1.796538   \nstd        0.996238      3.646316      1.031691      3.075889      1.004273   \nmin        1.010000      1.020000      1.000000      1.000000      1.000000   \n25%        1.240000      1.750000      1.250000      1.730000      1.220000   \n50%        1.500000      2.500000      1.500000      2.500000      1.500000   \n75%        2.030000      3.850000      2.000000      4.000000      2.000000   \nmax       18.000000     60.000000     26.000000     51.000000     19.000000   \n\n                SJL          MaxW          MaxL          AvgW          AvgL  \ncount  15579.000000  22745.000000  22745.000000  22745.000000  22745.000000  \nmean       3.557943      1.998610      8.326076      1.834821      3.594448  \nstd        3.272510      1.628982    397.235666      1.107884      3.282610  \nmin        1.010000      1.010000      1.010000      1.010000      1.010000  \n25%        1.730000      1.290000      1.850000      1.240000      1.740000  \n50%        2.630000      1.570000      2.780000      1.500000      2.550000  \n75%        4.000000      2.200000      4.540000      2.060000      3.990000  \nmax       81.000000     76.000000  42586.000000     23.450000     36.440000  \n\n[8 rows x 36 columns]",
            "text/html": "<div>\n<style scoped>\n    .dataframe tbody tr th:only-of-type {\n        vertical-align: middle;\n    }\n\n    .dataframe tbody tr th {\n        vertical-align: top;\n    }\n\n    .dataframe thead th {\n        text-align: right;\n    }\n</style>\n<table border=\"1\" class=\"dataframe\">\n  <thead>\n    <tr style=\"text-align: right;\">\n      <th></th>\n      <th>ATP</th>\n      <th>Best of</th>\n      <th>W1</th>\n      <th>L1</th>\n      <th>W4</th>\n      <th>L4</th>\n      <th>W5</th>\n      <th>L5</th>\n      <th>Wsets</th>\n      <th>CBW</th>\n      <th>...</th>\n      <th>UBW</th>\n      <th>UBL</th>\n      <th>LBW</th>\n      <th>LBL</th>\n      <th>SJW</th>\n      <th>SJL</th>\n      <th>MaxW</th>\n      <th>MaxL</th>\n      <th>AvgW</th>\n      <th>AvgL</th>\n    </tr>\n  </thead>\n  <tbody>\n    <tr>\n      <th>count</th>\n      <td>52298.000000</td>\n      <td>52298.000000</td>\n      <td>52035.000000</td>\n      <td>52037.000000</td>\n      <td>4731.000000</td>\n      <td>4731.000000</td>\n      <td>1791.000000</td>\n      <td>1791.000000</td>\n      <td>52074.000000</td>\n      <td>17506.000000</td>\n      <td>...</td>\n      <td>10671.000000</td>\n      <td>10671.000000</td>\n      <td>28131.000000</td>\n      <td>28142.000000</td>\n      <td>15572.000000</td>\n      <td>15579.000000</td>\n      <td>22745.000000</td>\n      <td>22745.000000</td>\n      <td>22745.000000</td>\n      <td>22745.000000</td>\n    </tr>\n    <tr>\n      <th>mean</th>\n      <td>33.222532</td>\n      <td>3.372366</td>\n      <td>5.794331</td>\n      <td>4.056229</td>\n      <td>5.777003</td>\n      <td>3.863454</td>\n      <td>6.637633</td>\n      <td>3.756002</td>\n      <td>2.141760</td>\n      <td>1.812080</td>\n      <td>...</td>\n      <td>1.815867</td>\n      <td>3.542479</td>\n      <td>1.810226</td>\n      <td>3.451461</td>\n      <td>1.796538</td>\n      <td>3.557943</td>\n      <td>1.998610</td>\n      <td>8.326076</td>\n      <td>1.834821</td>\n      <td>3.594448</td>\n    </tr>\n    <tr>\n      <th>std</th>\n      <td>18.115493</td>\n      <td>0.778516</td>\n      <td>1.239577</td>\n      <td>1.845206</td>\n      <td>1.274712</td>\n      <td>1.895683</td>\n      <td>2.290596</td>\n      <td>2.817183</td>\n      <td>0.460311</td>\n      <td>0.868254</td>\n      <td>...</td>\n      <td>0.996238</td>\n      <td>3.646316</td>\n      <td>1.031691</td>\n      <td>3.075889</td>\n      <td>1.004273</td>\n      <td>3.272510</td>\n      <td>1.628982</td>\n      <td>397.235666</td>\n      <td>1.107884</td>\n      <td>3.282610</td>\n    </tr>\n    <tr>\n      <th>min</th>\n      <td>1.000000</td>\n      <td>3.000000</td>\n      <td>0.000000</td>\n      <td>0.000000</td>\n      <td>0.000000</td>\n      <td>0.000000</td>\n      <td>0.000000</td>\n      <td>0.000000</td>\n      <td>0.000000</td>\n      <td>1.000000</td>\n      <td>...</td>\n      <td>1.010000</td>\n      <td>1.020000</td>\n      <td>1.000000</td>\n      <td>1.000000</td>\n      <td>1.000000</td>\n      <td>1.010000</td>\n      <td>1.010000</td>\n      <td>1.010000</td>\n      <td>1.010000</td>\n      <td>1.010000</td>\n    </tr>\n    <tr>\n      <th>25%</th>\n      <td>19.000000</td>\n      <td>3.000000</td>\n      <td>6.000000</td>\n      <td>3.000000</td>\n      <td>6.000000</td>\n      <td>2.000000</td>\n      <td>6.000000</td>\n      <td>2.000000</td>\n      <td>2.000000</td>\n      <td>1.280000</td>\n      <td>...</td>\n      <td>1.240000</td>\n      <td>1.750000</td>\n      <td>1.250000</td>\n      <td>1.730000</td>\n      <td>1.220000</td>\n      <td>1.730000</td>\n      <td>1.290000</td>\n      <td>1.850000</td>\n      <td>1.240000</td>\n      <td>1.740000</td>\n    </tr>\n    <tr>\n      <th>50%</th>\n      <td>33.000000</td>\n      <td>3.000000</td>\n      <td>6.000000</td>\n      <td>4.000000</td>\n      <td>6.000000</td>\n      <td>4.000000</td>\n      <td>6.000000</td>\n      <td>3.000000</td>\n      <td>2.000000</td>\n      <td>1.550000</td>\n      <td>...</td>\n      <td>1.500000</td>\n      <td>2.500000</td>\n      <td>1.500000</td>\n      <td>2.500000</td>\n      <td>1.500000</td>\n      <td>2.630000</td>\n      <td>1.570000</td>\n      <td>2.780000</td>\n      <td>1.500000</td>\n      <td>2.550000</td>\n    </tr>\n    <tr>\n      <th>75%</th>\n      <td>49.000000</td>\n      <td>3.000000</td>\n      <td>6.000000</td>\n      <td>6.000000</td>\n      <td>6.000000</td>\n      <td>6.000000</td>\n      <td>7.000000</td>\n      <td>5.000000</td>\n      <td>2.000000</td>\n      <td>2.050000</td>\n      <td>...</td>\n      <td>2.030000</td>\n      <td>3.850000</td>\n      <td>2.000000</td>\n      <td>4.000000</td>\n      <td>2.000000</td>\n      <td>4.000000</td>\n      <td>2.200000</td>\n      <td>4.540000</td>\n      <td>2.060000</td>\n      <td>3.990000</td>\n    </tr>\n    <tr>\n      <th>max</th>\n      <td>69.000000</td>\n      <td>5.000000</td>\n      <td>7.000000</td>\n      <td>7.000000</td>\n      <td>7.000000</td>\n      <td>7.000000</td>\n      <td>70.000000</td>\n      <td>68.000000</td>\n      <td>3.000000</td>\n      <td>14.000000</td>\n      <td>...</td>\n      <td>18.000000</td>\n      <td>60.000000</td>\n      <td>26.000000</td>\n      <td>51.000000</td>\n      <td>19.000000</td>\n      <td>81.000000</td>\n      <td>76.000000</td>\n      <td>42586.000000</td>\n      <td>23.450000</td>\n      <td>36.440000</td>\n    </tr>\n  </tbody>\n</table>\n<p>8 rows × 36 columns</p>\n</div>"
          },
          "metadata": {}
        }
      ],
      "execution_count": null
    },
    {
      "cell_type": "markdown",
      "source": "This simple check shows two things :\n* Some data types seem to be causing issues, and\n* Some columns seem to be missing some data.\n\nThese are both potential issues for the modeling phase, so we need to verify this.",
      "metadata": {
        "tags": [],
        "cell_id": "00009-2154f8de-57a3-4249-96cd-baa9e9baddca",
        "deepnote_cell_type": "markdown"
      }
    },
    {
      "cell_type": "code",
      "source": "df_atp.dtypes",
      "metadata": {
        "tags": [],
        "cell_id": "00010-5bc310dc-42bb-4c32-89e4-2bd8a5b4d888",
        "deepnote_to_be_reexecuted": false,
        "source_hash": "96b89600",
        "execution_millis": 5,
        "execution_start": 1616727386092,
        "deepnote_cell_type": "code"
      },
      "outputs": [
        {
          "output_type": "execute_result",
          "execution_count": 8,
          "data": {
            "text/plain": "ATP                    int64\nLocation              object\nTournament            object\nDate          datetime64[ns]\nSeries                object\nCourt                 object\nSurface               object\nRound                 object\nBest of                int64\nWinner                object\nLoser                 object\nWRank                 object\nLRank                 object\nW1                   float64\nL1                   float64\nW2                    object\nL2                    object\nW3                    object\nL3                    object\nW4                   float64\nL4                   float64\nW5                   float64\nL5                   float64\nWsets                float64\nLsets                 object\nComment               object\nCBW                  float64\nCBL                  float64\nGBW                  float64\nGBL                  float64\nIWW                  float64\nIWL                  float64\nSBW                  float64\nSBL                  float64\nB365W                float64\nB365L                float64\nB&WW                 float64\nB&WL                 float64\nEXW                   object\nEXL                  float64\nPSW                  float64\nPSL                  float64\nWPts                 float64\nLPts                 float64\nUBW                  float64\nUBL                  float64\nLBW                  float64\nLBL                  float64\nSJW                  float64\nSJL                  float64\nMaxW                 float64\nMaxL                 float64\nAvgW                 float64\nAvgL                 float64\ndtype: object"
          },
          "metadata": {}
        }
      ],
      "execution_count": null
    },
    {
      "cell_type": "markdown",
      "source": "Our assumption was right. We can begin by casting all columns that should be floats into floats.",
      "metadata": {
        "tags": [],
        "cell_id": "00011-ce96f46c-37a9-4d0e-8011-0117fea1a688",
        "deepnote_cell_type": "markdown"
      }
    },
    {
      "cell_type": "code",
      "source": "# Looping for all the sets\nfor i in range(1, 6):\n    # Converting void value into nan float\n    df_atp.loc[df_atp[f'L{i}'] == ' ', f'L{i}'] = float('nan')\n    df_atp.loc[df_atp[f'W{i}'] == ' ', f'W{i}'] = float('nan')\n\n    # Converting object type to float\n    df_atp[f'L{i}'] = df_atp[f'L{i}'].astype(float)\n    df_atp[f'W{i}'] = df_atp[f'W{i}'].astype(float)\n\n# Converting object that should be float into float\ndf_atp['Wsets'] = df_atp['Wsets'].astype(float)\ndf_atp['Lsets'] = pd.DataFrame(pd.to_numeric(df_atp['Lsets'], errors='coerce'))['Lsets']\ndf_atp['WRank'] = pd.DataFrame(pd.to_numeric(df_atp['WRank'], errors='coerce'))['WRank']\ndf_atp['LRank'] = pd.DataFrame(pd.to_numeric(df_atp['LRank'], errors='coerce'))['LRank']\n",
      "metadata": {
        "tags": [],
        "cell_id": "00014-09671784-e22b-4ac0-97d3-9a2a21059c7d",
        "deepnote_to_be_reexecuted": false,
        "source_hash": "b3ee3ea1",
        "execution_millis": 75,
        "execution_start": 1616727386104,
        "deepnote_cell_type": "code"
      },
      "outputs": [],
      "execution_count": null
    },
    {
      "cell_type": "markdown",
      "source": "We should now be able to start computations with the data.\n\nHowever, let's check one more time.",
      "metadata": {
        "tags": [],
        "cell_id": "00015-cc78cc9d-6076-46dd-99bd-5ee1be367cf7",
        "deepnote_cell_type": "markdown"
      }
    },
    {
      "cell_type": "code",
      "source": "df_atp.describe()",
      "metadata": {
        "tags": [],
        "cell_id": "00016-5b9ba5ec-f55f-44e6-8c63-7cad6a4134ee",
        "deepnote_to_be_reexecuted": false,
        "source_hash": "d0c025ce",
        "execution_millis": 329,
        "execution_start": 1616727386185,
        "deepnote_cell_type": "code"
      },
      "outputs": [
        {
          "output_type": "execute_result",
          "execution_count": 10,
          "data": {
            "application/vnd.deepnote.dataframe.v2+json": {
              "row_count": 8,
              "column_count": 43,
              "columns": [
                {
                  "name": "ATP",
                  "dtype": "float64",
                  "stats": {
                    "unique_count": 8,
                    "nan_count": 0,
                    "min": 1,
                    "max": 52298,
                    "histogram": [
                      {
                        "bin_start": 1,
                        "bin_end": 5230.7,
                        "count": 7
                      },
                      {
                        "bin_start": 5230.7,
                        "bin_end": 10460.4,
                        "count": 0
                      },
                      {
                        "bin_start": 10460.4,
                        "bin_end": 15690.099999999999,
                        "count": 0
                      },
                      {
                        "bin_start": 15690.099999999999,
                        "bin_end": 20919.8,
                        "count": 0
                      },
                      {
                        "bin_start": 20919.8,
                        "bin_end": 26149.5,
                        "count": 0
                      },
                      {
                        "bin_start": 26149.5,
                        "bin_end": 31379.199999999997,
                        "count": 0
                      },
                      {
                        "bin_start": 31379.199999999997,
                        "bin_end": 36608.9,
                        "count": 0
                      },
                      {
                        "bin_start": 36608.9,
                        "bin_end": 41838.6,
                        "count": 0
                      },
                      {
                        "bin_start": 41838.6,
                        "bin_end": 47068.299999999996,
                        "count": 0
                      },
                      {
                        "bin_start": 47068.299999999996,
                        "bin_end": 52298,
                        "count": 1
                      }
                    ]
                  }
                },
                {
                  "name": "Best of",
                  "dtype": "float64",
                  "stats": {
                    "unique_count": 5,
                    "nan_count": 0,
                    "min": 0.7785160380669638,
                    "max": 52298,
                    "histogram": [
                      {
                        "bin_start": 0.7785160380669638,
                        "bin_end": 5230.50066443426,
                        "count": 7
                      },
                      {
                        "bin_start": 5230.50066443426,
                        "bin_end": 10460.222812830452,
                        "count": 0
                      },
                      {
                        "bin_start": 10460.222812830452,
                        "bin_end": 15689.944961226645,
                        "count": 0
                      },
                      {
                        "bin_start": 15689.944961226645,
                        "bin_end": 20919.66710962284,
                        "count": 0
                      },
                      {
                        "bin_start": 20919.66710962284,
                        "bin_end": 26149.38925801903,
                        "count": 0
                      },
                      {
                        "bin_start": 26149.38925801903,
                        "bin_end": 31379.111406415224,
                        "count": 0
                      },
                      {
                        "bin_start": 31379.111406415224,
                        "bin_end": 36608.83355481142,
                        "count": 0
                      },
                      {
                        "bin_start": 36608.83355481142,
                        "bin_end": 41838.55570320761,
                        "count": 0
                      },
                      {
                        "bin_start": 41838.55570320761,
                        "bin_end": 47068.2778516038,
                        "count": 0
                      },
                      {
                        "bin_start": 47068.2778516038,
                        "bin_end": 52298,
                        "count": 1
                      }
                    ]
                  }
                },
                {
                  "name": "WRank",
                  "dtype": "float64",
                  "stats": {
                    "unique_count": 8,
                    "nan_count": 0,
                    "min": 1,
                    "max": 52282,
                    "histogram": [
                      {
                        "bin_start": 1,
                        "bin_end": 5229.1,
                        "count": 7
                      },
                      {
                        "bin_start": 5229.1,
                        "bin_end": 10457.2,
                        "count": 0
                      },
                      {
                        "bin_start": 10457.2,
                        "bin_end": 15685.300000000001,
                        "count": 0
                      },
                      {
                        "bin_start": 15685.300000000001,
                        "bin_end": 20913.4,
                        "count": 0
                      },
                      {
                        "bin_start": 20913.4,
                        "bin_end": 26141.5,
                        "count": 0
                      },
                      {
                        "bin_start": 26141.5,
                        "bin_end": 31369.600000000002,
                        "count": 0
                      },
                      {
                        "bin_start": 31369.600000000002,
                        "bin_end": 36597.700000000004,
                        "count": 0
                      },
                      {
                        "bin_start": 36597.700000000004,
                        "bin_end": 41825.8,
                        "count": 0
                      },
                      {
                        "bin_start": 41825.8,
                        "bin_end": 47053.9,
                        "count": 0
                      },
                      {
                        "bin_start": 47053.9,
                        "bin_end": 52282,
                        "count": 1
                      }
                    ]
                  }
                },
                {
                  "name": "LRank",
                  "dtype": "float64",
                  "stats": {
                    "unique_count": 8,
                    "nan_count": 0,
                    "min": 1,
                    "max": 52193,
                    "histogram": [
                      {
                        "bin_start": 1,
                        "bin_end": 5220.2,
                        "count": 7
                      },
                      {
                        "bin_start": 5220.2,
                        "bin_end": 10439.4,
                        "count": 0
                      },
                      {
                        "bin_start": 10439.4,
                        "bin_end": 15658.599999999999,
                        "count": 0
                      },
                      {
                        "bin_start": 15658.599999999999,
                        "bin_end": 20877.8,
                        "count": 0
                      },
                      {
                        "bin_start": 20877.8,
                        "bin_end": 26097,
                        "count": 0
                      },
                      {
                        "bin_start": 26097,
                        "bin_end": 31316.199999999997,
                        "count": 0
                      },
                      {
                        "bin_start": 31316.199999999997,
                        "bin_end": 36535.4,
                        "count": 0
                      },
                      {
                        "bin_start": 36535.4,
                        "bin_end": 41754.6,
                        "count": 0
                      },
                      {
                        "bin_start": 41754.6,
                        "bin_end": 46973.799999999996,
                        "count": 0
                      },
                      {
                        "bin_start": 46973.799999999996,
                        "bin_end": 52193,
                        "count": 1
                      }
                    ]
                  }
                },
                {
                  "name": "W1",
                  "dtype": "float64",
                  "stats": {
                    "unique_count": 6,
                    "nan_count": 0,
                    "min": 0,
                    "max": 52035,
                    "histogram": [
                      {
                        "bin_start": 0,
                        "bin_end": 5203.5,
                        "count": 7
                      },
                      {
                        "bin_start": 5203.5,
                        "bin_end": 10407,
                        "count": 0
                      },
                      {
                        "bin_start": 10407,
                        "bin_end": 15610.5,
                        "count": 0
                      },
                      {
                        "bin_start": 15610.5,
                        "bin_end": 20814,
                        "count": 0
                      },
                      {
                        "bin_start": 20814,
                        "bin_end": 26017.5,
                        "count": 0
                      },
                      {
                        "bin_start": 26017.5,
                        "bin_end": 31221,
                        "count": 0
                      },
                      {
                        "bin_start": 31221,
                        "bin_end": 36424.5,
                        "count": 0
                      },
                      {
                        "bin_start": 36424.5,
                        "bin_end": 41628,
                        "count": 0
                      },
                      {
                        "bin_start": 41628,
                        "bin_end": 46831.5,
                        "count": 0
                      },
                      {
                        "bin_start": 46831.5,
                        "bin_end": 52035,
                        "count": 1
                      }
                    ]
                  }
                },
                {
                  "name": "L1",
                  "dtype": "float64",
                  "stats": {
                    "unique_count": 8,
                    "nan_count": 0,
                    "min": 0,
                    "max": 52037,
                    "histogram": [
                      {
                        "bin_start": 0,
                        "bin_end": 5203.7,
                        "count": 7
                      },
                      {
                        "bin_start": 5203.7,
                        "bin_end": 10407.4,
                        "count": 0
                      },
                      {
                        "bin_start": 10407.4,
                        "bin_end": 15611.099999999999,
                        "count": 0
                      },
                      {
                        "bin_start": 15611.099999999999,
                        "bin_end": 20814.8,
                        "count": 0
                      },
                      {
                        "bin_start": 20814.8,
                        "bin_end": 26018.5,
                        "count": 0
                      },
                      {
                        "bin_start": 26018.5,
                        "bin_end": 31222.199999999997,
                        "count": 0
                      },
                      {
                        "bin_start": 31222.199999999997,
                        "bin_end": 36425.9,
                        "count": 0
                      },
                      {
                        "bin_start": 36425.9,
                        "bin_end": 41629.6,
                        "count": 0
                      },
                      {
                        "bin_start": 41629.6,
                        "bin_end": 46833.299999999996,
                        "count": 0
                      },
                      {
                        "bin_start": 46833.299999999996,
                        "bin_end": 52037,
                        "count": 1
                      }
                    ]
                  }
                },
                {
                  "name": "W2",
                  "dtype": "float64",
                  "stats": {
                    "unique_count": 6,
                    "nan_count": 0,
                    "min": 0,
                    "max": 51524,
                    "histogram": [
                      {
                        "bin_start": 0,
                        "bin_end": 5152.4,
                        "count": 7
                      },
                      {
                        "bin_start": 5152.4,
                        "bin_end": 10304.8,
                        "count": 0
                      },
                      {
                        "bin_start": 10304.8,
                        "bin_end": 15457.199999999999,
                        "count": 0
                      },
                      {
                        "bin_start": 15457.199999999999,
                        "bin_end": 20609.6,
                        "count": 0
                      },
                      {
                        "bin_start": 20609.6,
                        "bin_end": 25762,
                        "count": 0
                      },
                      {
                        "bin_start": 25762,
                        "bin_end": 30914.399999999998,
                        "count": 0
                      },
                      {
                        "bin_start": 30914.399999999998,
                        "bin_end": 36066.799999999996,
                        "count": 0
                      },
                      {
                        "bin_start": 36066.799999999996,
                        "bin_end": 41219.2,
                        "count": 0
                      },
                      {
                        "bin_start": 41219.2,
                        "bin_end": 46371.6,
                        "count": 0
                      },
                      {
                        "bin_start": 46371.6,
                        "bin_end": 51524,
                        "count": 1
                      }
                    ]
                  }
                },
                {
                  "name": "L2",
                  "dtype": "float64",
                  "stats": {
                    "unique_count": 8,
                    "nan_count": 0,
                    "min": 0,
                    "max": 51525,
                    "histogram": [
                      {
                        "bin_start": 0,
                        "bin_end": 5152.5,
                        "count": 7
                      },
                      {
                        "bin_start": 5152.5,
                        "bin_end": 10305,
                        "count": 0
                      },
                      {
                        "bin_start": 10305,
                        "bin_end": 15457.5,
                        "count": 0
                      },
                      {
                        "bin_start": 15457.5,
                        "bin_end": 20610,
                        "count": 0
                      },
                      {
                        "bin_start": 20610,
                        "bin_end": 25762.5,
                        "count": 0
                      },
                      {
                        "bin_start": 25762.5,
                        "bin_end": 30915,
                        "count": 0
                      },
                      {
                        "bin_start": 30915,
                        "bin_end": 36067.5,
                        "count": 0
                      },
                      {
                        "bin_start": 36067.5,
                        "bin_end": 41220,
                        "count": 0
                      },
                      {
                        "bin_start": 41220,
                        "bin_end": 46372.5,
                        "count": 0
                      },
                      {
                        "bin_start": 46372.5,
                        "bin_end": 51525,
                        "count": 1
                      }
                    ]
                  }
                },
                {
                  "name": "W3",
                  "dtype": "float64",
                  "stats": {
                    "unique_count": 6,
                    "nan_count": 0,
                    "min": 0,
                    "max": 24070,
                    "histogram": [
                      {
                        "bin_start": 0,
                        "bin_end": 2407,
                        "count": 7
                      },
                      {
                        "bin_start": 2407,
                        "bin_end": 4814,
                        "count": 0
                      },
                      {
                        "bin_start": 4814,
                        "bin_end": 7221,
                        "count": 0
                      },
                      {
                        "bin_start": 7221,
                        "bin_end": 9628,
                        "count": 0
                      },
                      {
                        "bin_start": 9628,
                        "bin_end": 12035,
                        "count": 0
                      },
                      {
                        "bin_start": 12035,
                        "bin_end": 14442,
                        "count": 0
                      },
                      {
                        "bin_start": 14442,
                        "bin_end": 16849,
                        "count": 0
                      },
                      {
                        "bin_start": 16849,
                        "bin_end": 19256,
                        "count": 0
                      },
                      {
                        "bin_start": 19256,
                        "bin_end": 21663,
                        "count": 0
                      },
                      {
                        "bin_start": 21663,
                        "bin_end": 24070,
                        "count": 1
                      }
                    ]
                  }
                },
                {
                  "name": "L3",
                  "dtype": "float64",
                  "stats": {
                    "unique_count": 8,
                    "nan_count": 0,
                    "min": 0,
                    "max": 24070,
                    "histogram": [
                      {
                        "bin_start": 0,
                        "bin_end": 2407,
                        "count": 7
                      },
                      {
                        "bin_start": 2407,
                        "bin_end": 4814,
                        "count": 0
                      },
                      {
                        "bin_start": 4814,
                        "bin_end": 7221,
                        "count": 0
                      },
                      {
                        "bin_start": 7221,
                        "bin_end": 9628,
                        "count": 0
                      },
                      {
                        "bin_start": 9628,
                        "bin_end": 12035,
                        "count": 0
                      },
                      {
                        "bin_start": 12035,
                        "bin_end": 14442,
                        "count": 0
                      },
                      {
                        "bin_start": 14442,
                        "bin_end": 16849,
                        "count": 0
                      },
                      {
                        "bin_start": 16849,
                        "bin_end": 19256,
                        "count": 0
                      },
                      {
                        "bin_start": 19256,
                        "bin_end": 21663,
                        "count": 0
                      },
                      {
                        "bin_start": 21663,
                        "bin_end": 24070,
                        "count": 1
                      }
                    ]
                  }
                },
                {
                  "name": "W4",
                  "dtype": "float64",
                  "stats": {
                    "unique_count": 6,
                    "nan_count": 0,
                    "min": 0,
                    "max": 4731,
                    "histogram": [
                      {
                        "bin_start": 0,
                        "bin_end": 473.1,
                        "count": 7
                      },
                      {
                        "bin_start": 473.1,
                        "bin_end": 946.2,
                        "count": 0
                      },
                      {
                        "bin_start": 946.2,
                        "bin_end": 1419.3000000000002,
                        "count": 0
                      },
                      {
                        "bin_start": 1419.3000000000002,
                        "bin_end": 1892.4,
                        "count": 0
                      },
                      {
                        "bin_start": 1892.4,
                        "bin_end": 2365.5,
                        "count": 0
                      },
                      {
                        "bin_start": 2365.5,
                        "bin_end": 2838.6000000000004,
                        "count": 0
                      },
                      {
                        "bin_start": 2838.6000000000004,
                        "bin_end": 3311.7000000000003,
                        "count": 0
                      },
                      {
                        "bin_start": 3311.7000000000003,
                        "bin_end": 3784.8,
                        "count": 0
                      },
                      {
                        "bin_start": 3784.8,
                        "bin_end": 4257.900000000001,
                        "count": 0
                      },
                      {
                        "bin_start": 4257.900000000001,
                        "bin_end": 4731,
                        "count": 1
                      }
                    ]
                  }
                },
                {
                  "name": "L4",
                  "dtype": "float64",
                  "stats": {
                    "unique_count": 8,
                    "nan_count": 0,
                    "min": 0,
                    "max": 4731,
                    "histogram": [
                      {
                        "bin_start": 0,
                        "bin_end": 473.1,
                        "count": 7
                      },
                      {
                        "bin_start": 473.1,
                        "bin_end": 946.2,
                        "count": 0
                      },
                      {
                        "bin_start": 946.2,
                        "bin_end": 1419.3000000000002,
                        "count": 0
                      },
                      {
                        "bin_start": 1419.3000000000002,
                        "bin_end": 1892.4,
                        "count": 0
                      },
                      {
                        "bin_start": 1892.4,
                        "bin_end": 2365.5,
                        "count": 0
                      },
                      {
                        "bin_start": 2365.5,
                        "bin_end": 2838.6000000000004,
                        "count": 0
                      },
                      {
                        "bin_start": 2838.6000000000004,
                        "bin_end": 3311.7000000000003,
                        "count": 0
                      },
                      {
                        "bin_start": 3311.7000000000003,
                        "bin_end": 3784.8,
                        "count": 0
                      },
                      {
                        "bin_start": 3784.8,
                        "bin_end": 4257.900000000001,
                        "count": 0
                      },
                      {
                        "bin_start": 4257.900000000001,
                        "bin_end": 4731,
                        "count": 1
                      }
                    ]
                  }
                },
                {
                  "name": "W5",
                  "dtype": "float64",
                  "stats": {
                    "unique_count": 7,
                    "nan_count": 0,
                    "min": 0,
                    "max": 1791,
                    "histogram": [
                      {
                        "bin_start": 0,
                        "bin_end": 179.1,
                        "count": 7
                      },
                      {
                        "bin_start": 179.1,
                        "bin_end": 358.2,
                        "count": 0
                      },
                      {
                        "bin_start": 358.2,
                        "bin_end": 537.3,
                        "count": 0
                      },
                      {
                        "bin_start": 537.3,
                        "bin_end": 716.4,
                        "count": 0
                      },
                      {
                        "bin_start": 716.4,
                        "bin_end": 895.5,
                        "count": 0
                      },
                      {
                        "bin_start": 895.5,
                        "bin_end": 1074.6,
                        "count": 0
                      },
                      {
                        "bin_start": 1074.6,
                        "bin_end": 1253.7,
                        "count": 0
                      },
                      {
                        "bin_start": 1253.7,
                        "bin_end": 1432.8,
                        "count": 0
                      },
                      {
                        "bin_start": 1432.8,
                        "bin_end": 1611.8999999999999,
                        "count": 0
                      },
                      {
                        "bin_start": 1611.8999999999999,
                        "bin_end": 1791,
                        "count": 1
                      }
                    ]
                  }
                },
                {
                  "name": "L5",
                  "dtype": "float64",
                  "stats": {
                    "unique_count": 8,
                    "nan_count": 0,
                    "min": 0,
                    "max": 1791,
                    "histogram": [
                      {
                        "bin_start": 0,
                        "bin_end": 179.1,
                        "count": 7
                      },
                      {
                        "bin_start": 179.1,
                        "bin_end": 358.2,
                        "count": 0
                      },
                      {
                        "bin_start": 358.2,
                        "bin_end": 537.3,
                        "count": 0
                      },
                      {
                        "bin_start": 537.3,
                        "bin_end": 716.4,
                        "count": 0
                      },
                      {
                        "bin_start": 716.4,
                        "bin_end": 895.5,
                        "count": 0
                      },
                      {
                        "bin_start": 895.5,
                        "bin_end": 1074.6,
                        "count": 0
                      },
                      {
                        "bin_start": 1074.6,
                        "bin_end": 1253.7,
                        "count": 0
                      },
                      {
                        "bin_start": 1253.7,
                        "bin_end": 1432.8,
                        "count": 0
                      },
                      {
                        "bin_start": 1432.8,
                        "bin_end": 1611.8999999999999,
                        "count": 0
                      },
                      {
                        "bin_start": 1611.8999999999999,
                        "bin_end": 1791,
                        "count": 1
                      }
                    ]
                  }
                },
                {
                  "name": "Wsets",
                  "dtype": "float64",
                  "stats": {
                    "unique_count": 6,
                    "nan_count": 0,
                    "min": 0,
                    "max": 52074,
                    "histogram": [
                      {
                        "bin_start": 0,
                        "bin_end": 5207.4,
                        "count": 7
                      },
                      {
                        "bin_start": 5207.4,
                        "bin_end": 10414.8,
                        "count": 0
                      },
                      {
                        "bin_start": 10414.8,
                        "bin_end": 15622.199999999999,
                        "count": 0
                      },
                      {
                        "bin_start": 15622.199999999999,
                        "bin_end": 20829.6,
                        "count": 0
                      },
                      {
                        "bin_start": 20829.6,
                        "bin_end": 26037,
                        "count": 0
                      },
                      {
                        "bin_start": 26037,
                        "bin_end": 31244.399999999998,
                        "count": 0
                      },
                      {
                        "bin_start": 31244.399999999998,
                        "bin_end": 36451.799999999996,
                        "count": 0
                      },
                      {
                        "bin_start": 36451.799999999996,
                        "bin_end": 41659.2,
                        "count": 0
                      },
                      {
                        "bin_start": 41659.2,
                        "bin_end": 46866.6,
                        "count": 0
                      },
                      {
                        "bin_start": 46866.6,
                        "bin_end": 52074,
                        "count": 1
                      }
                    ]
                  }
                },
                {
                  "name": "Lsets",
                  "dtype": "float64",
                  "stats": {
                    "unique_count": 6,
                    "nan_count": 0,
                    "min": 0,
                    "max": 52072,
                    "histogram": [
                      {
                        "bin_start": 0,
                        "bin_end": 5207.2,
                        "count": 7
                      },
                      {
                        "bin_start": 5207.2,
                        "bin_end": 10414.4,
                        "count": 0
                      },
                      {
                        "bin_start": 10414.4,
                        "bin_end": 15621.599999999999,
                        "count": 0
                      },
                      {
                        "bin_start": 15621.599999999999,
                        "bin_end": 20828.8,
                        "count": 0
                      },
                      {
                        "bin_start": 20828.8,
                        "bin_end": 26036,
                        "count": 0
                      },
                      {
                        "bin_start": 26036,
                        "bin_end": 31243.199999999997,
                        "count": 0
                      },
                      {
                        "bin_start": 31243.199999999997,
                        "bin_end": 36450.4,
                        "count": 0
                      },
                      {
                        "bin_start": 36450.4,
                        "bin_end": 41657.6,
                        "count": 0
                      },
                      {
                        "bin_start": 41657.6,
                        "bin_end": 46864.799999999996,
                        "count": 0
                      },
                      {
                        "bin_start": 46864.799999999996,
                        "bin_end": 52072,
                        "count": 1
                      }
                    ]
                  }
                },
                {
                  "name": "CBW",
                  "dtype": "float64",
                  "stats": {
                    "unique_count": 8,
                    "nan_count": 0,
                    "min": 0.8682542953723733,
                    "max": 17506,
                    "histogram": [
                      {
                        "bin_start": 0.8682542953723733,
                        "bin_end": 1751.3814288658352,
                        "count": 7
                      },
                      {
                        "bin_start": 1751.3814288658352,
                        "bin_end": 3501.894603436298,
                        "count": 0
                      },
                      {
                        "bin_start": 3501.894603436298,
                        "bin_end": 5252.40777800676,
                        "count": 0
                      },
                      {
                        "bin_start": 5252.40777800676,
                        "bin_end": 7002.920952577223,
                        "count": 0
                      },
                      {
                        "bin_start": 7002.920952577223,
                        "bin_end": 8753.434127147686,
                        "count": 0
                      },
                      {
                        "bin_start": 8753.434127147686,
                        "bin_end": 10503.947301718148,
                        "count": 0
                      },
                      {
                        "bin_start": 10503.947301718148,
                        "bin_end": 12254.460476288612,
                        "count": 0
                      },
                      {
                        "bin_start": 12254.460476288612,
                        "bin_end": 14004.973650859074,
                        "count": 0
                      },
                      {
                        "bin_start": 14004.973650859074,
                        "bin_end": 15755.486825429536,
                        "count": 0
                      },
                      {
                        "bin_start": 15755.486825429536,
                        "bin_end": 17506,
                        "count": 1
                      }
                    ]
                  }
                },
                {
                  "name": "CBL",
                  "dtype": "float64",
                  "stats": {
                    "unique_count": 8,
                    "nan_count": 0,
                    "min": 1.02,
                    "max": 17506,
                    "histogram": [
                      {
                        "bin_start": 1.02,
                        "bin_end": 1751.518,
                        "count": 7
                      },
                      {
                        "bin_start": 1751.518,
                        "bin_end": 3502.016,
                        "count": 0
                      },
                      {
                        "bin_start": 3502.016,
                        "bin_end": 5252.514000000001,
                        "count": 0
                      },
                      {
                        "bin_start": 5252.514000000001,
                        "bin_end": 7003.012000000001,
                        "count": 0
                      },
                      {
                        "bin_start": 7003.012000000001,
                        "bin_end": 8753.51,
                        "count": 0
                      },
                      {
                        "bin_start": 8753.51,
                        "bin_end": 10504.008000000002,
                        "count": 0
                      },
                      {
                        "bin_start": 10504.008000000002,
                        "bin_end": 12254.506000000001,
                        "count": 0
                      },
                      {
                        "bin_start": 12254.506000000001,
                        "bin_end": 14005.004,
                        "count": 0
                      },
                      {
                        "bin_start": 14005.004,
                        "bin_end": 15755.502,
                        "count": 0
                      },
                      {
                        "bin_start": 15755.502,
                        "bin_end": 17506,
                        "count": 1
                      }
                    ]
                  }
                },
                {
                  "name": "GBW",
                  "dtype": "float64",
                  "stats": {
                    "unique_count": 8,
                    "nan_count": 0,
                    "min": 0.6144544036035657,
                    "max": 5055,
                    "histogram": [
                      {
                        "bin_start": 0.6144544036035657,
                        "bin_end": 506.05300896324326,
                        "count": 7
                      },
                      {
                        "bin_start": 506.05300896324326,
                        "bin_end": 1011.4915635228829,
                        "count": 0
                      },
                      {
                        "bin_start": 1011.4915635228829,
                        "bin_end": 1516.9301180825225,
                        "count": 0
                      },
                      {
                        "bin_start": 1516.9301180825225,
                        "bin_end": 2022.3686726421622,
                        "count": 0
                      },
                      {
                        "bin_start": 2022.3686726421622,
                        "bin_end": 2527.807227201802,
                        "count": 0
                      },
                      {
                        "bin_start": 2527.807227201802,
                        "bin_end": 3033.245781761442,
                        "count": 0
                      },
                      {
                        "bin_start": 3033.245781761442,
                        "bin_end": 3538.6843363210814,
                        "count": 0
                      },
                      {
                        "bin_start": 3538.6843363210814,
                        "bin_end": 4044.122890880721,
                        "count": 0
                      },
                      {
                        "bin_start": 4044.122890880721,
                        "bin_end": 4549.56144544036,
                        "count": 0
                      },
                      {
                        "bin_start": 4549.56144544036,
                        "bin_end": 5055,
                        "count": 1
                      }
                    ]
                  }
                },
                {
                  "name": "GBL",
                  "dtype": "float64",
                  "stats": {
                    "unique_count": 8,
                    "nan_count": 0,
                    "min": 1.03,
                    "max": 5055,
                    "histogram": [
                      {
                        "bin_start": 1.03,
                        "bin_end": 506.427,
                        "count": 7
                      },
                      {
                        "bin_start": 506.427,
                        "bin_end": 1011.8240000000001,
                        "count": 0
                      },
                      {
                        "bin_start": 1011.8240000000001,
                        "bin_end": 1517.2210000000002,
                        "count": 0
                      },
                      {
                        "bin_start": 1517.2210000000002,
                        "bin_end": 2022.6180000000002,
                        "count": 0
                      },
                      {
                        "bin_start": 2022.6180000000002,
                        "bin_end": 2528.0150000000003,
                        "count": 0
                      },
                      {
                        "bin_start": 2528.0150000000003,
                        "bin_end": 3033.4120000000007,
                        "count": 0
                      },
                      {
                        "bin_start": 3033.4120000000007,
                        "bin_end": 3538.8090000000007,
                        "count": 0
                      },
                      {
                        "bin_start": 3538.8090000000007,
                        "bin_end": 4044.2060000000006,
                        "count": 0
                      },
                      {
                        "bin_start": 4044.2060000000006,
                        "bin_end": 4549.603,
                        "count": 0
                      },
                      {
                        "bin_start": 4549.603,
                        "bin_end": 5055,
                        "count": 1
                      }
                    ]
                  }
                },
                {
                  "name": "IWW",
                  "dtype": "float64",
                  "stats": {
                    "unique_count": 8,
                    "nan_count": 0,
                    "min": 0.5853995606282124,
                    "max": 13358,
                    "histogram": [
                      {
                        "bin_start": 0.5853995606282124,
                        "bin_end": 1336.3268596045655,
                        "count": 7
                      },
                      {
                        "bin_start": 1336.3268596045655,
                        "bin_end": 2672.0683196485024,
                        "count": 0
                      },
                      {
                        "bin_start": 2672.0683196485024,
                        "bin_end": 4007.80977969244,
                        "count": 0
                      },
                      {
                        "bin_start": 4007.80977969244,
                        "bin_end": 5343.551239736377,
                        "count": 0
                      },
                      {
                        "bin_start": 5343.551239736377,
                        "bin_end": 6679.292699780314,
                        "count": 0
                      },
                      {
                        "bin_start": 6679.292699780314,
                        "bin_end": 8015.034159824252,
                        "count": 0
                      },
                      {
                        "bin_start": 8015.034159824252,
                        "bin_end": 9350.77561986819,
                        "count": 0
                      },
                      {
                        "bin_start": 9350.77561986819,
                        "bin_end": 10686.517079912126,
                        "count": 0
                      },
                      {
                        "bin_start": 10686.517079912126,
                        "bin_end": 12022.258539956063,
                        "count": 0
                      },
                      {
                        "bin_start": 12022.258539956063,
                        "bin_end": 13358,
                        "count": 1
                      }
                    ]
                  }
                },
                {
                  "name": "IWL",
                  "dtype": "float64",
                  "stats": {
                    "unique_count": 8,
                    "nan_count": 0,
                    "min": 1.03,
                    "max": 13358,
                    "histogram": [
                      {
                        "bin_start": 1.03,
                        "bin_end": 1336.7269999999999,
                        "count": 7
                      },
                      {
                        "bin_start": 1336.7269999999999,
                        "bin_end": 2672.424,
                        "count": 0
                      },
                      {
                        "bin_start": 2672.424,
                        "bin_end": 4008.1209999999996,
                        "count": 0
                      },
                      {
                        "bin_start": 4008.1209999999996,
                        "bin_end": 5343.817999999999,
                        "count": 0
                      },
                      {
                        "bin_start": 5343.817999999999,
                        "bin_end": 6679.514999999999,
                        "count": 0
                      },
                      {
                        "bin_start": 6679.514999999999,
                        "bin_end": 8015.211999999999,
                        "count": 0
                      },
                      {
                        "bin_start": 8015.211999999999,
                        "bin_end": 9350.909,
                        "count": 0
                      },
                      {
                        "bin_start": 9350.909,
                        "bin_end": 10686.606,
                        "count": 0
                      },
                      {
                        "bin_start": 10686.606,
                        "bin_end": 12022.303,
                        "count": 0
                      },
                      {
                        "bin_start": 12022.303,
                        "bin_end": 13358,
                        "count": 1
                      }
                    ]
                  }
                },
                {
                  "name": "SBW",
                  "dtype": "float64",
                  "stats": {
                    "unique_count": 8,
                    "nan_count": 0,
                    "min": 0,
                    "max": 5424,
                    "histogram": [
                      {
                        "bin_start": 0,
                        "bin_end": 542.4,
                        "count": 7
                      },
                      {
                        "bin_start": 542.4,
                        "bin_end": 1084.8,
                        "count": 0
                      },
                      {
                        "bin_start": 1084.8,
                        "bin_end": 1627.1999999999998,
                        "count": 0
                      },
                      {
                        "bin_start": 1627.1999999999998,
                        "bin_end": 2169.6,
                        "count": 0
                      },
                      {
                        "bin_start": 2169.6,
                        "bin_end": 2712,
                        "count": 0
                      },
                      {
                        "bin_start": 2712,
                        "bin_end": 3254.3999999999996,
                        "count": 0
                      },
                      {
                        "bin_start": 3254.3999999999996,
                        "bin_end": 3796.7999999999997,
                        "count": 0
                      },
                      {
                        "bin_start": 3796.7999999999997,
                        "bin_end": 4339.2,
                        "count": 0
                      },
                      {
                        "bin_start": 4339.2,
                        "bin_end": 4881.599999999999,
                        "count": 0
                      },
                      {
                        "bin_start": 4881.599999999999,
                        "bin_end": 5424,
                        "count": 1
                      }
                    ]
                  }
                },
                {
                  "name": "SBL",
                  "dtype": "float64",
                  "stats": {
                    "unique_count": 8,
                    "nan_count": 0,
                    "min": 0,
                    "max": 5424,
                    "histogram": [
                      {
                        "bin_start": 0,
                        "bin_end": 542.4,
                        "count": 7
                      },
                      {
                        "bin_start": 542.4,
                        "bin_end": 1084.8,
                        "count": 0
                      },
                      {
                        "bin_start": 1084.8,
                        "bin_end": 1627.1999999999998,
                        "count": 0
                      },
                      {
                        "bin_start": 1627.1999999999998,
                        "bin_end": 2169.6,
                        "count": 0
                      },
                      {
                        "bin_start": 2169.6,
                        "bin_end": 2712,
                        "count": 0
                      },
                      {
                        "bin_start": 2712,
                        "bin_end": 3254.3999999999996,
                        "count": 0
                      },
                      {
                        "bin_start": 3254.3999999999996,
                        "bin_end": 3796.7999999999997,
                        "count": 0
                      },
                      {
                        "bin_start": 3796.7999999999997,
                        "bin_end": 4339.2,
                        "count": 0
                      },
                      {
                        "bin_start": 4339.2,
                        "bin_end": 4881.599999999999,
                        "count": 0
                      },
                      {
                        "bin_start": 4881.599999999999,
                        "bin_end": 5424,
                        "count": 1
                      }
                    ]
                  }
                },
                {
                  "name": "B365W",
                  "dtype": "float64",
                  "stats": {
                    "unique_count": 8,
                    "nan_count": 0,
                    "min": 1,
                    "max": 43643,
                    "histogram": [
                      {
                        "bin_start": 1,
                        "bin_end": 4365.2,
                        "count": 7
                      },
                      {
                        "bin_start": 4365.2,
                        "bin_end": 8729.4,
                        "count": 0
                      },
                      {
                        "bin_start": 8729.4,
                        "bin_end": 13093.599999999999,
                        "count": 0
                      },
                      {
                        "bin_start": 13093.599999999999,
                        "bin_end": 17457.8,
                        "count": 0
                      },
                      {
                        "bin_start": 17457.8,
                        "bin_end": 21822,
                        "count": 0
                      },
                      {
                        "bin_start": 21822,
                        "bin_end": 26186.199999999997,
                        "count": 0
                      },
                      {
                        "bin_start": 26186.199999999997,
                        "bin_end": 30550.399999999998,
                        "count": 0
                      },
                      {
                        "bin_start": 30550.399999999998,
                        "bin_end": 34914.6,
                        "count": 0
                      },
                      {
                        "bin_start": 34914.6,
                        "bin_end": 39278.799999999996,
                        "count": 0
                      },
                      {
                        "bin_start": 39278.799999999996,
                        "bin_end": 43643,
                        "count": 1
                      }
                    ]
                  }
                },
                {
                  "name": "B365L",
                  "dtype": "float64",
                  "stats": {
                    "unique_count": 8,
                    "nan_count": 0,
                    "min": 1.002,
                    "max": 43666,
                    "histogram": [
                      {
                        "bin_start": 1.002,
                        "bin_end": 4367.5018,
                        "count": 7
                      },
                      {
                        "bin_start": 4367.5018,
                        "bin_end": 8734.0016,
                        "count": 0
                      },
                      {
                        "bin_start": 8734.0016,
                        "bin_end": 13100.5014,
                        "count": 0
                      },
                      {
                        "bin_start": 13100.5014,
                        "bin_end": 17467.0012,
                        "count": 0
                      },
                      {
                        "bin_start": 17467.0012,
                        "bin_end": 21833.500999999997,
                        "count": 0
                      },
                      {
                        "bin_start": 21833.500999999997,
                        "bin_end": 26200.000799999998,
                        "count": 0
                      },
                      {
                        "bin_start": 26200.000799999998,
                        "bin_end": 30566.5006,
                        "count": 0
                      },
                      {
                        "bin_start": 30566.5006,
                        "bin_end": 34933.0004,
                        "count": 0
                      },
                      {
                        "bin_start": 34933.0004,
                        "bin_end": 39299.500199999995,
                        "count": 0
                      },
                      {
                        "bin_start": 39299.500199999995,
                        "bin_end": 43666,
                        "count": 1
                      }
                    ]
                  }
                },
                {
                  "name": "B&WW",
                  "dtype": "float64",
                  "stats": {
                    "unique_count": 8,
                    "nan_count": 0,
                    "min": 0.7304341705524617,
                    "max": 1097,
                    "histogram": [
                      {
                        "bin_start": 0.7304341705524617,
                        "bin_end": 110.35739075349721,
                        "count": 7
                      },
                      {
                        "bin_start": 110.35739075349721,
                        "bin_end": 219.98434733644197,
                        "count": 0
                      },
                      {
                        "bin_start": 219.98434733644197,
                        "bin_end": 329.6113039193867,
                        "count": 0
                      },
                      {
                        "bin_start": 329.6113039193867,
                        "bin_end": 439.2382605023315,
                        "count": 0
                      },
                      {
                        "bin_start": 439.2382605023315,
                        "bin_end": 548.8652170852763,
                        "count": 0
                      },
                      {
                        "bin_start": 548.8652170852763,
                        "bin_end": 658.492173668221,
                        "count": 0
                      },
                      {
                        "bin_start": 658.492173668221,
                        "bin_end": 768.1191302511658,
                        "count": 0
                      },
                      {
                        "bin_start": 768.1191302511658,
                        "bin_end": 877.7460868341105,
                        "count": 0
                      },
                      {
                        "bin_start": 877.7460868341105,
                        "bin_end": 987.3730434170553,
                        "count": 0
                      },
                      {
                        "bin_start": 987.3730434170553,
                        "bin_end": 1097,
                        "count": 1
                      }
                    ]
                  }
                },
                {
                  "name": "B&WL",
                  "dtype": "float64",
                  "stats": {
                    "unique_count": 8,
                    "nan_count": 0,
                    "min": 1.02,
                    "max": 1097,
                    "histogram": [
                      {
                        "bin_start": 1.02,
                        "bin_end": 110.618,
                        "count": 7
                      },
                      {
                        "bin_start": 110.618,
                        "bin_end": 220.216,
                        "count": 0
                      },
                      {
                        "bin_start": 220.216,
                        "bin_end": 329.81399999999996,
                        "count": 0
                      },
                      {
                        "bin_start": 329.81399999999996,
                        "bin_end": 439.412,
                        "count": 0
                      },
                      {
                        "bin_start": 439.412,
                        "bin_end": 549.01,
                        "count": 0
                      },
                      {
                        "bin_start": 549.01,
                        "bin_end": 658.608,
                        "count": 0
                      },
                      {
                        "bin_start": 658.608,
                        "bin_end": 768.206,
                        "count": 0
                      },
                      {
                        "bin_start": 768.206,
                        "bin_end": 877.804,
                        "count": 0
                      },
                      {
                        "bin_start": 877.804,
                        "bin_end": 987.4019999999999,
                        "count": 0
                      },
                      {
                        "bin_start": 987.4019999999999,
                        "bin_end": 1097,
                        "count": 1
                      }
                    ]
                  }
                },
                {
                  "name": "EXL",
                  "dtype": "float64",
                  "stats": {
                    "unique_count": 8,
                    "nan_count": 0,
                    "min": 1,
                    "max": 39416,
                    "histogram": [
                      {
                        "bin_start": 1,
                        "bin_end": 3942.5,
                        "count": 7
                      },
                      {
                        "bin_start": 3942.5,
                        "bin_end": 7884,
                        "count": 0
                      },
                      {
                        "bin_start": 7884,
                        "bin_end": 11825.5,
                        "count": 0
                      },
                      {
                        "bin_start": 11825.5,
                        "bin_end": 15767,
                        "count": 0
                      },
                      {
                        "bin_start": 15767,
                        "bin_end": 19708.5,
                        "count": 0
                      },
                      {
                        "bin_start": 19708.5,
                        "bin_end": 23650,
                        "count": 0
                      },
                      {
                        "bin_start": 23650,
                        "bin_end": 27591.5,
                        "count": 0
                      },
                      {
                        "bin_start": 27591.5,
                        "bin_end": 31533,
                        "count": 0
                      },
                      {
                        "bin_start": 31533,
                        "bin_end": 35474.5,
                        "count": 0
                      },
                      {
                        "bin_start": 35474.5,
                        "bin_end": 39416,
                        "count": 1
                      }
                    ]
                  }
                },
                {
                  "name": "PSW",
                  "dtype": "float64",
                  "stats": {
                    "unique_count": 8,
                    "nan_count": 0,
                    "min": 1,
                    "max": 37339,
                    "histogram": [
                      {
                        "bin_start": 1,
                        "bin_end": 3734.8,
                        "count": 7
                      },
                      {
                        "bin_start": 3734.8,
                        "bin_end": 7468.6,
                        "count": 0
                      },
                      {
                        "bin_start": 7468.6,
                        "bin_end": 11202.400000000001,
                        "count": 0
                      },
                      {
                        "bin_start": 11202.400000000001,
                        "bin_end": 14936.2,
                        "count": 0
                      },
                      {
                        "bin_start": 14936.2,
                        "bin_end": 18670,
                        "count": 0
                      },
                      {
                        "bin_start": 18670,
                        "bin_end": 22403.800000000003,
                        "count": 0
                      },
                      {
                        "bin_start": 22403.800000000003,
                        "bin_end": 26137.600000000002,
                        "count": 0
                      },
                      {
                        "bin_start": 26137.600000000002,
                        "bin_end": 29871.4,
                        "count": 0
                      },
                      {
                        "bin_start": 29871.4,
                        "bin_end": 33605.200000000004,
                        "count": 0
                      },
                      {
                        "bin_start": 33605.200000000004,
                        "bin_end": 37339,
                        "count": 1
                      }
                    ]
                  }
                },
                {
                  "name": "PSL",
                  "dtype": "float64",
                  "stats": {
                    "unique_count": 8,
                    "nan_count": 0,
                    "min": 1.01,
                    "max": 37339,
                    "histogram": [
                      {
                        "bin_start": 1.01,
                        "bin_end": 3734.809,
                        "count": 7
                      },
                      {
                        "bin_start": 3734.809,
                        "bin_end": 7468.608,
                        "count": 0
                      },
                      {
                        "bin_start": 7468.608,
                        "bin_end": 11202.407000000001,
                        "count": 0
                      },
                      {
                        "bin_start": 11202.407000000001,
                        "bin_end": 14936.206,
                        "count": 0
                      },
                      {
                        "bin_start": 14936.206,
                        "bin_end": 18670.004999999997,
                        "count": 0
                      },
                      {
                        "bin_start": 18670.004999999997,
                        "bin_end": 22403.804,
                        "count": 0
                      },
                      {
                        "bin_start": 22403.804,
                        "bin_end": 26137.603,
                        "count": 0
                      },
                      {
                        "bin_start": 26137.603,
                        "bin_end": 29871.402,
                        "count": 0
                      },
                      {
                        "bin_start": 29871.402,
                        "bin_end": 33605.201,
                        "count": 0
                      },
                      {
                        "bin_start": 33605.201,
                        "bin_end": 37339,
                        "count": 1
                      }
                    ]
                  }
                },
                {
                  "name": "WPts",
                  "dtype": "float64",
                  "stats": {
                    "unique_count": 8,
                    "nan_count": 0,
                    "min": 1,
                    "max": 36094,
                    "histogram": [
                      {
                        "bin_start": 1,
                        "bin_end": 3610.3,
                        "count": 6
                      },
                      {
                        "bin_start": 3610.3,
                        "bin_end": 7219.6,
                        "count": 0
                      },
                      {
                        "bin_start": 7219.6,
                        "bin_end": 10828.900000000001,
                        "count": 0
                      },
                      {
                        "bin_start": 10828.900000000001,
                        "bin_end": 14438.2,
                        "count": 0
                      },
                      {
                        "bin_start": 14438.2,
                        "bin_end": 18047.5,
                        "count": 1
                      },
                      {
                        "bin_start": 18047.5,
                        "bin_end": 21656.800000000003,
                        "count": 0
                      },
                      {
                        "bin_start": 21656.800000000003,
                        "bin_end": 25266.100000000002,
                        "count": 0
                      },
                      {
                        "bin_start": 25266.100000000002,
                        "bin_end": 28875.4,
                        "count": 0
                      },
                      {
                        "bin_start": 28875.4,
                        "bin_end": 32484.7,
                        "count": 0
                      },
                      {
                        "bin_start": 32484.7,
                        "bin_end": 36094,
                        "count": 1
                      }
                    ]
                  }
                },
                {
                  "name": "LPts",
                  "dtype": "float64",
                  "stats": {
                    "unique_count": 8,
                    "nan_count": 0,
                    "min": 1,
                    "max": 36035,
                    "histogram": [
                      {
                        "bin_start": 1,
                        "bin_end": 3604.4,
                        "count": 6
                      },
                      {
                        "bin_start": 3604.4,
                        "bin_end": 7207.8,
                        "count": 0
                      },
                      {
                        "bin_start": 7207.8,
                        "bin_end": 10811.2,
                        "count": 0
                      },
                      {
                        "bin_start": 10811.2,
                        "bin_end": 14414.6,
                        "count": 0
                      },
                      {
                        "bin_start": 14414.6,
                        "bin_end": 18018,
                        "count": 1
                      },
                      {
                        "bin_start": 18018,
                        "bin_end": 21621.4,
                        "count": 0
                      },
                      {
                        "bin_start": 21621.4,
                        "bin_end": 25224.8,
                        "count": 0
                      },
                      {
                        "bin_start": 25224.8,
                        "bin_end": 28828.2,
                        "count": 0
                      },
                      {
                        "bin_start": 28828.2,
                        "bin_end": 32431.600000000002,
                        "count": 0
                      },
                      {
                        "bin_start": 32431.600000000002,
                        "bin_end": 36035,
                        "count": 1
                      }
                    ]
                  }
                },
                {
                  "name": "UBW",
                  "dtype": "float64",
                  "stats": {
                    "unique_count": 8,
                    "nan_count": 0,
                    "min": 0.9962377486919288,
                    "max": 10671,
                    "histogram": [
                      {
                        "bin_start": 0.9962377486919288,
                        "bin_end": 1067.9966139738228,
                        "count": 7
                      },
                      {
                        "bin_start": 1067.9966139738228,
                        "bin_end": 2134.9969901989534,
                        "count": 0
                      },
                      {
                        "bin_start": 2134.9969901989534,
                        "bin_end": 3201.9973664240842,
                        "count": 0
                      },
                      {
                        "bin_start": 3201.9973664240842,
                        "bin_end": 4268.997742649215,
                        "count": 0
                      },
                      {
                        "bin_start": 4268.997742649215,
                        "bin_end": 5335.998118874346,
                        "count": 0
                      },
                      {
                        "bin_start": 5335.998118874346,
                        "bin_end": 6402.998495099477,
                        "count": 0
                      },
                      {
                        "bin_start": 6402.998495099477,
                        "bin_end": 7469.9988713246075,
                        "count": 0
                      },
                      {
                        "bin_start": 7469.9988713246075,
                        "bin_end": 8536.999247549738,
                        "count": 0
                      },
                      {
                        "bin_start": 8536.999247549738,
                        "bin_end": 9603.99962377487,
                        "count": 0
                      },
                      {
                        "bin_start": 9603.99962377487,
                        "bin_end": 10671,
                        "count": 1
                      }
                    ]
                  }
                },
                {
                  "name": "UBL",
                  "dtype": "float64",
                  "stats": {
                    "unique_count": 8,
                    "nan_count": 0,
                    "min": 1.02,
                    "max": 10671,
                    "histogram": [
                      {
                        "bin_start": 1.02,
                        "bin_end": 1068.018,
                        "count": 7
                      },
                      {
                        "bin_start": 1068.018,
                        "bin_end": 2135.016,
                        "count": 0
                      },
                      {
                        "bin_start": 2135.016,
                        "bin_end": 3202.014,
                        "count": 0
                      },
                      {
                        "bin_start": 3202.014,
                        "bin_end": 4269.012000000001,
                        "count": 0
                      },
                      {
                        "bin_start": 4269.012000000001,
                        "bin_end": 5336.01,
                        "count": 0
                      },
                      {
                        "bin_start": 5336.01,
                        "bin_end": 6403.008000000001,
                        "count": 0
                      },
                      {
                        "bin_start": 6403.008000000001,
                        "bin_end": 7470.006000000001,
                        "count": 0
                      },
                      {
                        "bin_start": 7470.006000000001,
                        "bin_end": 8537.004,
                        "count": 0
                      },
                      {
                        "bin_start": 8537.004,
                        "bin_end": 9604.002,
                        "count": 0
                      },
                      {
                        "bin_start": 9604.002,
                        "bin_end": 10671,
                        "count": 1
                      }
                    ]
                  }
                },
                {
                  "name": "LBW",
                  "dtype": "float64",
                  "stats": {
                    "unique_count": 8,
                    "nan_count": 0,
                    "min": 1,
                    "max": 28131,
                    "histogram": [
                      {
                        "bin_start": 1,
                        "bin_end": 2814,
                        "count": 7
                      },
                      {
                        "bin_start": 2814,
                        "bin_end": 5627,
                        "count": 0
                      },
                      {
                        "bin_start": 5627,
                        "bin_end": 8440,
                        "count": 0
                      },
                      {
                        "bin_start": 8440,
                        "bin_end": 11253,
                        "count": 0
                      },
                      {
                        "bin_start": 11253,
                        "bin_end": 14066,
                        "count": 0
                      },
                      {
                        "bin_start": 14066,
                        "bin_end": 16879,
                        "count": 0
                      },
                      {
                        "bin_start": 16879,
                        "bin_end": 19692,
                        "count": 0
                      },
                      {
                        "bin_start": 19692,
                        "bin_end": 22505,
                        "count": 0
                      },
                      {
                        "bin_start": 22505,
                        "bin_end": 25318,
                        "count": 0
                      },
                      {
                        "bin_start": 25318,
                        "bin_end": 28131,
                        "count": 1
                      }
                    ]
                  }
                },
                {
                  "name": "LBL",
                  "dtype": "float64",
                  "stats": {
                    "unique_count": 8,
                    "nan_count": 0,
                    "min": 1,
                    "max": 28142,
                    "histogram": [
                      {
                        "bin_start": 1,
                        "bin_end": 2815.1,
                        "count": 7
                      },
                      {
                        "bin_start": 2815.1,
                        "bin_end": 5629.2,
                        "count": 0
                      },
                      {
                        "bin_start": 5629.2,
                        "bin_end": 8443.3,
                        "count": 0
                      },
                      {
                        "bin_start": 8443.3,
                        "bin_end": 11257.4,
                        "count": 0
                      },
                      {
                        "bin_start": 11257.4,
                        "bin_end": 14071.5,
                        "count": 0
                      },
                      {
                        "bin_start": 14071.5,
                        "bin_end": 16885.6,
                        "count": 0
                      },
                      {
                        "bin_start": 16885.6,
                        "bin_end": 19699.7,
                        "count": 0
                      },
                      {
                        "bin_start": 19699.7,
                        "bin_end": 22513.8,
                        "count": 0
                      },
                      {
                        "bin_start": 22513.8,
                        "bin_end": 25327.899999999998,
                        "count": 0
                      },
                      {
                        "bin_start": 25327.899999999998,
                        "bin_end": 28142,
                        "count": 1
                      }
                    ]
                  }
                },
                {
                  "name": "SJW",
                  "dtype": "float64",
                  "stats": {
                    "unique_count": 8,
                    "nan_count": 0,
                    "min": 1,
                    "max": 15572,
                    "histogram": [
                      {
                        "bin_start": 1,
                        "bin_end": 1558.1,
                        "count": 7
                      },
                      {
                        "bin_start": 1558.1,
                        "bin_end": 3115.2,
                        "count": 0
                      },
                      {
                        "bin_start": 3115.2,
                        "bin_end": 4672.299999999999,
                        "count": 0
                      },
                      {
                        "bin_start": 4672.299999999999,
                        "bin_end": 6229.4,
                        "count": 0
                      },
                      {
                        "bin_start": 6229.4,
                        "bin_end": 7786.5,
                        "count": 0
                      },
                      {
                        "bin_start": 7786.5,
                        "bin_end": 9343.599999999999,
                        "count": 0
                      },
                      {
                        "bin_start": 9343.599999999999,
                        "bin_end": 10900.699999999999,
                        "count": 0
                      },
                      {
                        "bin_start": 10900.699999999999,
                        "bin_end": 12457.8,
                        "count": 0
                      },
                      {
                        "bin_start": 12457.8,
                        "bin_end": 14014.9,
                        "count": 0
                      },
                      {
                        "bin_start": 14014.9,
                        "bin_end": 15572,
                        "count": 1
                      }
                    ]
                  }
                },
                {
                  "name": "SJL",
                  "dtype": "float64",
                  "stats": {
                    "unique_count": 8,
                    "nan_count": 0,
                    "min": 1.01,
                    "max": 15579,
                    "histogram": [
                      {
                        "bin_start": 1.01,
                        "bin_end": 1558.809,
                        "count": 7
                      },
                      {
                        "bin_start": 1558.809,
                        "bin_end": 3116.608,
                        "count": 0
                      },
                      {
                        "bin_start": 3116.608,
                        "bin_end": 4674.407,
                        "count": 0
                      },
                      {
                        "bin_start": 4674.407,
                        "bin_end": 6232.206,
                        "count": 0
                      },
                      {
                        "bin_start": 6232.206,
                        "bin_end": 7790.005,
                        "count": 0
                      },
                      {
                        "bin_start": 7790.005,
                        "bin_end": 9347.804,
                        "count": 0
                      },
                      {
                        "bin_start": 9347.804,
                        "bin_end": 10905.603000000001,
                        "count": 0
                      },
                      {
                        "bin_start": 10905.603000000001,
                        "bin_end": 12463.402,
                        "count": 0
                      },
                      {
                        "bin_start": 12463.402,
                        "bin_end": 14021.201,
                        "count": 0
                      },
                      {
                        "bin_start": 14021.201,
                        "bin_end": 15579,
                        "count": 1
                      }
                    ]
                  }
                },
                {
                  "name": "MaxW",
                  "dtype": "float64",
                  "stats": {
                    "unique_count": 8,
                    "nan_count": 0,
                    "min": 1.01,
                    "max": 22745,
                    "histogram": [
                      {
                        "bin_start": 1.01,
                        "bin_end": 2275.4090000000006,
                        "count": 7
                      },
                      {
                        "bin_start": 2275.4090000000006,
                        "bin_end": 4549.808000000001,
                        "count": 0
                      },
                      {
                        "bin_start": 4549.808000000001,
                        "bin_end": 6824.207000000001,
                        "count": 0
                      },
                      {
                        "bin_start": 6824.207000000001,
                        "bin_end": 9098.606000000002,
                        "count": 0
                      },
                      {
                        "bin_start": 9098.606000000002,
                        "bin_end": 11373.005000000003,
                        "count": 0
                      },
                      {
                        "bin_start": 11373.005000000003,
                        "bin_end": 13647.404000000002,
                        "count": 0
                      },
                      {
                        "bin_start": 13647.404000000002,
                        "bin_end": 15921.803000000002,
                        "count": 0
                      },
                      {
                        "bin_start": 15921.803000000002,
                        "bin_end": 18196.202,
                        "count": 0
                      },
                      {
                        "bin_start": 18196.202,
                        "bin_end": 20470.601000000002,
                        "count": 0
                      },
                      {
                        "bin_start": 20470.601000000002,
                        "bin_end": 22745,
                        "count": 1
                      }
                    ]
                  }
                },
                {
                  "name": "MaxL",
                  "dtype": "float64",
                  "stats": {
                    "unique_count": 8,
                    "nan_count": 0,
                    "min": 1.01,
                    "max": 42586,
                    "histogram": [
                      {
                        "bin_start": 1.01,
                        "bin_end": 4259.509,
                        "count": 6
                      },
                      {
                        "bin_start": 4259.509,
                        "bin_end": 8518.008,
                        "count": 0
                      },
                      {
                        "bin_start": 8518.008,
                        "bin_end": 12776.507,
                        "count": 0
                      },
                      {
                        "bin_start": 12776.507,
                        "bin_end": 17035.005999999998,
                        "count": 0
                      },
                      {
                        "bin_start": 17035.005999999998,
                        "bin_end": 21293.504999999997,
                        "count": 0
                      },
                      {
                        "bin_start": 21293.504999999997,
                        "bin_end": 25552.003999999997,
                        "count": 1
                      },
                      {
                        "bin_start": 25552.003999999997,
                        "bin_end": 29810.502999999997,
                        "count": 0
                      },
                      {
                        "bin_start": 29810.502999999997,
                        "bin_end": 34069.002,
                        "count": 0
                      },
                      {
                        "bin_start": 34069.002,
                        "bin_end": 38327.501,
                        "count": 0
                      },
                      {
                        "bin_start": 38327.501,
                        "bin_end": 42586,
                        "count": 1
                      }
                    ]
                  }
                },
                {
                  "name": "AvgW",
                  "dtype": "float64",
                  "stats": {
                    "unique_count": 8,
                    "nan_count": 0,
                    "min": 1.01,
                    "max": 22745,
                    "histogram": [
                      {
                        "bin_start": 1.01,
                        "bin_end": 2275.4090000000006,
                        "count": 7
                      },
                      {
                        "bin_start": 2275.4090000000006,
                        "bin_end": 4549.808000000001,
                        "count": 0
                      },
                      {
                        "bin_start": 4549.808000000001,
                        "bin_end": 6824.207000000001,
                        "count": 0
                      },
                      {
                        "bin_start": 6824.207000000001,
                        "bin_end": 9098.606000000002,
                        "count": 0
                      },
                      {
                        "bin_start": 9098.606000000002,
                        "bin_end": 11373.005000000003,
                        "count": 0
                      },
                      {
                        "bin_start": 11373.005000000003,
                        "bin_end": 13647.404000000002,
                        "count": 0
                      },
                      {
                        "bin_start": 13647.404000000002,
                        "bin_end": 15921.803000000002,
                        "count": 0
                      },
                      {
                        "bin_start": 15921.803000000002,
                        "bin_end": 18196.202,
                        "count": 0
                      },
                      {
                        "bin_start": 18196.202,
                        "bin_end": 20470.601000000002,
                        "count": 0
                      },
                      {
                        "bin_start": 20470.601000000002,
                        "bin_end": 22745,
                        "count": 1
                      }
                    ]
                  }
                },
                {
                  "name": "AvgL",
                  "dtype": "float64",
                  "stats": {
                    "unique_count": 8,
                    "nan_count": 0,
                    "min": 1.01,
                    "max": 22745,
                    "histogram": [
                      {
                        "bin_start": 1.01,
                        "bin_end": 2275.4090000000006,
                        "count": 7
                      },
                      {
                        "bin_start": 2275.4090000000006,
                        "bin_end": 4549.808000000001,
                        "count": 0
                      },
                      {
                        "bin_start": 4549.808000000001,
                        "bin_end": 6824.207000000001,
                        "count": 0
                      },
                      {
                        "bin_start": 6824.207000000001,
                        "bin_end": 9098.606000000002,
                        "count": 0
                      },
                      {
                        "bin_start": 9098.606000000002,
                        "bin_end": 11373.005000000003,
                        "count": 0
                      },
                      {
                        "bin_start": 11373.005000000003,
                        "bin_end": 13647.404000000002,
                        "count": 0
                      },
                      {
                        "bin_start": 13647.404000000002,
                        "bin_end": 15921.803000000002,
                        "count": 0
                      },
                      {
                        "bin_start": 15921.803000000002,
                        "bin_end": 18196.202,
                        "count": 0
                      },
                      {
                        "bin_start": 18196.202,
                        "bin_end": 20470.601000000002,
                        "count": 0
                      },
                      {
                        "bin_start": 20470.601000000002,
                        "bin_end": 22745,
                        "count": 1
                      }
                    ]
                  }
                },
                {
                  "name": "_deepnote_index_column",
                  "dtype": "object"
                }
              ],
              "rows_top": [
                {
                  "ATP": 52298,
                  "Best of": 52298,
                  "WRank": 52282,
                  "LRank": 52193,
                  "W1": 52035,
                  "L1": 52037,
                  "W2": 51524,
                  "L2": 51525,
                  "W3": 24070,
                  "L3": 24070,
                  "W4": 4731,
                  "L4": 4731,
                  "W5": 1791,
                  "L5": 1791,
                  "Wsets": 52074,
                  "Lsets": 52072,
                  "CBW": 17506,
                  "CBL": 17506,
                  "GBW": 5055,
                  "GBL": 5055,
                  "IWW": 13358,
                  "IWL": 13358,
                  "SBW": 5424,
                  "SBL": 5424,
                  "B365W": 43643,
                  "B365L": 43666,
                  "B&WW": 1097,
                  "B&WL": 1097,
                  "EXL": 39416,
                  "PSW": 37339,
                  "PSL": 37339,
                  "WPts": 36094,
                  "LPts": 36035,
                  "UBW": 10671,
                  "UBL": 10671,
                  "LBW": 28131,
                  "LBL": 28142,
                  "SJW": 15572,
                  "SJL": 15579,
                  "MaxW": 22745,
                  "MaxL": 22745,
                  "AvgW": 22745,
                  "AvgL": 22745,
                  "_deepnote_index_column": "count"
                },
                {
                  "ATP": 33.22253241041722,
                  "Best of": 3.3723660560633295,
                  "WRank": 59.172564171225275,
                  "LRank": 92.22704194049011,
                  "W1": 5.794330738925723,
                  "L1": 4.05622922151546,
                  "W2": 5.772824314882385,
                  "L2": 3.8726637554585155,
                  "W3": 6.025051931865392,
                  "L3": 3.6071042791857084,
                  "W4": 5.777002747833439,
                  "L4": 3.8634538152610443,
                  "W5": 6.637632607481854,
                  "L5": 3.756002233389168,
                  "Wsets": 2.1417598033567615,
                  "Lsets": 0.407800737440467,
                  "CBW": 1.8120797440877414,
                  "CBL": 3.0006580600936825,
                  "GBW": 1.7387418397626113,
                  "GBL": 2.401363006923838,
                  "IWW": 1.6715849678095522,
                  "IWL": 2.387132055696961,
                  "SBW": 1.7930352138643066,
                  "SBL": 2.672063974926254,
                  "B365W": 1.8237682102513577,
                  "B365L": 3.551804836715064,
                  "B&WW": 1.7286326344576117,
                  "B&WL": 2.547347310847767,
                  "EXL": 3.262179571747514,
                  "PSW": 1.9267421194997192,
                  "PSL": 4.186818125820189,
                  "WPts": 1831.8916440405608,
                  "LPts": 1047.5446649091161,
                  "UBW": 1.8158665542123513,
                  "UBL": 3.5424786805360324,
                  "LBW": 1.810226014005901,
                  "LBL": 3.451460983583256,
                  "SJW": 1.796537631646545,
                  "SJL": 3.5579425508697606,
                  "MaxW": 1.9986102440096725,
                  "MaxL": 8.326076060672674,
                  "AvgW": 1.8348212794020664,
                  "AvgL": 3.5944480545174766,
                  "_deepnote_index_column": "mean"
                },
                {
                  "ATP": 18.115493448686728,
                  "Best of": 0.7785160380669638,
                  "WRank": 73.61486607747139,
                  "LRank": 116.94784457756145,
                  "W1": 1.23957719848752,
                  "L1": 1.8452063725616035,
                  "W2": 1.2565447600140631,
                  "L2": 1.8745366474527758,
                  "W3": 0.9321110525998907,
                  "L3": 1.7673645436729282,
                  "W4": 1.274712412035065,
                  "L4": 1.8956828200019251,
                  "W5": 2.2905957316229886,
                  "L5": 2.817183205905762,
                  "Wsets": 0.4603105445993273,
                  "Lsets": 0.5576956126003856,
                  "CBW": 0.8682542953723733,
                  "CBL": 2.0327912888022235,
                  "GBW": 0.6144544036035657,
                  "GBL": 1.0573051239940339,
                  "IWW": 0.5853995606282124,
                  "IWL": 1.0488181004017378,
                  "SBW": 0.7510263767188283,
                  "SBL": 1.4246722820848012,
                  "B365W": 1.1008056719015245,
                  "B365L": 3.5275639502013383,
                  "B&WW": 0.7304341705524617,
                  "B&WL": 1.3303858245716993,
                  "EXL": 2.4496274337801,
                  "PSW": 1.3347973402839204,
                  "PSL": 5.5811267499177335,
                  "WPts": 2294.3074893070752,
                  "LPts": 1213.7731684538992,
                  "UBW": 0.9962377486919288,
                  "UBL": 3.6463156552116285,
                  "LBW": 1.031690505021513,
                  "LBL": 3.075889177260772,
                  "SJW": 1.0042730831778381,
                  "SJL": 3.272510304354008,
                  "MaxW": 1.6289824218345705,
                  "MaxL": 397.2356661627662,
                  "AvgW": 1.107883957498554,
                  "AvgL": 3.282609607432499,
                  "_deepnote_index_column": "std"
                },
                {
                  "ATP": 1,
                  "Best of": 3,
                  "WRank": 1,
                  "LRank": 1,
                  "W1": 0,
                  "L1": 0,
                  "W2": 0,
                  "L2": 0,
                  "W3": 0,
                  "L3": 0,
                  "W4": 0,
                  "L4": 0,
                  "W5": 0,
                  "L5": 0,
                  "Wsets": 0,
                  "Lsets": 0,
                  "CBW": 1,
                  "CBL": 1.02,
                  "GBW": 1.01,
                  "GBL": 1.03,
                  "IWW": 1.01,
                  "IWL": 1.03,
                  "SBW": 0,
                  "SBL": 0,
                  "B365W": 1,
                  "B365L": 1.002,
                  "B&WW": 1.01,
                  "B&WL": 1.02,
                  "EXL": 1,
                  "PSW": 1,
                  "PSL": 1.01,
                  "WPts": 1,
                  "LPts": 1,
                  "UBW": 1.01,
                  "UBL": 1.02,
                  "LBW": 1,
                  "LBL": 1,
                  "SJW": 1,
                  "SJL": 1.01,
                  "MaxW": 1.01,
                  "MaxL": 1.01,
                  "AvgW": 1.01,
                  "AvgL": 1.01,
                  "_deepnote_index_column": "min"
                },
                {
                  "ATP": 19,
                  "Best of": 3,
                  "WRank": 17,
                  "LRank": 35,
                  "W1": 6,
                  "L1": 3,
                  "W2": 6,
                  "L2": 2,
                  "W3": 6,
                  "L3": 2,
                  "W4": 6,
                  "L4": 2,
                  "W5": 6,
                  "L5": 2,
                  "Wsets": 2,
                  "Lsets": 0,
                  "CBW": 1.28,
                  "CBL": 1.72,
                  "GBW": 1.33,
                  "GBL": 1.6549999999999998,
                  "IWW": 1.3,
                  "IWL": 1.65,
                  "SBW": 1.333,
                  "SBL": 1.67,
                  "B365W": 1.222,
                  "B365L": 1.72,
                  "B&WW": 1.25,
                  "B&WL": 1.6,
                  "EXL": 1.75,
                  "PSW": 1.27,
                  "PSL": 1.794,
                  "WPts": 640,
                  "LPts": 496,
                  "UBW": 1.24,
                  "UBL": 1.75,
                  "LBW": 1.25,
                  "LBL": 1.73,
                  "SJW": 1.22,
                  "SJL": 1.73,
                  "MaxW": 1.29,
                  "MaxL": 1.85,
                  "AvgW": 1.24,
                  "AvgL": 1.74,
                  "_deepnote_index_column": "25%"
                },
                {
                  "ATP": 33,
                  "Best of": 3,
                  "WRank": 41,
                  "LRank": 65,
                  "W1": 6,
                  "L1": 4,
                  "W2": 6,
                  "L2": 4,
                  "W3": 6,
                  "L3": 4,
                  "W4": 6,
                  "L4": 4,
                  "W5": 6,
                  "L5": 3,
                  "Wsets": 2,
                  "Lsets": 0,
                  "CBW": 1.55,
                  "CBL": 2.375,
                  "GBW": 1.55,
                  "GBL": 2.1,
                  "IWW": 1.5,
                  "IWL": 2.1,
                  "SBW": 1.571,
                  "SBL": 2.25,
                  "B365W": 1.5,
                  "B365L": 2.5,
                  "B&WW": 1.5,
                  "B&WL": 2.15,
                  "EXL": 2.46,
                  "PSW": 1.55,
                  "PSL": 2.66,
                  "WPts": 1007,
                  "LPts": 736,
                  "UBW": 1.5,
                  "UBL": 2.5,
                  "LBW": 1.5,
                  "LBL": 2.5,
                  "SJW": 1.5,
                  "SJL": 2.63,
                  "MaxW": 1.57,
                  "MaxL": 2.78,
                  "AvgW": 1.5,
                  "AvgL": 2.55,
                  "_deepnote_index_column": "50%"
                },
                {
                  "ATP": 49,
                  "Best of": 3,
                  "WRank": 77,
                  "LRank": 105,
                  "W1": 6,
                  "L1": 6,
                  "W2": 6,
                  "L2": 6,
                  "W3": 6,
                  "L3": 5,
                  "W4": 6,
                  "L4": 6,
                  "W5": 7,
                  "L5": 5,
                  "Wsets": 2,
                  "Lsets": 1,
                  "CBW": 2.05,
                  "CBL": 3.4,
                  "GBW": 1.98,
                  "GBL": 2.8,
                  "IWW": 1.85,
                  "IWL": 2.9,
                  "SBW": 2.1,
                  "SBL": 3,
                  "B365W": 2.075,
                  "B365L": 4,
                  "B&WW": 1.95,
                  "B&WL": 3.1,
                  "EXL": 3.75,
                  "PSW": 2.14,
                  "PSL": 4.24,
                  "WPts": 1895,
                  "LPts": 1141,
                  "UBW": 2.03,
                  "UBL": 3.85,
                  "LBW": 2,
                  "LBL": 4,
                  "SJW": 2,
                  "SJL": 4,
                  "MaxW": 2.2,
                  "MaxL": 4.54,
                  "AvgW": 2.06,
                  "AvgL": 3.99,
                  "_deepnote_index_column": "75%"
                },
                {
                  "ATP": 69,
                  "Best of": 5,
                  "WRank": 1890,
                  "LRank": 2159,
                  "W1": 7,
                  "L1": 7,
                  "W2": 7,
                  "L2": 7,
                  "W3": 7,
                  "L3": 7,
                  "W4": 7,
                  "L4": 7,
                  "W5": 70,
                  "L5": 68,
                  "Wsets": 3,
                  "Lsets": 2,
                  "CBW": 14,
                  "CBL": 25,
                  "GBW": 7.5,
                  "GBL": 11,
                  "IWW": 6,
                  "IWL": 10,
                  "SBW": 9,
                  "SBL": 13,
                  "B365W": 29,
                  "B365L": 101,
                  "B&WW": 7.5,
                  "B&WL": 9,
                  "EXL": 40,
                  "PSW": 46,
                  "PSL": 121,
                  "WPts": 16950,
                  "LPts": 16950,
                  "UBW": 18,
                  "UBL": 60,
                  "LBW": 26,
                  "LBL": 51,
                  "SJW": 19,
                  "SJL": 81,
                  "MaxW": 76,
                  "MaxL": 42586,
                  "AvgW": 23.45,
                  "AvgL": 36.44,
                  "_deepnote_index_column": "max"
                }
              ],
              "rows_bottom": null
            },
            "text/plain": "                ATP       Best of         WRank         LRank            W1  \\\ncount  52298.000000  52298.000000  52282.000000  52193.000000  52035.000000   \nmean      33.222532      3.372366     59.172564     92.227042      5.794331   \nstd       18.115493      0.778516     73.614866    116.947845      1.239577   \nmin        1.000000      3.000000      1.000000      1.000000      0.000000   \n25%       19.000000      3.000000     17.000000     35.000000      6.000000   \n50%       33.000000      3.000000     41.000000     65.000000      6.000000   \n75%       49.000000      3.000000     77.000000    105.000000      6.000000   \nmax       69.000000      5.000000   1890.000000   2159.000000      7.000000   \n\n                 L1            W2            L2            W3            L3  \\\ncount  52037.000000  51524.000000  51525.000000  24070.000000  24070.000000   \nmean       4.056229      5.772824      3.872664      6.025052      3.607104   \nstd        1.845206      1.256545      1.874537      0.932111      1.767365   \nmin        0.000000      0.000000      0.000000      0.000000      0.000000   \n25%        3.000000      6.000000      2.000000      6.000000      2.000000   \n50%        4.000000      6.000000      4.000000      6.000000      4.000000   \n75%        6.000000      6.000000      6.000000      6.000000      5.000000   \nmax        7.000000      7.000000      7.000000      7.000000      7.000000   \n\n       ...           UBW           UBL           LBW           LBL  \\\ncount  ...  10671.000000  10671.000000  28131.000000  28142.000000   \nmean   ...      1.815867      3.542479      1.810226      3.451461   \nstd    ...      0.996238      3.646316      1.031691      3.075889   \nmin    ...      1.010000      1.020000      1.000000      1.000000   \n25%    ...      1.240000      1.750000      1.250000      1.730000   \n50%    ...      1.500000      2.500000      1.500000      2.500000   \n75%    ...      2.030000      3.850000      2.000000      4.000000   \nmax    ...     18.000000     60.000000     26.000000     51.000000   \n\n                SJW           SJL          MaxW          MaxL          AvgW  \\\ncount  15572.000000  15579.000000  22745.000000  22745.000000  22745.000000   \nmean       1.796538      3.557943      1.998610      8.326076      1.834821   \nstd        1.004273      3.272510      1.628982    397.235666      1.107884   \nmin        1.000000      1.010000      1.010000      1.010000      1.010000   \n25%        1.220000      1.730000      1.290000      1.850000      1.240000   \n50%        1.500000      2.630000      1.570000      2.780000      1.500000   \n75%        2.000000      4.000000      2.200000      4.540000      2.060000   \nmax       19.000000     81.000000     76.000000  42586.000000     23.450000   \n\n               AvgL  \ncount  22745.000000  \nmean       3.594448  \nstd        3.282610  \nmin        1.010000  \n25%        1.740000  \n50%        2.550000  \n75%        3.990000  \nmax       36.440000  \n\n[8 rows x 43 columns]",
            "text/html": "<div>\n<style scoped>\n    .dataframe tbody tr th:only-of-type {\n        vertical-align: middle;\n    }\n\n    .dataframe tbody tr th {\n        vertical-align: top;\n    }\n\n    .dataframe thead th {\n        text-align: right;\n    }\n</style>\n<table border=\"1\" class=\"dataframe\">\n  <thead>\n    <tr style=\"text-align: right;\">\n      <th></th>\n      <th>ATP</th>\n      <th>Best of</th>\n      <th>WRank</th>\n      <th>LRank</th>\n      <th>W1</th>\n      <th>L1</th>\n      <th>W2</th>\n      <th>L2</th>\n      <th>W3</th>\n      <th>L3</th>\n      <th>...</th>\n      <th>UBW</th>\n      <th>UBL</th>\n      <th>LBW</th>\n      <th>LBL</th>\n      <th>SJW</th>\n      <th>SJL</th>\n      <th>MaxW</th>\n      <th>MaxL</th>\n      <th>AvgW</th>\n      <th>AvgL</th>\n    </tr>\n  </thead>\n  <tbody>\n    <tr>\n      <th>count</th>\n      <td>52298.000000</td>\n      <td>52298.000000</td>\n      <td>52282.000000</td>\n      <td>52193.000000</td>\n      <td>52035.000000</td>\n      <td>52037.000000</td>\n      <td>51524.000000</td>\n      <td>51525.000000</td>\n      <td>24070.000000</td>\n      <td>24070.000000</td>\n      <td>...</td>\n      <td>10671.000000</td>\n      <td>10671.000000</td>\n      <td>28131.000000</td>\n      <td>28142.000000</td>\n      <td>15572.000000</td>\n      <td>15579.000000</td>\n      <td>22745.000000</td>\n      <td>22745.000000</td>\n      <td>22745.000000</td>\n      <td>22745.000000</td>\n    </tr>\n    <tr>\n      <th>mean</th>\n      <td>33.222532</td>\n      <td>3.372366</td>\n      <td>59.172564</td>\n      <td>92.227042</td>\n      <td>5.794331</td>\n      <td>4.056229</td>\n      <td>5.772824</td>\n      <td>3.872664</td>\n      <td>6.025052</td>\n      <td>3.607104</td>\n      <td>...</td>\n      <td>1.815867</td>\n      <td>3.542479</td>\n      <td>1.810226</td>\n      <td>3.451461</td>\n      <td>1.796538</td>\n      <td>3.557943</td>\n      <td>1.998610</td>\n      <td>8.326076</td>\n      <td>1.834821</td>\n      <td>3.594448</td>\n    </tr>\n    <tr>\n      <th>std</th>\n      <td>18.115493</td>\n      <td>0.778516</td>\n      <td>73.614866</td>\n      <td>116.947845</td>\n      <td>1.239577</td>\n      <td>1.845206</td>\n      <td>1.256545</td>\n      <td>1.874537</td>\n      <td>0.932111</td>\n      <td>1.767365</td>\n      <td>...</td>\n      <td>0.996238</td>\n      <td>3.646316</td>\n      <td>1.031691</td>\n      <td>3.075889</td>\n      <td>1.004273</td>\n      <td>3.272510</td>\n      <td>1.628982</td>\n      <td>397.235666</td>\n      <td>1.107884</td>\n      <td>3.282610</td>\n    </tr>\n    <tr>\n      <th>min</th>\n      <td>1.000000</td>\n      <td>3.000000</td>\n      <td>1.000000</td>\n      <td>1.000000</td>\n      <td>0.000000</td>\n      <td>0.000000</td>\n      <td>0.000000</td>\n      <td>0.000000</td>\n      <td>0.000000</td>\n      <td>0.000000</td>\n      <td>...</td>\n      <td>1.010000</td>\n      <td>1.020000</td>\n      <td>1.000000</td>\n      <td>1.000000</td>\n      <td>1.000000</td>\n      <td>1.010000</td>\n      <td>1.010000</td>\n      <td>1.010000</td>\n      <td>1.010000</td>\n      <td>1.010000</td>\n    </tr>\n    <tr>\n      <th>25%</th>\n      <td>19.000000</td>\n      <td>3.000000</td>\n      <td>17.000000</td>\n      <td>35.000000</td>\n      <td>6.000000</td>\n      <td>3.000000</td>\n      <td>6.000000</td>\n      <td>2.000000</td>\n      <td>6.000000</td>\n      <td>2.000000</td>\n      <td>...</td>\n      <td>1.240000</td>\n      <td>1.750000</td>\n      <td>1.250000</td>\n      <td>1.730000</td>\n      <td>1.220000</td>\n      <td>1.730000</td>\n      <td>1.290000</td>\n      <td>1.850000</td>\n      <td>1.240000</td>\n      <td>1.740000</td>\n    </tr>\n    <tr>\n      <th>50%</th>\n      <td>33.000000</td>\n      <td>3.000000</td>\n      <td>41.000000</td>\n      <td>65.000000</td>\n      <td>6.000000</td>\n      <td>4.000000</td>\n      <td>6.000000</td>\n      <td>4.000000</td>\n      <td>6.000000</td>\n      <td>4.000000</td>\n      <td>...</td>\n      <td>1.500000</td>\n      <td>2.500000</td>\n      <td>1.500000</td>\n      <td>2.500000</td>\n      <td>1.500000</td>\n      <td>2.630000</td>\n      <td>1.570000</td>\n      <td>2.780000</td>\n      <td>1.500000</td>\n      <td>2.550000</td>\n    </tr>\n    <tr>\n      <th>75%</th>\n      <td>49.000000</td>\n      <td>3.000000</td>\n      <td>77.000000</td>\n      <td>105.000000</td>\n      <td>6.000000</td>\n      <td>6.000000</td>\n      <td>6.000000</td>\n      <td>6.000000</td>\n      <td>6.000000</td>\n      <td>5.000000</td>\n      <td>...</td>\n      <td>2.030000</td>\n      <td>3.850000</td>\n      <td>2.000000</td>\n      <td>4.000000</td>\n      <td>2.000000</td>\n      <td>4.000000</td>\n      <td>2.200000</td>\n      <td>4.540000</td>\n      <td>2.060000</td>\n      <td>3.990000</td>\n    </tr>\n    <tr>\n      <th>max</th>\n      <td>69.000000</td>\n      <td>5.000000</td>\n      <td>1890.000000</td>\n      <td>2159.000000</td>\n      <td>7.000000</td>\n      <td>7.000000</td>\n      <td>7.000000</td>\n      <td>7.000000</td>\n      <td>7.000000</td>\n      <td>7.000000</td>\n      <td>...</td>\n      <td>18.000000</td>\n      <td>60.000000</td>\n      <td>26.000000</td>\n      <td>51.000000</td>\n      <td>19.000000</td>\n      <td>81.000000</td>\n      <td>76.000000</td>\n      <td>42586.000000</td>\n      <td>23.450000</td>\n      <td>36.440000</td>\n    </tr>\n  </tbody>\n</table>\n<p>8 rows × 43 columns</p>\n</div>"
          },
          "metadata": {}
        }
      ],
      "execution_count": null
    },
    {
      "cell_type": "markdown",
      "source": "# Question 1 - 2 points\nWho are the three ATP players with the most wins ?",
      "metadata": {
        "id": "4JjtgMoBtW96",
        "cell_id": "00007-6077fde6-788b-48ca-b910-03d79d1b03a9",
        "deepnote_cell_type": "markdown"
      }
    },
    {
      "cell_type": "code",
      "metadata": {
        "tags": [],
        "cell_id": "00008-01ba7c96-01f8-4a07-9a74-cad0f94f5833",
        "deepnote_to_be_reexecuted": false,
        "source_hash": "2089657",
        "execution_millis": 173,
        "is_code_hidden": false,
        "execution_start": 1616727386507,
        "deepnote_cell_type": "code"
      },
      "source": "# Computing results :\nwinner_count = df_atp[\"Winner\"].value_counts()\n\n\n# Printing results :\nprint(winner_count)\n\n\n# Plotting a happy little graph :\nwinner_count[:3].plot.bar()\nplt.title('Number of win by player')",
      "outputs": [
        {
          "name": "stdout",
          "text": "Federer R.         1121\nNadal R.            891\nDjokovic N.         802\nFerrer D.           691\nMurray A.           624\n                   ... \nRieschick S.          1\nHernych J.            1\nMatsukevitch D.       1\nTobon M.              1\nKontinen H.           1\nName: Winner, Length: 948, dtype: int64\n",
          "output_type": "stream"
        },
        {
          "output_type": "execute_result",
          "execution_count": 11,
          "data": {
            "text/plain": "Text(0.5, 1.0, 'Number of win by player')"
          },
          "metadata": {}
        },
        {
          "data": {
            "text/plain": "<Figure size 432x288 with 1 Axes>",
            "image/png": "[encoded data removed]"
          },
          "metadata": {
            "needs_background": "light"
          },
          "output_type": "display_data"
        }
      ],
      "execution_count": null
    },
    {
      "cell_type": "markdown",
      "source": "As we can see, the three ATP players with the most wins are :\n- `Federer R.` with `1121` wins\n- `Nadal R.` with `891` wins\n- `Djokovic N.` with `802` wins",
      "metadata": {
        "tags": [],
        "cell_id": "00009-ec1e7c16-73c8-4675-a54e-24dbf62d8f87",
        "deepnote_cell_type": "markdown"
      }
    },
    {
      "cell_type": "markdown",
      "source": "# Question 2 - 2 points\nHow many sets did the player “ Federer R.” win in total ?",
      "metadata": {
        "id": "gVxNR1Vltafi",
        "cell_id": "00009-e7bf44e4-7a76-4784-8086-ebb1d992f0bd",
        "deepnote_cell_type": "markdown"
      }
    },
    {
      "cell_type": "code",
      "metadata": {
        "id": "L-pY62evte7q",
        "cell_id": "00010-74737b58-f093-4a9f-913f-79663abfcb0d",
        "deepnote_to_be_reexecuted": false,
        "source_hash": "75c6270a",
        "execution_millis": 18,
        "execution_start": 1616727386685,
        "deepnote_cell_type": "code"
      },
      "source": "# Constants :\nplayer_name = 'Federer R.'\n\n\n# Returns the number of sets won by a given player\ndef setsWonByPlayer(dataset, player_name):\n    \"\"\"Returns the number of sets won by a given player\"\"\"\n    \n    set_won_win = dataset[(dataset['Winner'] == player_name)]['Wsets'].sum()\n    set_won_los = dataset[(dataset['Loser'] == player_name)]['Lsets'].sum()\n            \n    return set_won_win + set_won_los\n\n\n\n# Computing results :\ntotal_sets = setsWonByPlayer(df_atp, player_name)\n\n\n\n# Printing results :\nprint(f'Total sets won : {total_sets}')",
      "outputs": [
        {
          "name": "stdout",
          "text": "Total sets won : 2695.0\n",
          "output_type": "stream"
        }
      ],
      "execution_count": null
    },
    {
      "cell_type": "markdown",
      "source": "Roger Federer has won `2695 sets` between `2000` and `2019`.",
      "metadata": {
        "tags": [],
        "cell_id": "00012-2e4ef60b-cd16-4890-ab96-77ae98708af0",
        "deepnote_cell_type": "markdown"
      }
    },
    {
      "cell_type": "markdown",
      "source": "# Question 3 - 2 points\nHow many sets did the player “ Federer R.” win during the years 2016 and 2017 ?",
      "metadata": {
        "id": "mty2-RVftfZb",
        "cell_id": "00011-9b1c51ac-eb81-4103-8cdf-823160f2b78d",
        "deepnote_cell_type": "markdown"
      }
    },
    {
      "cell_type": "code",
      "metadata": {
        "id": "kXzzkGt0tkC7",
        "cell_id": "00012-dbb48760-fdd7-4a60-8b03-4374d6a9bdbd",
        "deepnote_to_be_reexecuted": false,
        "source_hash": "56d569de",
        "execution_millis": 21,
        "output_cleared": false,
        "execution_start": 1616727386698,
        "deepnote_cell_type": "code"
      },
      "source": "# Constants :\nplayer_name = 'Federer R.'\ndf_atp_2016 = df_atp[df_atp['Date'].between('2016-1-1','2016-12-31')]\ndf_atp_2017 = df_atp[df_atp['Date'].between('2017-1-1','2017-12-31')]\n\n\n# Computing results :\nsets_2016 = setsWonByPlayer(df_atp_2016, player_name)\nsets_2017 = setsWonByPlayer(df_atp_2017, player_name)\n\n\n# Printing results :\nprint(f'Sets won in 2016: {sets_2016}.')\nprint(f'Sets won in 2017: {sets_2017}.')\nprint(f'Total over 2016 and 2017: {sets_2016 + sets_2017}')",
      "outputs": [
        {
          "name": "stdout",
          "text": "Sets won in 2016: 58.0.\nSets won in 2017: 124.0.\nTotal over 2016 and 2017: 182.0\n",
          "output_type": "stream"
        }
      ],
      "execution_count": null
    },
    {
      "cell_type": "markdown",
      "source": "Roger Federer won :\n* `58 sets` in `2016`, which is not really surprising because he had a knee injury and 2016 and couldn't play for a substantial part of the year.\n* `124 sets` in `2017`, which is also consistent with his career (1100+ matches won over 20 years, with 2 or 3 sets per match)",
      "metadata": {
        "tags": [],
        "cell_id": "00015-d73ba905-26a7-4a52-910f-50b56165afcb",
        "deepnote_cell_type": "markdown"
      }
    },
    {
      "cell_type": "markdown",
      "source": "# Question 4 - 2 points\nFor each match, what is the percentage of victories of the winner in the past ?",
      "metadata": {
        "id": "Hj-0TPIWtkbU",
        "cell_id": "00013-03328a0c-61c1-41ee-b172-8796cb6bfbe3",
        "deepnote_cell_type": "markdown"
      }
    },
    {
      "cell_type": "code",
      "source": "def getWinRate(current, player):\n    \"\"\"Function to compute the win rate for current match\"\"\"\n\n    # get dataframe for the period before the current match\n    prev_matches = df_atp[(df_atp['Date'] < current['Date'])]\n\n    # get all match won\n    won_matches = prev_matches[(current[player] == prev_matches['Winner'])]\n\n    if len(won_matches) == 0:\n        return 0.0\n    else:\n        loss_matches = prev_matches[(current[player] == prev_matches['Loser'])]\n        return len(won_matches) / (len(won_matches) + len(loss_matches))\n",
      "metadata": {
        "tags": [],
        "cell_id": "00028-8f89072d-1b71-4e38-a269-0264d87841d2",
        "deepnote_to_be_reexecuted": false,
        "source_hash": "fee09514",
        "execution_millis": 2,
        "execution_start": 1616727386712,
        "deepnote_cell_type": "code"
      },
      "outputs": [],
      "execution_count": null
    },
    {
      "cell_type": "code",
      "source": "def getWinRateWinner(current):\n    return getWinRate(current, 'Winner')\n\ndef getWinRateLoser(current):\n    return getWinRate(current, 'Loser')\n\ndf_atp['Winner_Winrate'] = df_atp.apply(getWinRateWinner, axis=1)\ndf_atp['Loser_Winrate'] = df_atp.apply(getWinRateLoser, axis=1)",
      "metadata": {
        "tags": [],
        "cell_id": "00029-8ee2b720-2a02-4106-84a3-845ca169b5ea",
        "deepnote_to_be_reexecuted": false,
        "source_hash": "1662ef4e",
        "execution_millis": 1119706,
        "execution_start": 1616727386716,
        "deepnote_cell_type": "code"
      },
      "outputs": [],
      "execution_count": null
    },
    {
      "cell_type": "code",
      "source": "df_atp[['Winner', 'Winner_Winrate', 'Loser', 'Loser_Winrate']]",
      "metadata": {
        "tags": [],
        "cell_id": "00030-e5f9278d-48c3-4a9e-977c-1654a1417be2",
        "deepnote_to_be_reexecuted": false,
        "source_hash": "d159e3b9",
        "execution_millis": 18,
        "execution_start": 1616728506469,
        "deepnote_cell_type": "code"
      },
      "outputs": [
        {
          "output_type": "execute_result",
          "execution_count": 16,
          "data": {
            "application/vnd.deepnote.dataframe.v2+json": {
              "row_count": 52298,
              "column_count": 4,
              "columns": [
                {
                  "name": "Winner",
                  "dtype": "object",
                  "stats": {
                    "unique_count": 948,
                    "nan_count": 0,
                    "categories": [
                      {
                        "name": "Federer R.",
                        "count": 1121
                      },
                      {
                        "name": "Nadal R.",
                        "count": 891
                      },
                      {
                        "name": "946 others",
                        "count": 50286
                      }
                    ]
                  }
                },
                {
                  "name": "Winner_Winrate",
                  "dtype": "float64"
                },
                {
                  "name": "Loser",
                  "dtype": "object"
                },
                {
                  "name": "Loser_Winrate",
                  "dtype": "float64"
                },
                {
                  "name": "_deepnote_index_column",
                  "dtype": "int64"
                }
              ],
              "rows_top": [
                {
                  "Winner": "Dosedel S.",
                  "Winner_Winrate": 0,
                  "Loser": "Ljubicic I.",
                  "Loser_Winrate": 0,
                  "_deepnote_index_column": 0
                },
                {
                  "Winner": "Enqvist T.",
                  "Winner_Winrate": 0,
                  "Loser": "Clement A.",
                  "Loser_Winrate": 0,
                  "_deepnote_index_column": 1
                },
                {
                  "Winner": "Escude N.",
                  "Winner_Winrate": 0,
                  "Loser": "Baccanello P.",
                  "Loser_Winrate": 0,
                  "_deepnote_index_column": 2
                },
                {
                  "Winner": "Federer R.",
                  "Winner_Winrate": 0,
                  "Loser": "Knippschild J.",
                  "Loser_Winrate": 0,
                  "_deepnote_index_column": 3
                },
                {
                  "Winner": "Fromberg R.",
                  "Winner_Winrate": 0,
                  "Loser": "Woodbridge T.",
                  "Loser_Winrate": 0,
                  "_deepnote_index_column": 4
                },
                {
                  "Winner": "Gambill J.M.",
                  "Winner_Winrate": 0,
                  "Loser": "Arthurs W.",
                  "Loser_Winrate": 0,
                  "_deepnote_index_column": 5
                },
                {
                  "Winner": "Grosjean S.",
                  "Winner_Winrate": 0,
                  "Loser": "Ilie A.",
                  "Loser_Winrate": 0,
                  "_deepnote_index_column": 6
                },
                {
                  "Winner": "Henman T.",
                  "Winner_Winrate": 0,
                  "Loser": "Balcells J.",
                  "Loser_Winrate": 0,
                  "_deepnote_index_column": 7
                },
                {
                  "Winner": "Hewitt L.",
                  "Winner_Winrate": 0,
                  "Loser": "Woodforde M.",
                  "Loser_Winrate": 0,
                  "_deepnote_index_column": 8
                },
                {
                  "Winner": "Lisnard J.",
                  "Winner_Winrate": 0,
                  "Loser": "Tebbutt M.",
                  "Loser_Winrate": 0,
                  "_deepnote_index_column": 9
                },
                {
                  "Winner": "Martin A.",
                  "Winner_Winrate": 0,
                  "Loser": "Spadea V.",
                  "Loser_Winrate": 0,
                  "_deepnote_index_column": 10
                },
                {
                  "Winner": "Norman M.",
                  "Winner_Winrate": 0,
                  "Loser": "Draper S.",
                  "Loser_Winrate": 0,
                  "_deepnote_index_column": 11
                },
                {
                  "Winner": "Petrovic D.",
                  "Winner_Winrate": 0,
                  "Loser": "Huet S.",
                  "Loser_Winrate": 0,
                  "_deepnote_index_column": 12
                },
                {
                  "Winner": "Sekulov J.",
                  "Winner_Winrate": 0,
                  "Loser": "Pozzi G.",
                  "Loser_Winrate": 0,
                  "_deepnote_index_column": 13
                },
                {
                  "Winner": "Stoltenberg J.",
                  "Winner_Winrate": 0,
                  "Loser": "Hrbaty D.",
                  "Loser_Winrate": 0,
                  "_deepnote_index_column": 14
                },
                {
                  "Winner": "Vinck C.",
                  "Winner_Winrate": 0,
                  "Loser": "Goldstein P.",
                  "Loser_Winrate": 0,
                  "_deepnote_index_column": 15
                },
                {
                  "Winner": "Enqvist T.",
                  "Winner_Winrate": 0,
                  "Loser": "Federer R.",
                  "Loser_Winrate": 0,
                  "_deepnote_index_column": 16
                },
                {
                  "Winner": "Escude N.",
                  "Winner_Winrate": 0,
                  "Loser": "Dosedel S.",
                  "Loser_Winrate": 0,
                  "_deepnote_index_column": 17
                },
                {
                  "Winner": "Grosjean S.",
                  "Winner_Winrate": 0,
                  "Loser": "Gambill J.M.",
                  "Loser_Winrate": 0,
                  "_deepnote_index_column": 18
                },
                {
                  "Winner": "Henman T.",
                  "Winner_Winrate": 0,
                  "Loser": "Lisnard J.",
                  "Loser_Winrate": 0,
                  "_deepnote_index_column": 19
                },
                {
                  "Winner": "Hewitt L.",
                  "Winner_Winrate": 0,
                  "Loser": "Petrovic D.",
                  "Loser_Winrate": 0,
                  "_deepnote_index_column": 20
                },
                {
                  "Winner": "Martin A.",
                  "Winner_Winrate": 0,
                  "Loser": "Sekulov J.",
                  "Loser_Winrate": 0,
                  "_deepnote_index_column": 21
                },
                {
                  "Winner": "Norman M.",
                  "Winner_Winrate": 0,
                  "Loser": "Fromberg R.",
                  "Loser_Winrate": 0,
                  "_deepnote_index_column": 22
                },
                {
                  "Winner": "Stoltenberg J.",
                  "Winner_Winrate": 0,
                  "Loser": "Vinck C.",
                  "Loser_Winrate": 0,
                  "_deepnote_index_column": 23
                },
                {
                  "Winner": "Enqvist T.",
                  "Winner_Winrate": 0,
                  "Loser": "Grosjean S.",
                  "Loser_Winrate": 0,
                  "_deepnote_index_column": 24
                },
                {
                  "Winner": "Escude N.",
                  "Winner_Winrate": 0,
                  "Loser": "Henman T.",
                  "Loser_Winrate": 0,
                  "_deepnote_index_column": 25
                },
                {
                  "Winner": "Hewitt L.",
                  "Winner_Winrate": 0,
                  "Loser": "Stoltenberg J.",
                  "Loser_Winrate": 0,
                  "_deepnote_index_column": 26
                },
                {
                  "Winner": "Norman M.",
                  "Winner_Winrate": 0,
                  "Loser": "Martin A.",
                  "Loser_Winrate": 0,
                  "_deepnote_index_column": 27
                },
                {
                  "Winner": "Enqvist T.",
                  "Winner_Winrate": 0,
                  "Loser": "Norman M.",
                  "Loser_Winrate": 0,
                  "_deepnote_index_column": 28
                },
                {
                  "Winner": "Hewitt L.",
                  "Winner_Winrate": 0,
                  "Loser": "Escude N.",
                  "Loser_Winrate": 0,
                  "_deepnote_index_column": 29
                },
                {
                  "Winner": "Hewitt L.",
                  "Winner_Winrate": 0,
                  "Loser": "Enqvist T.",
                  "Loser_Winrate": 0,
                  "_deepnote_index_column": 30
                },
                {
                  "Winner": "Agenor R.",
                  "Winner_Winrate": 0,
                  "Loser": "Kumar S.",
                  "Loser_Winrate": 0,
                  "_deepnote_index_column": 31
                },
                {
                  "Winner": "Behrend T.",
                  "Winner_Winrate": 0,
                  "Loser": "Popp A.",
                  "Loser_Winrate": 0,
                  "_deepnote_index_column": 32
                },
                {
                  "Winner": "Damm M.",
                  "Winner_Winrate": 0,
                  "Loser": "Rochus C.",
                  "Loser_Winrate": 0,
                  "_deepnote_index_column": 33
                },
                {
                  "Winner": "Delgado J.",
                  "Winner_Winrate": 0,
                  "Loser": "Black B.",
                  "Loser_Winrate": 0,
                  "_deepnote_index_column": 34
                },
                {
                  "Winner": "Golmard J.",
                  "Winner_Winrate": 0,
                  "Loser": "Spottl M.",
                  "Loser_Winrate": 0,
                  "_deepnote_index_column": 35
                },
                {
                  "Winner": "Hantschk M.",
                  "Winner_Winrate": 0,
                  "Loser": "Tieleman L.",
                  "Loser_Winrate": 0,
                  "_deepnote_index_column": 36
                },
                {
                  "Winner": "Jonsson F.",
                  "Winner_Winrate": 0,
                  "Loser": "Kroslak J.",
                  "Loser_Winrate": 0,
                  "_deepnote_index_column": 37
                },
                {
                  "Winner": "Ketola T.",
                  "Winner_Winrate": 0,
                  "Loser": "Ogorodov O.",
                  "Loser_Winrate": 0,
                  "_deepnote_index_column": 38
                },
                {
                  "Winner": "Manta L.",
                  "Winner_Winrate": 0,
                  "Loser": "Zib T.",
                  "Loser_Winrate": 0,
                  "_deepnote_index_column": 39
                },
                {
                  "Winner": "Paes L.",
                  "Winner_Winrate": 0,
                  "Loser": "Boutter J.",
                  "Loser_Winrate": 0,
                  "_deepnote_index_column": 40
                },
                {
                  "Winner": "Pioline C.",
                  "Winner_Winrate": 0,
                  "Loser": "Ram A.",
                  "Loser_Winrate": 0,
                  "_deepnote_index_column": 41
                },
                {
                  "Winner": "Sanguinetti D.",
                  "Winner_Winrate": 0,
                  "Loser": "Voinea A.",
                  "Loser_Winrate": 0,
                  "_deepnote_index_column": 42
                },
                {
                  "Winner": "Stanoytchev O.",
                  "Winner_Winrate": 0,
                  "Loser": "Kilderry P.",
                  "Loser_Winrate": 0,
                  "_deepnote_index_column": 43
                },
                {
                  "Winner": "Tabara M.",
                  "Winner_Winrate": 0,
                  "Loser": "Kafelnikov Y.",
                  "Loser_Winrate": 0,
                  "_deepnote_index_column": 44
                },
                {
                  "Winner": "Vanek J.",
                  "Winner_Winrate": 0,
                  "Loser": "Ishii Y.",
                  "Loser_Winrate": 0,
                  "_deepnote_index_column": 45
                },
                {
                  "Winner": "Vinciguerra A.",
                  "Winner_Winrate": 0,
                  "Loser": "Lopez-Moron A.",
                  "Loser_Winrate": 0,
                  "_deepnote_index_column": 46
                },
                {
                  "Winner": "Damm M.",
                  "Winner_Winrate": 0,
                  "Loser": "Agenor R.",
                  "Loser_Winrate": 0,
                  "_deepnote_index_column": 47
                },
                {
                  "Winner": "Delgado J.",
                  "Winner_Winrate": 0,
                  "Loser": "Stanoytchev O.",
                  "Loser_Winrate": 0,
                  "_deepnote_index_column": 48
                },
                {
                  "Winner": "Golmard J.",
                  "Winner_Winrate": 0,
                  "Loser": "Jonsson F.",
                  "Loser_Winrate": 0,
                  "_deepnote_index_column": 49
                },
                {
                  "Winner": "Hantschk M.",
                  "Winner_Winrate": 0,
                  "Loser": "Behrend T.",
                  "Loser_Winrate": 0,
                  "_deepnote_index_column": 50
                },
                {
                  "Winner": "Ketola T.",
                  "Winner_Winrate": 0,
                  "Loser": "Vanek J.",
                  "Loser_Winrate": 0,
                  "_deepnote_index_column": 51
                },
                {
                  "Winner": "Manta L.",
                  "Winner_Winrate": 0,
                  "Loser": "Tabara M.",
                  "Loser_Winrate": 0,
                  "_deepnote_index_column": 52
                },
                {
                  "Winner": "Pioline C.",
                  "Winner_Winrate": 0,
                  "Loser": "Paes L.",
                  "Loser_Winrate": 0,
                  "_deepnote_index_column": 53
                },
                {
                  "Winner": "Sanguinetti D.",
                  "Winner_Winrate": 0,
                  "Loser": "Vinciguerra A.",
                  "Loser_Winrate": 0,
                  "_deepnote_index_column": 54
                },
                {
                  "Winner": "Damm M.",
                  "Winner_Winrate": 0,
                  "Loser": "Manta L.",
                  "Loser_Winrate": 0,
                  "_deepnote_index_column": 55
                },
                {
                  "Winner": "Golmard J.",
                  "Winner_Winrate": 0,
                  "Loser": "Delgado J.",
                  "Loser_Winrate": 0,
                  "_deepnote_index_column": 56
                },
                {
                  "Winner": "Hantschk M.",
                  "Winner_Winrate": 0,
                  "Loser": "Ketola T.",
                  "Loser_Winrate": 0,
                  "_deepnote_index_column": 57
                },
                {
                  "Winner": "Pioline C.",
                  "Winner_Winrate": 0,
                  "Loser": "Sanguinetti D.",
                  "Loser_Winrate": 0,
                  "_deepnote_index_column": 58
                },
                {
                  "Winner": "Golmard J.",
                  "Winner_Winrate": 0,
                  "Loser": "Damm M.",
                  "Loser_Winrate": 0,
                  "_deepnote_index_column": 59
                },
                {
                  "Winner": "Hantschk M.",
                  "Winner_Winrate": 0,
                  "Loser": "Pioline C.",
                  "Loser_Winrate": 0,
                  "_deepnote_index_column": 60
                },
                {
                  "Winner": "Golmard J.",
                  "Winner_Winrate": 0,
                  "Loser": "Hantschk M.",
                  "Loser_Winrate": 0,
                  "_deepnote_index_column": 61
                },
                {
                  "Winner": "Bastl G.",
                  "Winner_Winrate": 0,
                  "Loser": "Novak J.",
                  "Loser_Winrate": 0,
                  "_deepnote_index_column": 62
                },
                {
                  "Winner": "Berasategui A.",
                  "Winner_Winrate": 0,
                  "Loser": "Al-Alawi S.K.",
                  "Loser_Winrate": 0,
                  "_deepnote_index_column": 63
                },
                {
                  "Winner": "Caratti C.",
                  "Winner_Winrate": 0,
                  "Loser": "Heuberger I.",
                  "Loser_Winrate": 0,
                  "_deepnote_index_column": 64
                },
                {
                  "Winner": "Cherkasov A.",
                  "Winner_Winrate": 0,
                  "Loser": "Arazi H.",
                  "Loser_Winrate": 0,
                  "_deepnote_index_column": 65
                },
                {
                  "Winner": "El Aynaoui Y.",
                  "Winner_Winrate": 0,
                  "Loser": "Dupuis A.",
                  "Loser_Winrate": 0,
                  "_deepnote_index_column": 66
                },
                {
                  "Winner": "Gaudio G.",
                  "Winner_Winrate": 0,
                  "Loser": "Luxa P.",
                  "Loser_Winrate": 0,
                  "_deepnote_index_column": 67
                },
                {
                  "Winner": "Kiefer N.",
                  "Winner_Winrate": 0,
                  "Loser": "Tarango J.",
                  "Loser_Winrate": 0,
                  "_deepnote_index_column": 68
                },
                {
                  "Winner": "Marin J.A.",
                  "Winner_Winrate": 0,
                  "Loser": "Mantilla F.",
                  "Loser_Winrate": 0,
                  "_deepnote_index_column": 69
                },
                {
                  "Winner": "Mirnyi M.",
                  "Winner_Winrate": 0,
                  "Loser": "Puerta M.",
                  "Loser_Winrate": 0,
                  "_deepnote_index_column": 70
                },
                {
                  "Winner": "Santoro F.",
                  "Winner_Winrate": 0,
                  "Loser": "Burgsmuller L.",
                  "Loser_Winrate": 0,
                  "_deepnote_index_column": 71
                },
                {
                  "Winner": "Schalken S.",
                  "Winner_Winrate": 0,
                  "Loser": "Diaz J.",
                  "Loser_Winrate": 0,
                  "_deepnote_index_column": 72
                },
                {
                  "Winner": "Schuettler R.",
                  "Winner_Winrate": 0,
                  "Loser": "Sanchez J.",
                  "Loser_Winrate": 0,
                  "_deepnote_index_column": 73
                },
                {
                  "Winner": "Squillari F.",
                  "Winner_Winrate": 0,
                  "Loser": "Siemerink J.",
                  "Loser_Winrate": 0,
                  "_deepnote_index_column": 74
                },
                {
                  "Winner": "Tillstrom M.",
                  "Winner_Winrate": 0,
                  "Loser": "Ivanisevic G.",
                  "Loser_Winrate": 0,
                  "_deepnote_index_column": 75
                },
                {
                  "Winner": "Vacek D.",
                  "Winner_Winrate": 0,
                  "Loser": "Vicente F.",
                  "Loser_Winrate": 0,
                  "_deepnote_index_column": 76
                },
                {
                  "Winner": "van Lottum J.",
                  "Winner_Winrate": 0,
                  "Loser": "Blanco G.",
                  "Loser_Winrate": 0,
                  "_deepnote_index_column": 77
                },
                {
                  "Winner": "Bastl G.",
                  "Winner_Winrate": 0,
                  "Loser": "Berasategui A.",
                  "Loser_Winrate": 0,
                  "_deepnote_index_column": 78
                },
                {
                  "Winner": "El Aynaoui Y.",
                  "Winner_Winrate": 0,
                  "Loser": "Gaudio G.",
                  "Loser_Winrate": 0,
                  "_deepnote_index_column": 79
                },
                {
                  "Winner": "Kiefer N.",
                  "Winner_Winrate": 0,
                  "Loser": "Caratti C.",
                  "Loser_Winrate": 0,
                  "_deepnote_index_column": 80
                },
                {
                  "Winner": "Mirnyi M.",
                  "Winner_Winrate": 0,
                  "Loser": "Marin J.A.",
                  "Loser_Winrate": 0,
                  "_deepnote_index_column": 81
                },
                {
                  "Winner": "Santoro F.",
                  "Winner_Winrate": 0,
                  "Loser": "van Lottum J.",
                  "Loser_Winrate": 0,
                  "_deepnote_index_column": 82
                },
                {
                  "Winner": "Schalken S.",
                  "Winner_Winrate": 0,
                  "Loser": "Squillari F.",
                  "Loser_Winrate": 0,
                  "_deepnote_index_column": 83
                },
                {
                  "Winner": "Schuettler R.",
                  "Winner_Winrate": 0,
                  "Loser": "Vacek D.",
                  "Loser_Winrate": 0,
                  "_deepnote_index_column": 84
                },
                {
                  "Winner": "Tillstrom M.",
                  "Winner_Winrate": 0,
                  "Loser": "Cherkasov A.",
                  "Loser_Winrate": 0,
                  "_deepnote_index_column": 85
                },
                {
                  "Winner": "El Aynaoui Y.",
                  "Winner_Winrate": 0,
                  "Loser": "Tillstrom M.",
                  "Loser_Winrate": 0,
                  "_deepnote_index_column": 86
                },
                {
                  "Winner": "Kiefer N.",
                  "Winner_Winrate": 0,
                  "Loser": "Schalken S.",
                  "Loser_Winrate": 0,
                  "_deepnote_index_column": 87
                },
                {
                  "Winner": "Santoro F.",
                  "Winner_Winrate": 0,
                  "Loser": "Bastl G.",
                  "Loser_Winrate": 0,
                  "_deepnote_index_column": 88
                },
                {
                  "Winner": "Schuettler R.",
                  "Winner_Winrate": 0,
                  "Loser": "Mirnyi M.",
                  "Loser_Winrate": 0,
                  "_deepnote_index_column": 89
                },
                {
                  "Winner": "Santoro F.",
                  "Winner_Winrate": 0,
                  "Loser": "Kiefer N.",
                  "Loser_Winrate": 0,
                  "_deepnote_index_column": 90
                },
                {
                  "Winner": "Schuettler R.",
                  "Winner_Winrate": 0,
                  "Loser": "El Aynaoui Y.",
                  "Loser_Winrate": 0,
                  "_deepnote_index_column": 91
                },
                {
                  "Winner": "Santoro F.",
                  "Winner_Winrate": 0,
                  "Loser": "Schuettler R.",
                  "Loser_Winrate": 0,
                  "_deepnote_index_column": 92
                },
                {
                  "Winner": "Balcells J.",
                  "Winner_Winrate": 0,
                  "Loser": "Squillari F.",
                  "Loser_Winrate": 0.5,
                  "_deepnote_index_column": 93
                },
                {
                  "Winner": "Behrend T.",
                  "Winner_Winrate": 0.5,
                  "Loser": "Hantschk M.",
                  "Loser_Winrate": 0.8,
                  "_deepnote_index_column": 94
                },
                {
                  "Winner": "Chang M.",
                  "Winner_Winrate": 0,
                  "Loser": "Black B.",
                  "Loser_Winrate": 0,
                  "_deepnote_index_column": 95
                },
                {
                  "Winner": "Ferrero J.C.",
                  "Winner_Winrate": 0,
                  "Loser": "Federer R.",
                  "Loser_Winrate": 0.5,
                  "_deepnote_index_column": 96
                },
                {
                  "Winner": "Gambill J.M.",
                  "Winner_Winrate": 0.5,
                  "Loser": "Fromberg R.",
                  "Loser_Winrate": 0.5,
                  "_deepnote_index_column": 97
                },
                {
                  "Winner": "Gaudio G.",
                  "Winner_Winrate": 0.5,
                  "Loser": "Sargsian S.",
                  "Loser_Winrate": 0,
                  "_deepnote_index_column": 98
                },
                {
                  "Winner": "Gustafsson M.",
                  "Winner_Winrate": 0,
                  "Loser": "Nielsen M.",
                  "Loser_Winrate": 0,
                  "_deepnote_index_column": 99
                },
                {
                  "Winner": "Haas T.",
                  "Winner_Winrate": 0,
                  "Loser": "Tarango J.",
                  "Loser_Winrate": 0,
                  "_deepnote_index_column": 100
                },
                {
                  "Winner": "Johansson T.",
                  "Winner_Winrate": 0,
                  "Loser": "Weiner G.",
                  "Loser_Winrate": 0,
                  "_deepnote_index_column": 101
                },
                {
                  "Winner": "Martin A.",
                  "Winner_Winrate": 0.6666666666666666,
                  "Loser": "Berasategui A.",
                  "Loser_Winrate": 0.5,
                  "_deepnote_index_column": 102
                },
                {
                  "Winner": "Norman M.",
                  "Winner_Winrate": 0.75,
                  "Loser": "Costa F.",
                  "Loser_Winrate": 0,
                  "_deepnote_index_column": 103
                },
                {
                  "Winner": "Novak J.",
                  "Winner_Winrate": 0,
                  "Loser": "Bjorkman J.",
                  "Loser_Winrate": 0,
                  "_deepnote_index_column": 104
                },
                {
                  "Winner": "Rosset M.",
                  "Winner_Winrate": 0,
                  "Loser": "Vicente F.",
                  "Loser_Winrate": 0,
                  "_deepnote_index_column": 105
                },
                {
                  "Winner": "Schalken S.",
                  "Winner_Winrate": 0.6666666666666666,
                  "Loser": "Ivanisevic G.",
                  "Loser_Winrate": 0,
                  "_deepnote_index_column": 106
                },
                {
                  "Winner": "Sell M.",
                  "Winner_Winrate": 0,
                  "Loser": "Escude N.",
                  "Loser_Winrate": 0.75,
                  "_deepnote_index_column": 107
                },
                {
                  "Winner": "van Lottum J.",
                  "Winner_Winrate": 0.5,
                  "Loser": "Woodruff C.",
                  "Loser_Winrate": 0,
                  "_deepnote_index_column": 108
                },
                {
                  "Winner": "Balcells J.",
                  "Winner_Winrate": 0,
                  "Loser": "Haas T.",
                  "Loser_Winrate": 0,
                  "_deepnote_index_column": 109
                },
                {
                  "Winner": "Chang M.",
                  "Winner_Winrate": 0,
                  "Loser": "Sell M.",
                  "Loser_Winrate": 0,
                  "_deepnote_index_column": 110
                },
                {
                  "Winner": "Ferrero J.C.",
                  "Winner_Winrate": 0,
                  "Loser": "Martin A.",
                  "Loser_Winrate": 0.6666666666666666,
                  "_deepnote_index_column": 111
                },
                {
                  "Winner": "Gaudio G.",
                  "Winner_Winrate": 0.5,
                  "Loser": "Novak J.",
                  "Loser_Winrate": 0,
                  "_deepnote_index_column": 112
                },
                {
                  "Winner": "Gustafsson M.",
                  "Winner_Winrate": 0,
                  "Loser": "Johansson T.",
                  "Loser_Winrate": 0,
                  "_deepnote_index_column": 113
                },
                {
                  "Winner": "Norman M.",
                  "Winner_Winrate": 0.75,
                  "Loser": "Gambill J.M.",
                  "Loser_Winrate": 0.5,
                  "_deepnote_index_column": 114
                },
                {
                  "Winner": "Rosset M.",
                  "Winner_Winrate": 0,
                  "Loser": "van Lottum J.",
                  "Loser_Winrate": 0.5,
                  "_deepnote_index_column": 115
                },
                {
                  "Winner": "Schalken S.",
                  "Winner_Winrate": 0.6666666666666666,
                  "Loser": "Behrend T.",
                  "Loser_Winrate": 0.5,
                  "_deepnote_index_column": 116
                },
                {
                  "Winner": "Balcells J.",
                  "Winner_Winrate": 0,
                  "Loser": "Ferrero J.C.",
                  "Loser_Winrate": 0,
                  "_deepnote_index_column": 117
                },
                {
                  "Winner": "Chang M.",
                  "Winner_Winrate": 0,
                  "Loser": "Gustafsson M.",
                  "Loser_Winrate": 0,
                  "_deepnote_index_column": 118
                },
                {
                  "Winner": "Gaudio G.",
                  "Winner_Winrate": 0.5,
                  "Loser": "Schalken S.",
                  "Loser_Winrate": 0.6666666666666666,
                  "_deepnote_index_column": 119
                },
                {
                  "Winner": "Norman M.",
                  "Winner_Winrate": 0.75,
                  "Loser": "Rosset M.",
                  "Loser_Winrate": 0,
                  "_deepnote_index_column": 120
                },
                {
                  "Winner": "Chang M.",
                  "Winner_Winrate": 0,
                  "Loser": "Balcells J.",
                  "Loser_Winrate": 0,
                  "_deepnote_index_column": 121
                },
                {
                  "Winner": "Norman M.",
                  "Winner_Winrate": 0.75,
                  "Loser": "Gaudio G.",
                  "Loser_Winrate": 0.5,
                  "_deepnote_index_column": 122
                },
                {
                  "Winner": "Norman M.",
                  "Winner_Winrate": 0.75,
                  "Loser": "Chang M.",
                  "Loser_Winrate": 0,
                  "_deepnote_index_column": 123
                },
                {
                  "Winner": "Arazi H.",
                  "Winner_Winrate": 0,
                  "Loser": "Mantilla F.",
                  "Loser_Winrate": 0,
                  "_deepnote_index_column": 124
                }
              ],
              "rows_bottom": [
                {
                  "Winner": "Tsitsipas S.",
                  "Winner_Winrate": 0.5454545454545454,
                  "Loser": "Gulbis E.",
                  "Loser_Winrate": 0.503562945368171,
                  "_deepnote_index_column": 52173
                },
                {
                  "Winner": "Fritz T.",
                  "Winner_Winrate": 0.4803921568627451,
                  "Loser": "Djere L.",
                  "Loser_Winrate": 0.45,
                  "_deepnote_index_column": 52174
                },
                {
                  "Winner": "Cilic M.",
                  "Winner_Winrate": 0.6528803545051699,
                  "Loser": "Shapovalov D.",
                  "Loser_Winrate": 0.5443037974683544,
                  "_deepnote_index_column": 52175
                },
                {
                  "Winner": "Laaksonen H.",
                  "Winner_Winrate": 0.40425531914893614,
                  "Loser": "Cecchinato M.",
                  "Loser_Winrate": 0.37142857142857144,
                  "_deepnote_index_column": 52176
                },
                {
                  "Winner": "Copil M.",
                  "Winner_Winrate": 0.375,
                  "Loser": "Harrison R.",
                  "Loser_Winrate": 0.437984496124031,
                  "_deepnote_index_column": 52177
                },
                {
                  "Winner": "Popyrin A.",
                  "Winner_Winrate": 0,
                  "Loser": "Ebden M.",
                  "Loser_Winrate": 0.38095238095238093,
                  "_deepnote_index_column": 52178
                },
                {
                  "Winner": "Seppi A.",
                  "Winner_Winrate": 0.48668639053254437,
                  "Loser": "Daniel T.",
                  "Loser_Winrate": 0.3717948717948718,
                  "_deepnote_index_column": 52179
                },
                {
                  "Winner": "Medvedev D.",
                  "Winner_Winrate": 0.5663716814159292,
                  "Loser": "Marterer M.",
                  "Loser_Winrate": 0.3333333333333333,
                  "_deepnote_index_column": 52180
                },
                {
                  "Winner": "Struff J.L.",
                  "Winner_Winrate": 0.42783505154639173,
                  "Loser": "Millman J.",
                  "Loser_Winrate": 0.44761904761904764,
                  "_deepnote_index_column": 52181
                },
                {
                  "Winner": "Gojowczyk P.",
                  "Winner_Winrate": 0.48936170212765956,
                  "Loser": "Jarry N.",
                  "Loser_Winrate": 0.5,
                  "_deepnote_index_column": 52182
                },
                {
                  "Winner": "Federer R.",
                  "Winner_Winrate": 0.8291044776119403,
                  "Loser": "Krajinovic F.",
                  "Loser_Winrate": 0.42105263157894735,
                  "_deepnote_index_column": 52183
                },
                {
                  "Winner": "Simon G.",
                  "Winner_Winrate": 0.5845539280958721,
                  "Loser": "Mayer L.",
                  "Loser_Winrate": 0.473015873015873,
                  "_deepnote_index_column": 52184
                },
                {
                  "Winner": "Bautista Agut R.",
                  "Winner_Winrate": 0.6538461538461539,
                  "Loser": "Sousa J.",
                  "Loser_Winrate": 0.4634920634920635,
                  "_deepnote_index_column": 52185
                },
                {
                  "Winner": "Lajovic D.",
                  "Winner_Winrate": 0.43564356435643564,
                  "Loser": "Mannarino A.",
                  "Loser_Winrate": 0.45584045584045585,
                  "_deepnote_index_column": 52186
                },
                {
                  "Winner": "Gulbis E.",
                  "Winner_Winrate": 0.5023696682464455,
                  "Loser": "Sock J.",
                  "Loser_Winrate": 0.5709090909090909,
                  "_deepnote_index_column": 52187
                },
                {
                  "Winner": "Tsitsipas S.",
                  "Winner_Winrate": 0.5512820512820513,
                  "Loser": "Chardy J.",
                  "Loser_Winrate": 0.49385245901639346,
                  "_deepnote_index_column": 52188
                },
                {
                  "Winner": "Zverev A.",
                  "Winner_Winrate": 0.6639344262295082,
                  "Loser": "Haase R.",
                  "Loser_Winrate": 0.4510739856801909,
                  "_deepnote_index_column": 52189
                },
                {
                  "Winner": "Copil M.",
                  "Winner_Winrate": 0.38144329896907214,
                  "Loser": "Cilic M.",
                  "Loser_Winrate": 0.6533923303834809,
                  "_deepnote_index_column": 52190
                },
                {
                  "Winner": "Fritz T.",
                  "Winner_Winrate": 0.4854368932038835,
                  "Loser": "Laaksonen H.",
                  "Loser_Winrate": 0.4166666666666667,
                  "_deepnote_index_column": 52191
                },
                {
                  "Winner": "Medvedev D.",
                  "Winner_Winrate": 0.5701754385964912,
                  "Loser": "Seppi A.",
                  "Loser_Winrate": 0.4874446085672083,
                  "_deepnote_index_column": 52192
                },
                {
                  "Winner": "Tsitsipas S.",
                  "Winner_Winrate": 0.5569620253164557,
                  "Loser": "Gojowczyk P.",
                  "Loser_Winrate": 0.49473684210526314,
                  "_deepnote_index_column": 52193
                },
                {
                  "Winner": "Bautista Agut R.",
                  "Winner_Winrate": 0.6560509554140127,
                  "Loser": "Lajovic D.",
                  "Loser_Winrate": 0.43842364532019706,
                  "_deepnote_index_column": 52194
                },
                {
                  "Winner": "Zverev A.",
                  "Winner_Winrate": 0.6653061224489796,
                  "Loser": "Popyrin A.",
                  "Loser_Winrate": 0.25,
                  "_deepnote_index_column": 52195
                },
                {
                  "Winner": "Federer R.",
                  "Winner_Winrate": 0.8292319164802386,
                  "Loser": "Struff J.L.",
                  "Loser_Winrate": 0.4307692307692308,
                  "_deepnote_index_column": 52196
                },
                {
                  "Winner": "Simon G.",
                  "Winner_Winrate": 0.5851063829787234,
                  "Loser": "Gulbis E.",
                  "Loser_Winrate": 0.5035460992907801,
                  "_deepnote_index_column": 52197
                },
                {
                  "Winner": "Copil M.",
                  "Winner_Winrate": 0.3877551020408163,
                  "Loser": "Fritz T.",
                  "Loser_Winrate": 0.49038461538461536,
                  "_deepnote_index_column": 52198
                },
                {
                  "Winner": "Zverev A.",
                  "Winner_Winrate": 0.6666666666666666,
                  "Loser": "Bautista Agut R.",
                  "Loser_Winrate": 0.6582278481012658,
                  "_deepnote_index_column": 52199
                },
                {
                  "Winner": "Federer R.",
                  "Winner_Winrate": 0.8293591654247392,
                  "Loser": "Simon G.",
                  "Loser_Winrate": 0.5856573705179283,
                  "_deepnote_index_column": 52200
                },
                {
                  "Winner": "Medvedev D.",
                  "Winner_Winrate": 0.5739130434782609,
                  "Loser": "Tsitsipas S.",
                  "Loser_Winrate": 0.5625,
                  "_deepnote_index_column": 52201
                },
                {
                  "Winner": "Copil M.",
                  "Winner_Winrate": 0.3939393939393939,
                  "Loser": "Zverev A.",
                  "Loser_Winrate": 0.6680161943319838,
                  "_deepnote_index_column": 52202
                },
                {
                  "Winner": "Federer R.",
                  "Winner_Winrate": 0.8294862248696947,
                  "Loser": "Medvedev D.",
                  "Loser_Winrate": 0.5775862068965517,
                  "_deepnote_index_column": 52203
                },
                {
                  "Winner": "Federer R.",
                  "Winner_Winrate": 0.8296130952380952,
                  "Loser": "Copil M.",
                  "Loser_Winrate": 0.4,
                  "_deepnote_index_column": 52204
                },
                {
                  "Winner": "Fucsovics M.",
                  "Winner_Winrate": 0.453125,
                  "Loser": "Auger-Aliassime F.",
                  "Loser_Winrate": 0.4,
                  "_deepnote_index_column": 52205
                },
                {
                  "Winner": "Coric B.",
                  "Winner_Winrate": 0.5226130653266332,
                  "Loser": "Ramos-Vinolas A.",
                  "Loser_Winrate": 0.4649122807017544,
                  "_deepnote_index_column": 52206
                },
                {
                  "Winner": "Rublev A.",
                  "Winner_Winrate": 0.45161290322580644,
                  "Loser": "Kudla D.",
                  "Loser_Winrate": 0.36283185840707965,
                  "_deepnote_index_column": 52207
                },
                {
                  "Winner": "Anderson K.",
                  "Winner_Winrate": 0.5857418111753372,
                  "Loser": "Basilashvili N.",
                  "Loser_Winrate": 0.4645669291338583,
                  "_deepnote_index_column": 52208
                },
                {
                  "Winner": "Melzer J.",
                  "Winner_Winrate": 0.5191082802547771,
                  "Loser": "Raonic M.",
                  "Loser_Winrate": 0.6740088105726872,
                  "_deepnote_index_column": 52209
                },
                {
                  "Winner": "Nishikori K.",
                  "Winner_Winrate": 0.6679611650485436,
                  "Loser": "Tiafoe F.",
                  "Loser_Winrate": 0.4166666666666667,
                  "_deepnote_index_column": 52210
                },
                {
                  "Winner": "Verdasco F.",
                  "Winner_Winrate": 0.5698070374574348,
                  "Loser": "Herbert P.H.",
                  "Loser_Winrate": 0.4339622641509434,
                  "_deepnote_index_column": 52211
                },
                {
                  "Winner": "Isner J.",
                  "Winner_Winrate": 0.6256323777403036,
                  "Loser": "Norrie C.",
                  "Loser_Winrate": 0.5,
                  "_deepnote_index_column": 52212
                },
                {
                  "Winner": "Pouille L.",
                  "Winner_Winrate": 0.5597826086956522,
                  "Loser": "Kohlschreiber P.",
                  "Loser_Winrate": 0.5594125500667557,
                  "_deepnote_index_column": 52213
                },
                {
                  "Winner": "Fognini F.",
                  "Winner_Winrate": 0.528695652173913,
                  "Loser": "Dzumhur D.",
                  "Loser_Winrate": 0.5,
                  "_deepnote_index_column": 52214
                },
                {
                  "Winner": "Thiem D.",
                  "Winner_Winrate": 0.6320474777448071,
                  "Loser": "Bemelmans R.",
                  "Loser_Winrate": 0.3333333333333333,
                  "_deepnote_index_column": 52215
                },
                {
                  "Winner": "Querrey S.",
                  "Winner_Winrate": 0.5580204778156996,
                  "Loser": "Tsonga J.W.",
                  "Loser_Winrate": 0.6816666666666666,
                  "_deepnote_index_column": 52216
                },
                {
                  "Winner": "Monfils G.",
                  "Winner_Winrate": 0.6278026905829597,
                  "Loser": "Johnson S.",
                  "Loser_Winrate": 0.5212765957446809,
                  "_deepnote_index_column": 52217
                },
                {
                  "Winner": "Edmund K.",
                  "Winner_Winrate": 0.524390243902439,
                  "Loser": "Schwartzman D.",
                  "Loser_Winrate": 0.5051546391752577,
                  "_deepnote_index_column": 52218
                },
                {
                  "Winner": "Khachanov K.",
                  "Winner_Winrate": 0.5579710144927537,
                  "Loser": "Novak D.",
                  "Loser_Winrate": 0.35714285714285715,
                  "_deepnote_index_column": 52219
                },
                {
                  "Winner": "Kukushkin M.",
                  "Winner_Winrate": 0.40977443609022557,
                  "Loser": "Dimitrov G.",
                  "Loser_Winrate": 0.609375,
                  "_deepnote_index_column": 52220
                },
                {
                  "Winner": "Fucsovics M.",
                  "Winner_Winrate": 0.46153846153846156,
                  "Loser": "Fognini F.",
                  "Loser_Winrate": 0.5295138888888888,
                  "_deepnote_index_column": 52221
                },
                {
                  "Winner": "Anderson K.",
                  "Winner_Winrate": 0.5865384615384616,
                  "Loser": "Melzer J.",
                  "Loser_Winrate": 0.519872813990461,
                  "_deepnote_index_column": 52222
                },
                {
                  "Winner": "Coric B.",
                  "Winner_Winrate": 0.525,
                  "Loser": "Pouille L.",
                  "Loser_Winrate": 0.5621621621621622,
                  "_deepnote_index_column": 52223
                },
                {
                  "Winner": "Nishikori K.",
                  "Winner_Winrate": 0.6686046511627907,
                  "Loser": "Khachanov K.",
                  "Loser_Winrate": 0.5611510791366906,
                  "_deepnote_index_column": 52224
                },
                {
                  "Winner": "Verdasco F.",
                  "Winner_Winrate": 0.5702947845804989,
                  "Loser": "Edmund K.",
                  "Loser_Winrate": 0.5272727272727272,
                  "_deepnote_index_column": 52225
                },
                {
                  "Winner": "Kukushkin M.",
                  "Winner_Winrate": 0.41198501872659177,
                  "Loser": "Rublev A.",
                  "Loser_Winrate": 0.4574468085106383,
                  "_deepnote_index_column": 52226
                },
                {
                  "Winner": "Thiem D.",
                  "Winner_Winrate": 0.6331360946745562,
                  "Loser": "Querrey S.",
                  "Loser_Winrate": 0.5587734241908007,
                  "_deepnote_index_column": 52227
                },
                {
                  "Winner": "Monfils G.",
                  "Winner_Winrate": 0.6283582089552239,
                  "Loser": "Isner J.",
                  "Loser_Winrate": 0.6262626262626263,
                  "_deepnote_index_column": 52228
                },
                {
                  "Winner": "Kukushkin M.",
                  "Winner_Winrate": 0.4141791044776119,
                  "Loser": "Fucsovics M.",
                  "Loser_Winrate": 0.4696969696969697,
                  "_deepnote_index_column": 52229
                },
                {
                  "Winner": "Nishikori K.",
                  "Winner_Winrate": 0.6692456479690522,
                  "Loser": "Thiem D.",
                  "Loser_Winrate": 0.6342182890855457,
                  "_deepnote_index_column": 52230
                },
                {
                  "Winner": "Anderson K.",
                  "Winner_Winrate": 0.5873320537428023,
                  "Loser": "Coric B.",
                  "Loser_Winrate": 0.527363184079602,
                  "_deepnote_index_column": 52231
                },
                {
                  "Winner": "Verdasco F.",
                  "Winner_Winrate": 0.5707814269535674,
                  "Loser": "Monfils G.",
                  "Loser_Winrate": 0.6289120715350224,
                  "_deepnote_index_column": 52232
                },
                {
                  "Winner": "Nishikori K.",
                  "Winner_Winrate": 0.6698841698841699,
                  "Loser": "Kukushkin M.",
                  "Loser_Winrate": 0.4163568773234201,
                  "_deepnote_index_column": 52233
                },
                {
                  "Winner": "Anderson K.",
                  "Winner_Winrate": 0.5881226053639846,
                  "Loser": "Verdasco F.",
                  "Loser_Winrate": 0.5712669683257918,
                  "_deepnote_index_column": 52234
                },
                {
                  "Winner": "Anderson K.",
                  "Winner_Winrate": 0.5889101338432122,
                  "Loser": "Nishikori K.",
                  "Loser_Winrate": 0.6705202312138728,
                  "_deepnote_index_column": 52235
                },
                {
                  "Winner": "Basilashvili N.",
                  "Winner_Winrate": 0.4609375,
                  "Loser": "Millman J.",
                  "Loser_Winrate": 0.44339622641509435,
                  "_deepnote_index_column": 52236
                },
                {
                  "Winner": "Dzumhur D.",
                  "Winner_Winrate": 0.49707602339181284,
                  "Loser": "Gojowczyk P.",
                  "Loser_Winrate": 0.4895833333333333,
                  "_deepnote_index_column": 52237
                },
                {
                  "Winner": "Khachanov K.",
                  "Winner_Winrate": 0.5571428571428572,
                  "Loser": "Krajinovic F.",
                  "Loser_Winrate": 0.4155844155844156,
                  "_deepnote_index_column": 52238
                },
                {
                  "Winner": "Kohlschreiber P.",
                  "Winner_Winrate": 0.5586666666666666,
                  "Loser": "Haase R.",
                  "Loser_Winrate": 0.45,
                  "_deepnote_index_column": 52239
                },
                {
                  "Winner": "Bautista Agut R.",
                  "Winner_Winrate": 0.6540880503144654,
                  "Loser": "Johnson S.",
                  "Loser_Winrate": 0.519434628975265,
                  "_deepnote_index_column": 52240
                },
                {
                  "Winner": "Mannarino A.",
                  "Winner_Winrate": 0.45454545454545453,
                  "Loser": "Humbert U.",
                  "Loser_Winrate": 0.5,
                  "_deepnote_index_column": 52241
                },
                {
                  "Winner": "Sousa J.",
                  "Winner_Winrate": 0.4620253164556962,
                  "Loser": "Cecchinato M.",
                  "Loser_Winrate": 0.36619718309859156,
                  "_deepnote_index_column": 52242
                },
                {
                  "Winner": "Lopez F.",
                  "Winner_Winrate": 0.5273972602739726,
                  "Loser": "De Minaur A.",
                  "Loser_Winrate": 0.54,
                  "_deepnote_index_column": 52243
                },
                {
                  "Winner": "Gasquet R.",
                  "Winner_Winrate": 0.630461922596754,
                  "Loser": "Shapovalov D.",
                  "Loser_Winrate": 0.5375,
                  "_deepnote_index_column": 52244
                },
                {
                  "Winner": "Tiafoe F.",
                  "Winner_Winrate": 0.4117647058823529,
                  "Loser": "Mahut N.",
                  "Loser_Winrate": 0.4430379746835443,
                  "_deepnote_index_column": 52245
                },
                {
                  "Winner": "Medvedev D.",
                  "Winner_Winrate": 0.5726495726495726,
                  "Loser": "Carreno Busta P.",
                  "Loser_Winrate": 0.6172839506172839,
                  "_deepnote_index_column": 52246
                },
                {
                  "Winner": "Verdasco F.",
                  "Winner_Winrate": 0.5706214689265536,
                  "Loser": "Chardy J.",
                  "Loser_Winrate": 0.49284253578732107,
                  "_deepnote_index_column": 52247
                },
                {
                  "Winner": "Kukushkin M.",
                  "Winner_Winrate": 0.4148148148148148,
                  "Loser": "Herbert P.H.",
                  "Loser_Winrate": 0.42990654205607476,
                  "_deepnote_index_column": 52248
                },
                {
                  "Winner": "Fucsovics M.",
                  "Winner_Winrate": 0.4626865671641791,
                  "Loser": "Paire B.",
                  "Loser_Winrate": 0.4772117962466488,
                  "_deepnote_index_column": 52249
                },
                {
                  "Winner": "Simon G.",
                  "Winner_Winrate": 0.5848806366047745,
                  "Loser": "Pouille L.",
                  "Loser_Winrate": 0.5591397849462365,
                  "_deepnote_index_column": 52250
                },
                {
                  "Winner": "Raonic M.",
                  "Winner_Winrate": 0.6725274725274726,
                  "Loser": "Tsonga J.W.",
                  "Loser_Winrate": 0.6805324459234608,
                  "_deepnote_index_column": 52251
                },
                {
                  "Winner": "Khachanov K.",
                  "Winner_Winrate": 0.5602836879432624,
                  "Loser": "Ebden M.",
                  "Loser_Winrate": 0.378698224852071,
                  "_deepnote_index_column": 52252
                },
                {
                  "Winner": "Dzumhur D.",
                  "Winner_Winrate": 0.5,
                  "Loser": "Tsitsipas S.",
                  "Loser_Winrate": 0.5555555555555556,
                  "_deepnote_index_column": 52253
                },
                {
                  "Winner": "Djokovic N.",
                  "Winner_Winrate": 0.8296760710553814,
                  "Loser": "Sousa J.",
                  "Loser_Winrate": 0.4637223974763407,
                  "_deepnote_index_column": 52254
                },
                {
                  "Winner": "Cilic M.",
                  "Winner_Winrate": 0.6524300441826215,
                  "Loser": "Kohlschreiber P.",
                  "Loser_Winrate": 0.559254327563249,
                  "_deepnote_index_column": 52255
                },
                {
                  "Winner": "Isner J.",
                  "Winner_Winrate": 0.6252100840336134,
                  "Loser": "Kukushkin M.",
                  "Loser_Winrate": 0.41697416974169743,
                  "_deepnote_index_column": 52256
                },
                {
                  "Winner": "Nishikori K.",
                  "Winner_Winrate": 0.6692307692307692,
                  "Loser": "Mannarino A.",
                  "Loser_Winrate": 0.45609065155807366,
                  "_deepnote_index_column": 52257
                },
                {
                  "Winner": "Zverev A.",
                  "Winner_Winrate": 0.6653225806451613,
                  "Loser": "Tiafoe F.",
                  "Loser_Winrate": 0.4186046511627907,
                  "_deepnote_index_column": 52258
                },
                {
                  "Winner": "Dimitrov G.",
                  "Winner_Winrate": 0.6080178173719376,
                  "Loser": "Bautista Agut R.",
                  "Loser_Winrate": 0.65625,
                  "_deepnote_index_column": 52259
                },
                {
                  "Winner": "Sock J.",
                  "Winner_Winrate": 0.5688405797101449,
                  "Loser": "Gasquet R.",
                  "Loser_Winrate": 0.6309226932668329,
                  "_deepnote_index_column": 52260
                },
                {
                  "Winner": "Anderson K.",
                  "Winner_Winrate": 0.5896946564885496,
                  "Loser": "Basilashvili N.",
                  "Loser_Winrate": 0.46511627906976744,
                  "_deepnote_index_column": 52261
                },
                {
                  "Winner": "Jaziri M.",
                  "Winner_Winrate": 0.40555555555555556,
                  "Loser": "Verdasco F.",
                  "Loser_Winrate": 0.5711060948081265,
                  "_deepnote_index_column": 52262
                },
                {
                  "Winner": "Schwartzman D.",
                  "Winner_Winrate": 0.5025641025641026,
                  "Loser": "Lopez F.",
                  "Loser_Winrate": 0.5279361459521095,
                  "_deepnote_index_column": 52263
                },
                {
                  "Winner": "Fognini F.",
                  "Winner_Winrate": 0.5285961871750433,
                  "Loser": "Fucsovics M.",
                  "Loser_Winrate": 0.47058823529411764,
                  "_deepnote_index_column": 52264
                },
                {
                  "Winner": "Federer R.",
                  "Winner_Winrate": 0.8297397769516729,
                  "Loser": "Raonic M.",
                  "Loser_Winrate": 0.6732456140350878,
                  "_deepnote_index_column": 52265
                },
                {
                  "Winner": "Thiem D.",
                  "Winner_Winrate": 0.6323529411764706,
                  "Loser": "Simon G.",
                  "Loser_Winrate": 0.5854304635761589,
                  "_deepnote_index_column": 52266
                },
                {
                  "Winner": "Coric B.",
                  "Winner_Winrate": 0.5247524752475248,
                  "Loser": "Medvedev D.",
                  "Loser_Winrate": 0.576271186440678,
                  "_deepnote_index_column": 52267
                },
                {
                  "Winner": "Cilic M.",
                  "Winner_Winrate": 0.6529411764705882,
                  "Loser": "Dimitrov G.",
                  "Loser_Winrate": 0.6088888888888889,
                  "_deepnote_index_column": 52268
                },
                {
                  "Winner": "Khachanov K.",
                  "Winner_Winrate": 0.5633802816901409,
                  "Loser": "Isner J.",
                  "Loser_Winrate": 0.6258389261744967,
                  "_deepnote_index_column": 52269
                },
                {
                  "Winner": "Djokovic N.",
                  "Winner_Winrate": 0.8298538622129437,
                  "Loser": "Dzumhur D.",
                  "Loser_Winrate": 0.5028901734104047,
                  "_deepnote_index_column": 52270
                },
                {
                  "Winner": "Zverev A.",
                  "Winner_Winrate": 0.6666666666666666,
                  "Loser": "Schwartzman D.",
                  "Loser_Winrate": 0.5051020408163265,
                  "_deepnote_index_column": 52271
                },
                {
                  "Winner": "Sock J.",
                  "Winner_Winrate": 0.5703971119133574,
                  "Loser": "Jaziri M.",
                  "Loser_Winrate": 0.4088397790055249,
                  "_deepnote_index_column": 52272
                },
                {
                  "Winner": "Thiem D.",
                  "Winner_Winrate": 0.6334310850439883,
                  "Loser": "Coric B.",
                  "Loser_Winrate": 0.5270935960591133,
                  "_deepnote_index_column": 52273
                },
                {
                  "Winner": "Federer R.",
                  "Winner_Winrate": 0.8298662704309064,
                  "Loser": "Fognini F.",
                  "Loser_Winrate": 0.5294117647058824,
                  "_deepnote_index_column": 52274
                },
                {
                  "Winner": "Nishikori K.",
                  "Winner_Winrate": 0.6698656429942419,
                  "Loser": "Anderson K.",
                  "Loser_Winrate": 0.5904761904761905,
                  "_deepnote_index_column": 52275
                },
                {
                  "Winner": "Khachanov K.",
                  "Winner_Winrate": 0.5664335664335665,
                  "Loser": "Zverev A.",
                  "Loser_Winrate": 0.668,
                  "_deepnote_index_column": 52276
                },
                {
                  "Winner": "Thiem D.",
                  "Winner_Winrate": 0.6345029239766082,
                  "Loser": "Sock J.",
                  "Loser_Winrate": 0.5719424460431655,
                  "_deepnote_index_column": 52277
                },
                {
                  "Winner": "Djokovic N.",
                  "Winner_Winrate": 0.8300312825860271,
                  "Loser": "Cilic M.",
                  "Loser_Winrate": 0.6534508076358296,
                  "_deepnote_index_column": 52278
                },
                {
                  "Winner": "Federer R.",
                  "Winner_Winrate": 0.829992576095026,
                  "Loser": "Nishikori K.",
                  "Loser_Winrate": 0.6704980842911877,
                  "_deepnote_index_column": 52279
                },
                {
                  "Winner": "Khachanov K.",
                  "Winner_Winrate": 0.5694444444444444,
                  "Loser": "Thiem D.",
                  "Loser_Winrate": 0.6355685131195336,
                  "_deepnote_index_column": 52280
                },
                {
                  "Winner": "Djokovic N.",
                  "Winner_Winrate": 0.8302083333333333,
                  "Loser": "Federer R.",
                  "Loser_Winrate": 0.8301186943620178,
                  "_deepnote_index_column": 52281
                },
                {
                  "Winner": "Khachanov K.",
                  "Winner_Winrate": 0.5724137931034483,
                  "Loser": "Djokovic N.",
                  "Loser_Winrate": 0.8303850156087409,
                  "_deepnote_index_column": 52282
                },
                {
                  "Winner": "Anderson K.",
                  "Winner_Winrate": 0.5893536121673004,
                  "Loser": "Thiem D.",
                  "Loser_Winrate": 0.6337209302325582,
                  "_deepnote_index_column": 52283
                },
                {
                  "Winner": "Nishikori K.",
                  "Winner_Winrate": 0.6692160611854685,
                  "Loser": "Federer R.",
                  "Loser_Winrate": 0.8295033358042995,
                  "_deepnote_index_column": 52284
                },
                {
                  "Winner": "Zverev A.",
                  "Winner_Winrate": 0.6653386454183267,
                  "Loser": "Cilic M.",
                  "Loser_Winrate": 0.6524926686217009,
                  "_deepnote_index_column": 52285
                },
                {
                  "Winner": "Djokovic N.",
                  "Winner_Winrate": 0.8295218295218295,
                  "Loser": "Isner J.",
                  "Loser_Winrate": 0.6247906197654941,
                  "_deepnote_index_column": 52286
                },
                {
                  "Winner": "Anderson K.",
                  "Winner_Winrate": 0.5901328273244781,
                  "Loser": "Nishikori K.",
                  "Loser_Winrate": 0.6698473282442748,
                  "_deepnote_index_column": 52287
                },
                {
                  "Winner": "Federer R.",
                  "Winner_Winrate": 0.8288888888888889,
                  "Loser": "Thiem D.",
                  "Loser_Winrate": 0.6318840579710145,
                  "_deepnote_index_column": 52288
                },
                {
                  "Winner": "Djokovic N.",
                  "Winner_Winrate": 0.829698857736241,
                  "Loser": "Zverev A.",
                  "Loser_Winrate": 0.6666666666666666,
                  "_deepnote_index_column": 52289
                },
                {
                  "Winner": "Cilic M.",
                  "Winner_Winrate": 0.6515373352855052,
                  "Loser": "Isner J.",
                  "Loser_Winrate": 0.6237458193979933,
                  "_deepnote_index_column": 52290
                },
                {
                  "Winner": "Thiem D.",
                  "Winner_Winrate": 0.630057803468208,
                  "Loser": "Nishikori K.",
                  "Loser_Winrate": 0.6685714285714286,
                  "_deepnote_index_column": 52291
                },
                {
                  "Winner": "Federer R.",
                  "Winner_Winrate": 0.8290155440414507,
                  "Loser": "Anderson K.",
                  "Loser_Winrate": 0.5909090909090909,
                  "_deepnote_index_column": 52292
                },
                {
                  "Winner": "Zverev A.",
                  "Winner_Winrate": 0.6640316205533597,
                  "Loser": "Isner J.",
                  "Loser_Winrate": 0.6227045075125208,
                  "_deepnote_index_column": 52293
                },
                {
                  "Winner": "Djokovic N.",
                  "Winner_Winrate": 0.8298755186721992,
                  "Loser": "Cilic M.",
                  "Loser_Winrate": 0.652046783625731,
                  "_deepnote_index_column": 52294
                },
                {
                  "Winner": "Zverev A.",
                  "Winner_Winrate": 0.6653543307086615,
                  "Loser": "Federer R.",
                  "Loser_Winrate": 0.8291420118343196,
                  "_deepnote_index_column": 52295
                },
                {
                  "Winner": "Djokovic N.",
                  "Winner_Winrate": 0.8300518134715026,
                  "Loser": "Anderson K.",
                  "Loser_Winrate": 0.5897920604914934,
                  "_deepnote_index_column": 52296
                },
                {
                  "Winner": "Zverev A.",
                  "Winner_Winrate": 0.6666666666666666,
                  "Loser": "Djokovic N.",
                  "Loser_Winrate": 0.8302277432712215,
                  "_deepnote_index_column": 52297
                }
              ]
            },
            "text/plain": "            Winner  Winner_Winrate           Loser  Loser_Winrate\n0       Dosedel S.        0.000000     Ljubicic I.       0.000000\n1       Enqvist T.        0.000000      Clement A.       0.000000\n2        Escude N.        0.000000   Baccanello P.       0.000000\n3       Federer R.        0.000000  Knippschild J.       0.000000\n4      Fromberg R.        0.000000   Woodbridge T.       0.000000\n...            ...             ...             ...            ...\n52293    Zverev A.        0.664032        Isner J.       0.622705\n52294  Djokovic N.        0.829876        Cilic M.       0.652047\n52295    Zverev A.        0.665354      Federer R.       0.829142\n52296  Djokovic N.        0.830052     Anderson K.       0.589792\n52297    Zverev A.        0.666667     Djokovic N.       0.830228\n\n[52298 rows x 4 columns]",
            "text/html": "<div>\n<style scoped>\n    .dataframe tbody tr th:only-of-type {\n        vertical-align: middle;\n    }\n\n    .dataframe tbody tr th {\n        vertical-align: top;\n    }\n\n    .dataframe thead th {\n        text-align: right;\n    }\n</style>\n<table border=\"1\" class=\"dataframe\">\n  <thead>\n    <tr style=\"text-align: right;\">\n      <th></th>\n      <th>Winner</th>\n      <th>Winner_Winrate</th>\n      <th>Loser</th>\n      <th>Loser_Winrate</th>\n    </tr>\n  </thead>\n  <tbody>\n    <tr>\n      <th>0</th>\n      <td>Dosedel S.</td>\n      <td>0.000000</td>\n      <td>Ljubicic I.</td>\n      <td>0.000000</td>\n    </tr>\n    <tr>\n      <th>1</th>\n      <td>Enqvist T.</td>\n      <td>0.000000</td>\n      <td>Clement A.</td>\n      <td>0.000000</td>\n    </tr>\n    <tr>\n      <th>2</th>\n      <td>Escude N.</td>\n      <td>0.000000</td>\n      <td>Baccanello P.</td>\n      <td>0.000000</td>\n    </tr>\n    <tr>\n      <th>3</th>\n      <td>Federer R.</td>\n      <td>0.000000</td>\n      <td>Knippschild J.</td>\n      <td>0.000000</td>\n    </tr>\n    <tr>\n      <th>4</th>\n      <td>Fromberg R.</td>\n      <td>0.000000</td>\n      <td>Woodbridge T.</td>\n      <td>0.000000</td>\n    </tr>\n    <tr>\n      <th>...</th>\n      <td>...</td>\n      <td>...</td>\n      <td>...</td>\n      <td>...</td>\n    </tr>\n    <tr>\n      <th>52293</th>\n      <td>Zverev A.</td>\n      <td>0.664032</td>\n      <td>Isner J.</td>\n      <td>0.622705</td>\n    </tr>\n    <tr>\n      <th>52294</th>\n      <td>Djokovic N.</td>\n      <td>0.829876</td>\n      <td>Cilic M.</td>\n      <td>0.652047</td>\n    </tr>\n    <tr>\n      <th>52295</th>\n      <td>Zverev A.</td>\n      <td>0.665354</td>\n      <td>Federer R.</td>\n      <td>0.829142</td>\n    </tr>\n    <tr>\n      <th>52296</th>\n      <td>Djokovic N.</td>\n      <td>0.830052</td>\n      <td>Anderson K.</td>\n      <td>0.589792</td>\n    </tr>\n    <tr>\n      <th>52297</th>\n      <td>Zverev A.</td>\n      <td>0.666667</td>\n      <td>Djokovic N.</td>\n      <td>0.830228</td>\n    </tr>\n  </tbody>\n</table>\n<p>52298 rows × 4 columns</p>\n</div>"
          },
          "metadata": {}
        }
      ],
      "execution_count": null
    },
    {
      "cell_type": "markdown",
      "source": "# Question 5 - 12 points\nPlease predict the outcome for each ATP tennis game during the year 2017.\nYour notebook should handle:\n- the data preparation process\n- the modeling phase\n- the evaluation of your model(s)\n- any observation or explanation you deem interesting\n\nBonus points if :\n- your notebook contains graphics that are both interesting and pretty\n- The code is clear and well explained",
      "metadata": {
        "id": "HY2s0GIEsYrd",
        "cell_id": "00015-e1a2c657-33e8-4225-9615-a557b550491e",
        "deepnote_cell_type": "markdown"
      }
    },
    {
      "cell_type": "code",
      "source": "data = df_atp[df_atp['Date'].between('2000-1-1','2017-12-31')]",
      "metadata": {
        "tags": [],
        "cell_id": "00029-a661e741-01dc-4e08-a484-7e9b3d7760fd",
        "deepnote_to_be_reexecuted": false,
        "source_hash": "1dc7ad5c",
        "execution_millis": 1984,
        "execution_start": 1616728506498,
        "deepnote_cell_type": "code"
      },
      "outputs": [],
      "execution_count": null
    },
    {
      "cell_type": "markdown",
      "source": "## Preprocessing\n\nBefore trying to use machine learning with the dataset, we need to \"sanitize\" the data.\nThis will improve our chances of getting meaningful results and of avoiding data leakage.",
      "metadata": {
        "tags": [],
        "cell_id": "00019-563df202-93a1-4afe-a25f-194b359102ca",
        "deepnote_cell_type": "markdown"
      }
    },
    {
      "cell_type": "markdown",
      "source": "### Visualizing data before preprocessing\n\nViszualizing the data before cleaning the dataset will help us find what we need to remove and/or change in the dataframe.",
      "metadata": {
        "tags": [],
        "cell_id": "00020-bea3bc2a-c1e2-4485-908c-db61ccc1e4ff",
        "deepnote_cell_type": "markdown"
      }
    },
    {
      "cell_type": "code",
      "source": "plt.figure(figsize=(16,10))\nsns.heatmap(df_atp.isnull(), cbar=False)",
      "metadata": {
        "tags": [],
        "cell_id": "00021-b9d8d71e-b74e-4886-8f86-f11579e598ca",
        "deepnote_to_be_reexecuted": false,
        "source_hash": "8bb3e901",
        "execution_millis": 7737,
        "execution_start": 1616728506507,
        "deepnote_cell_type": "code"
      },
      "outputs": [
        {
          "output_type": "execute_result",
          "execution_count": 18,
          "data": {
            "text/plain": "<AxesSubplot:>"
          },
          "metadata": {}
        },
        {
          "data": {
            "text/plain": "<Figure size 1152x720 with 1 Axes>",
            "image/png": "[encoded data removed]"
          },
          "metadata": {
            "needs_background": "light"
          },
          "output_type": "display_data"
        }
      ],
      "execution_count": null
    },
    {
      "cell_type": "markdown",
      "source": "This chart shows all the missing data (in white). We can now define exactly what is missing, and we may choose to change or remove it before feeding it to our model.",
      "metadata": {
        "tags": [],
        "cell_id": "00022-87daa01a-3ab9-40c5-aa02-9ecb92b3d956",
        "deepnote_cell_type": "markdown"
      }
    },
    {
      "cell_type": "markdown",
      "source": "### Focusing dataframe \n\nWe want to focus on data directly concerning the matches. Therefore, we will drop all columns related to comments or bets, because they only contain external info - nothing we need right now.\n\nWe will also be removing the \"after match\" data for obvious reasons.\nThe sets data will also have to go, because the machine would just be able to simply calculate a match's results based on points, which would be data leakage.\n\nWe can clearly see on the above heatmap that the player points will become a problem for us. A lot of them are missing, and this is a probleme because it could alter our model's predictions. Therefore, we will also be removing them from the data, because we can't invent them.",
      "metadata": {
        "tags": [],
        "cell_id": "00020-c1978753-d504-4871-a641-2d063d3d023a",
        "deepnote_cell_type": "markdown"
      }
    },
    {
      "cell_type": "code",
      "metadata": {
        "tags": [],
        "cell_id": "00020-a65a938e-1106-479d-b113-e0fd1e5df3e6",
        "deepnote_to_be_reexecuted": false,
        "source_hash": "28368166",
        "execution_millis": 3,
        "execution_start": 1616728513256,
        "deepnote_cell_type": "code"
      },
      "source": "# Dropping unnecessary columns (sets, comments and bets)\ndata = df_atp\ndata = data.drop(data.loc[:, 'W1':'AvgL'].columns, axis = 1)",
      "outputs": [],
      "execution_count": null
    },
    {
      "cell_type": "markdown",
      "source": "### Cleaning data\n\nHere, we will be removing all unusable data, such as NaN occurrences in the rank columns for example.",
      "metadata": {
        "tags": [],
        "cell_id": "00022-4e18f2d8-fd4b-4013-b1bf-43835a7058f3",
        "deepnote_cell_type": "markdown"
      }
    },
    {
      "cell_type": "code",
      "source": "data.isna().sum()",
      "metadata": {
        "tags": [],
        "cell_id": "00040-9ccd9198-739d-4925-ba4b-5fa5702c9942",
        "deepnote_to_be_reexecuted": false,
        "source_hash": "c70742ad",
        "execution_millis": 974,
        "execution_start": 1616728513279,
        "deepnote_cell_type": "code"
      },
      "outputs": [
        {
          "output_type": "execute_result",
          "execution_count": 20,
          "data": {
            "text/plain": "ATP                 0\nLocation            0\nTournament          0\nDate                0\nSeries              0\nCourt               0\nSurface             0\nRound               0\nBest of             0\nWinner              0\nLoser               0\nWRank              16\nLRank             105\nWinner_Winrate      0\nLoser_Winrate       0\ndtype: int64"
          },
          "metadata": {}
        }
      ],
      "execution_count": null
    },
    {
      "cell_type": "code",
      "source": "# Dropping matches where the player has no rank\ndata = data.dropna(subset = ['WRank', 'LRank'])\n\nprint(f'After the data cleaning we have lost {df_atp.shape[1] - data.shape[1]} columns out of {df_atp.shape[1]}')\nprint(f'After the data cleaning we have lost {df_atp.shape[0] - data.shape[0]} rows out of {df_atp.shape[0]}')",
      "metadata": {
        "tags": [],
        "cell_id": "00022-e90a9caa-2cf0-43c3-a30b-22bcf9af776f",
        "deepnote_to_be_reexecuted": false,
        "source_hash": "1521b9a6",
        "execution_millis": 963,
        "execution_start": 1616728513290,
        "deepnote_cell_type": "code"
      },
      "outputs": [
        {
          "name": "stdout",
          "text": "After the data cleaning we have lost 41 columns out of 56\nAfter the data cleaning we have lost 121 rows out of 52298\n",
          "output_type": "stream"
        }
      ],
      "execution_count": null
    },
    {
      "cell_type": "code",
      "source": "data.isna().sum()",
      "metadata": {
        "tags": [],
        "cell_id": "00042-db7f1871-6893-49c4-917c-7aa002ceb5bc",
        "deepnote_to_be_reexecuted": false,
        "source_hash": "c70742ad",
        "execution_millis": 927,
        "execution_start": 1616728513326,
        "deepnote_cell_type": "code"
      },
      "outputs": [
        {
          "output_type": "execute_result",
          "execution_count": 22,
          "data": {
            "text/plain": "ATP               0\nLocation          0\nTournament        0\nDate              0\nSeries            0\nCourt             0\nSurface           0\nRound             0\nBest of           0\nWinner            0\nLoser             0\nWRank             0\nLRank             0\nWinner_Winrate    0\nLoser_Winrate     0\ndtype: int64"
          },
          "metadata": {}
        }
      ],
      "execution_count": null
    },
    {
      "cell_type": "markdown",
      "source": "### Avoiding data leakage\n\n",
      "metadata": {
        "tags": [],
        "cell_id": "00038-a63b156b-046b-4202-b0d0-dbddc3294000",
        "deepnote_cell_type": "markdown"
      }
    },
    {
      "cell_type": "markdown",
      "source": "One of the issues which we are concerned about with the data in its current state is data leakage.\n\nIn order to avoid it, we have decided to randomly split the set into winners and losers in a new dataframe.\nThis allows us to remove the machine's capacity to extrapolate a match's result either from the column names or from a player's score.",
      "metadata": {
        "tags": [],
        "cell_id": "00042-773e1584-9030-4236-9043-33a87606b0e5",
        "deepnote_cell_type": "markdown"
      }
    },
    {
      "cell_type": "code",
      "source": "import random\n\nfor i in data.index:\n    if random.randint(0,1) < 0.5:\n        data.at[i, 'P1'] = data.at[i, 'Winner']\n        data.at[i, 'P2'] = data.at[i, 'Loser']\n\n        # Associate the data to the right player\n        data.at[i, 'P1_Rank'] = data.at[i, 'WRank']\n        data.at[i, 'P2_Rank'] = data.at[i, 'LRank']\n        data.at[i, 'P1_Winrate'] = data.at[i, 'Winner_Winrate']\n        data.at[i, 'P2_Winrate'] = data.at[i, 'Loser_Winrate']\n\n        # Adding the result column\n        data.at[i, 'P1_is_Winner'] = 1\n        \n    else:\n        data.at[i, 'P1'] = data.at[i, 'Loser']\n        data.at[i, 'P2'] = data.at[i, 'Winner']\n\n        # Associate the data to the right player\n        data.at[i, 'P1_Rank'] = data.at[i, 'LRank']\n        data.at[i, 'P2_Rank'] = data.at[i, 'WRank']\n        data.at[i, 'P1_Winrate'] = data.at[i, 'Loser_Winrate']\n        data.at[i, 'P2_Winrate'] = data.at[i, 'Winner_Winrate']\n\n        # Adding the result column\n        data.at[i, 'P1_is_Winner'] = 0",
      "metadata": {
        "tags": [],
        "cell_id": "00039-d99bbfdc-ae79-489c-a7c1-6721bd4f537c",
        "deepnote_to_be_reexecuted": false,
        "source_hash": "cd484247",
        "execution_millis": 5781,
        "execution_start": 1616728513382,
        "deepnote_cell_type": "code"
      },
      "outputs": [],
      "execution_count": null
    },
    {
      "cell_type": "markdown",
      "source": "Now we can drop all the old columns",
      "metadata": {
        "tags": [],
        "cell_id": "00044-7fa6294d-4a7c-4a26-908e-b33a8c04ae94",
        "deepnote_cell_type": "markdown"
      }
    },
    {
      "cell_type": "code",
      "source": "features = ['Winner', 'Loser', 'WRank', 'LRank', 'Winner_Winrate', 'Loser_Winrate']\ndata = data.drop(columns=features)",
      "metadata": {
        "tags": [],
        "cell_id": "00045-7d5fff4c-11c1-4caf-8995-b43d231de3d1",
        "deepnote_to_be_reexecuted": false,
        "source_hash": "562078e9",
        "execution_millis": 13,
        "execution_start": 1616728519168,
        "deepnote_cell_type": "code"
      },
      "outputs": [],
      "execution_count": null
    },
    {
      "cell_type": "markdown",
      "source": "### Visualizing data after preprocessing\n\nThis step allows us to make sure that our preprocessing was efficient and that the data is prepared as intended.",
      "metadata": {
        "tags": [],
        "cell_id": "00029-8041748b-6616-46d7-a7c2-525e5b8e373c",
        "deepnote_cell_type": "markdown"
      }
    },
    {
      "cell_type": "code",
      "source": "# Printing the resulting processed dataframe's info\ndata.info()",
      "metadata": {
        "tags": [],
        "cell_id": "00030-8d87390a-075b-434e-a96b-c6fde8838ea8",
        "deepnote_to_be_reexecuted": false,
        "source_hash": "8dd758f3",
        "execution_millis": 17,
        "execution_start": 1616728519200,
        "deepnote_cell_type": "code"
      },
      "outputs": [
        {
          "name": "stdout",
          "text": "<class 'pandas.core.frame.DataFrame'>\nInt64Index: 52177 entries, 0 to 52297\nData columns (total 16 columns):\n #   Column        Non-Null Count  Dtype         \n---  ------        --------------  -----         \n 0   ATP           52177 non-null  int64         \n 1   Location      52177 non-null  object        \n 2   Tournament    52177 non-null  object        \n 3   Date          52177 non-null  datetime64[ns]\n 4   Series        52177 non-null  object        \n 5   Court         52177 non-null  object        \n 6   Surface       52177 non-null  object        \n 7   Round         52177 non-null  object        \n 8   Best of       52177 non-null  int64         \n 9   P1            52177 non-null  object        \n 10  P2            52177 non-null  object        \n 11  P1_Rank       52177 non-null  float64       \n 12  P2_Rank       52177 non-null  float64       \n 13  P1_Winrate    52177 non-null  float64       \n 14  P2_Winrate    52177 non-null  float64       \n 15  P1_is_Winner  52177 non-null  float64       \ndtypes: datetime64[ns](1), float64(5), int64(2), object(8)\nmemory usage: 8.8+ MB\n",
          "output_type": "stream"
        }
      ],
      "execution_count": null
    },
    {
      "cell_type": "code",
      "source": "# Heatmap of the processed dataframe\nplt.figure(figsize=(16,10))\nsns.heatmap(data.isnull(), cbar=False)",
      "metadata": {
        "tags": [],
        "cell_id": "00031-02abdb69-f7f8-4c63-bb16-0a2ade335ce9",
        "deepnote_to_be_reexecuted": false,
        "source_hash": "eb61ffd2",
        "execution_millis": 2810,
        "execution_start": 1616728519214,
        "deepnote_cell_type": "code"
      },
      "outputs": [
        {
          "output_type": "execute_result",
          "execution_count": 26,
          "data": {
            "text/plain": "<AxesSubplot:>"
          },
          "metadata": {}
        },
        {
          "data": {
            "text/plain": "<Figure size 1152x720 with 1 Axes>",
            "image/png": "[encoded data removed]"
          },
          "metadata": {
            "needs_background": "light"
          },
          "output_type": "display_data"
        }
      ],
      "execution_count": null
    },
    {
      "cell_type": "markdown",
      "source": "TODO date should be split in float",
      "metadata": {
        "tags": [],
        "cell_id": "00051-ea9b325e-7a96-4167-8d5b-7560279c1fa0",
        "deepnote_cell_type": "markdown"
      }
    },
    {
      "cell_type": "code",
      "source": "for i in data.index:\n  data.at[i, 'Year'] = data.at[i, 'Date'].year\n  data.at[i, 'Month'] = data.at[i, 'Date'].month\n  data.at[i, 'Day_of_month'] = data.at[i, 'Date'].day\n\ndata = data.drop(columns=['Date'])",
      "metadata": {
        "tags": [],
        "cell_id": "00052-3c38fa56-210c-4e18-b290-dc7fbc8c9e06",
        "deepnote_to_be_reexecuted": false,
        "source_hash": "2683c9eb",
        "execution_millis": 3990,
        "execution_start": 1616728522024,
        "deepnote_cell_type": "code"
      },
      "outputs": [],
      "execution_count": null
    },
    {
      "cell_type": "code",
      "source": "data.dtypes",
      "metadata": {
        "tags": [],
        "cell_id": "00053-4508c447-be9c-455b-b17e-1713274aa920",
        "deepnote_to_be_reexecuted": false,
        "source_hash": "ae3db336",
        "execution_millis": 14,
        "execution_start": 1616728526020,
        "deepnote_cell_type": "code"
      },
      "outputs": [
        {
          "output_type": "execute_result",
          "execution_count": 28,
          "data": {
            "text/plain": "ATP               int64\nLocation         object\nTournament       object\nSeries           object\nCourt            object\nSurface          object\nRound            object\nBest of           int64\nP1               object\nP2               object\nP1_Rank         float64\nP2_Rank         float64\nP1_Winrate      float64\nP2_Winrate      float64\nP1_is_Winner    float64\nYear            float64\nMonth           float64\nDay_of_month    float64\ndtype: object"
          },
          "metadata": {}
        }
      ],
      "execution_count": null
    },
    {
      "cell_type": "markdown",
      "source": "**Much better**\n\nready for modeling",
      "metadata": {
        "tags": [],
        "cell_id": "00049-d2ea8756-3090-4bc7-acaf-697abeb0a245",
        "deepnote_cell_type": "markdown"
      }
    },
    {
      "cell_type": "markdown",
      "source": "## Data modeling",
      "metadata": {
        "tags": [],
        "cell_id": "00021-7fdbdd1a-df60-485b-aa6a-7a92bd1a1e65",
        "deepnote_cell_type": "markdown"
      }
    },
    {
      "cell_type": "markdown",
      "source": "### Splitting the training data and testing data",
      "metadata": {
        "tags": [],
        "cell_id": "00053-0afe43e2-c162-4c98-b6ca-1305ef27e3fb",
        "deepnote_cell_type": "markdown"
      }
    },
    {
      "cell_type": "markdown",
      "source": "TODO: dis qqchose sur le spliting",
      "metadata": {
        "tags": [],
        "cell_id": "00054-03d9f0cb-2df4-4cb8-9d15-e45f128c8d4f",
        "deepnote_cell_type": "markdown"
      }
    },
    {
      "cell_type": "markdown",
      "source": "TODO: la on definit les col tukone",
      "metadata": {
        "tags": [],
        "cell_id": "00055-d0cd3943-79c9-4506-9946-63a044c7e9b5",
        "deepnote_cell_type": "markdown"
      }
    },
    {
      "cell_type": "code",
      "metadata": {
        "tags": [],
        "cell_id": "00022-c4a66689-b5b2-41b5-ab84-bb33f5b9604c",
        "deepnote_to_be_reexecuted": false,
        "source_hash": "af1fc602",
        "execution_millis": 1,
        "execution_start": 1616728526026,
        "deepnote_cell_type": "code"
      },
      "source": "# Preparing columns as inputs\ncols_encoded = ['P1', 'P2', 'Location', 'Series', 'Court', 'Surface', 'Round', 'Year', 'Month', 'Day_of_month']\ncols_raw = ['P1_Rank', 'P2_Rank', 'P1_Winrate', 'P2_Winrate', 'Best of']\ncols_used = cols_encoded + cols_raw\n\n# Preparing columns for output\ncols_expected = ['P1_is_Winner', 'Year'] # Year is only for spliting purposes",
      "outputs": [],
      "execution_count": null
    },
    {
      "cell_type": "markdown",
      "source": "la on va utilise des dumies values pour etre plus fast dans le rendering des model",
      "metadata": {
        "tags": [],
        "cell_id": "00057-434d79f2-cc14-4cb8-959a-4e3cd26e26a8",
        "deepnote_cell_type": "markdown"
      }
    },
    {
      "cell_type": "code",
      "source": "x = pd.get_dummies(data[cols_used])\ny = pd.get_dummies(data[cols_expected])",
      "metadata": {
        "tags": [],
        "cell_id": "00058-a80823e4-ac26-4db4-a486-e850ea990cfc",
        "deepnote_to_be_reexecuted": false,
        "source_hash": "5753fcb8",
        "execution_millis": 518,
        "execution_start": 1616728526031,
        "deepnote_cell_type": "code"
      },
      "outputs": [],
      "execution_count": null
    },
    {
      "cell_type": "markdown",
      "source": "apres bah on split normal, la suite logique",
      "metadata": {
        "tags": [],
        "cell_id": "00059-9c33c7bf-b505-451d-8703-036dac2cf2d8",
        "deepnote_cell_type": "markdown"
      }
    },
    {
      "cell_type": "code",
      "source": "x_before_2017 = x[x['Year'] < 2017]\ny_before_2017 = y[y['Year'] < 2017]\ny_before_2017 = y_before_2017.drop(columns=['Year']) # removing the year from the expected columns\n\nX_train, x_test, Y_train, y_test = train_test_split(x_before_2017, y_before_2017, train_size=0.6)",
      "metadata": {
        "tags": [],
        "cell_id": "00060-73d4d22f-94c3-4008-9650-8a77d6fd5eff",
        "deepnote_to_be_reexecuted": false,
        "source_hash": "de5ce438",
        "execution_millis": 1883,
        "execution_start": 1616728526558,
        "deepnote_cell_type": "code"
      },
      "outputs": [],
      "execution_count": null
    },
    {
      "cell_type": "markdown",
      "source": "### Preparing model testing function",
      "metadata": {
        "tags": [],
        "cell_id": "00064-d4c1247b-8808-4ba1-a319-cf80c9b57f49",
        "deepnote_cell_type": "markdown"
      }
    },
    {
      "cell_type": "code",
      "source": "def try_model(model):\n    \"\"\"\n    Function to train a model and return accuracy\n    \"\"\"\n\n    # training model\n    model.fit(X_train, Y_train)\n\n    # testing on training data\n    Y_train_prediction = model.predict(X_train)\n\n    # computing accuracy\n    train_score = accuracy_score(Y_train, Y_train_prediction)\n\n    if train_score <= 0.5:\n        print(f\"Model perform worst than random on training with a score of: {accuracy}\")\n    else:\n        print(f\"Model perform better than random on training with a score of: {accuracy}\")\n        # testing on test data\n        y_test_prediction = model.predict(x_test)\n\n        # computing final accuracy\n        test_score = accuracy_score(y_test, y_test_prediction)\n\n        print(f\"The model final score is: {test_score}\")\n",
      "metadata": {
        "tags": [],
        "cell_id": "00065-3031780d-8db3-434c-9731-067bfcdfaf40",
        "deepnote_to_be_reexecuted": false,
        "source_hash": "b9efa934",
        "execution_millis": 9,
        "execution_start": 1616728528444,
        "deepnote_cell_type": "code"
      },
      "outputs": [],
      "execution_count": null
    },
    {
      "cell_type": "markdown",
      "source": "## Testing different models",
      "metadata": {
        "tags": [],
        "cell_id": "00022-2d9fb369-bcc9-4f1e-a931-9cf3fe5a8025",
        "deepnote_cell_type": "markdown"
      }
    },
    {
      "cell_type": "markdown",
      "source": "### K Nearest Neighbors\n\nTODO: on utilise ça pk ? et pk en regressor ?",
      "metadata": {
        "tags": [],
        "cell_id": "00067-5b27dbe5-f711-44c3-ac1a-8a4f1be925de",
        "deepnote_cell_type": "markdown"
      }
    },
    {
      "cell_type": "code",
      "source": "from sklearn.neighbors import KNeighborsClassifier\n\nKNN_model = KNeighborsClassifier()\ntry_model(KNN_model)",
      "metadata": {
        "tags": [],
        "cell_id": "00068-8a413e13-2516-4a2f-9111-71582c2d2744",
        "deepnote_to_be_reexecuted": false,
        "source_hash": "dc33e53c",
        "execution_millis": 110644,
        "execution_start": 1616728705846,
        "deepnote_cell_type": "code"
      },
      "outputs": [
        {
          "name": "stderr",
          "text": "/shared-libs/python3.7/py/lib/python3.7/site-packages/sklearn/neighbors/_classification.py:179: DataConversionWarning: A column-vector y was passed when a 1d array was expected. Please change the shape of y to (n_samples,), for example using ravel().\n  return self._fit(X, y)\n",
          "output_type": "stream"
        },
        {
          "output_type": "error",
          "ename": "KernelInterrupted",
          "evalue": "Execution interrupted by the Jupyter kernel.",
          "traceback": [
            "\u001b[0;31m---------------------------------------------------------------------------\u001b[0m",
            "\u001b[0;31mKernelInterrupted\u001b[0m: Execution interrupted by the Jupyter kernel."
          ]
        }
      ],
      "execution_count": null
    },
    {
      "cell_type": "markdown",
      "source": "### Decision Tree Classifier\n\nTODO: pk encore",
      "metadata": {
        "tags": [],
        "cell_id": "00069-d8f9b36a-b4f8-4166-89a2-75a48de1021f",
        "deepnote_cell_type": "markdown"
      }
    },
    {
      "cell_type": "code",
      "metadata": {
        "tags": [],
        "cell_id": "00024-9bcb0f38-e991-4c36-908f-197714195906",
        "deepnote_to_be_reexecuted": false,
        "source_hash": "10cf3598",
        "execution_millis": 1986,
        "execution_start": 1616728745041,
        "deepnote_cell_type": "code"
      },
      "source": "from sklearn.tree import DecisionTreeClassifier\n\ndt_model = DecisionTreeClassifier()\ntry_model(dt_model)",
      "execution_count": 1,
      "outputs": [
        {
          "output_type": "error",
          "ename": "NameError",
          "evalue": "name 'try_model' is not defined",
          "traceback": [
            "\u001b[0;31m---------------------------------------------------------------------------\u001b[0m",
            "\u001b[0;31mNameError\u001b[0m                                 Traceback (most recent call last)",
            "\u001b[0;32m<ipython-input-1-19016ab18333>\u001b[0m in \u001b[0;36m<module>\u001b[0;34m\u001b[0m\n\u001b[1;32m      2\u001b[0m \u001b[0;34m\u001b[0m\u001b[0m\n\u001b[1;32m      3\u001b[0m \u001b[0mdt_model\u001b[0m \u001b[0;34m=\u001b[0m \u001b[0mDecisionTreeClassifier\u001b[0m\u001b[0;34m(\u001b[0m\u001b[0;34m)\u001b[0m\u001b[0;34m\u001b[0m\u001b[0;34m\u001b[0m\u001b[0m\n\u001b[0;32m----> 4\u001b[0;31m \u001b[0mtry_model\u001b[0m\u001b[0;34m(\u001b[0m\u001b[0mdt_model\u001b[0m\u001b[0;34m)\u001b[0m\u001b[0;34m\u001b[0m\u001b[0;34m\u001b[0m\u001b[0m\n\u001b[0m",
            "\u001b[0;31mNameError\u001b[0m: name 'try_model' is not defined"
          ]
        }
      ]
    },
    {
      "cell_type": "markdown",
      "source": "### Random Forest\n\nTODO: skuuuuuu (il est tard de ouf)",
      "metadata": {
        "tags": [],
        "cell_id": "00071-adf9a396-e7a9-4d72-9f59-64ce9b5136a8",
        "deepnote_cell_type": "markdown"
      }
    },
    {
      "cell_type": "code",
      "source": "from sklearn.ensemble import RandomForestClassifier\n\nrfc = RandomForestClassifier()\ntry_model(rfc)",
      "metadata": {
        "tags": [],
        "cell_id": "00072-ccb0429a-c3f7-4e49-a5bd-5cb4defd73a5",
        "deepnote_to_be_reexecuted": true,
        "source_hash": "7ea71be0",
        "deepnote_cell_type": "code"
      },
      "outputs": [],
      "execution_count": null
    },
    {
      "cell_type": "markdown",
      "source": "## Observation",
      "metadata": {
        "tags": [],
        "cell_id": "00023-5669e274-7285-4f33-b828-31925b25047e",
        "deepnote_cell_type": "markdown"
      }
    },
    {
      "cell_type": "code",
      "metadata": {
        "tags": [],
        "cell_id": "00025-9ece6ce3-0388-4502-babc-9c5baf411b1c",
        "deepnote_to_be_reexecuted": true,
        "source_hash": "b623e53d",
        "execution_millis": 0,
        "deepnote_cell_type": "code"
      },
      "source": "",
      "outputs": [],
      "execution_count": null
    },
    {
      "cell_type": "markdown",
      "source": "<a style='text-decoration:none;line-height:16px;display:flex;color:#5B5B62;padding:10px;justify-content:end;' href='https://deepnote.com?utm_source=created-in-deepnote-cell&projectId=7b7403a0-e6a1-4dff-9c60-92b666e62671' target=\"_blank\">\n<img style='display:inline;max-height:16px;margin:0px;margin-right:7.5px;' src='data:image/svg+xml;base64,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' > </img>\nCreated in <span style='font-weight:600;margin-left:4px;'>Deepnote</span></a>",
      "metadata": {
        "tags": [],
        "created_in_deepnote_cell": true,
        "deepnote_cell_type": "markdown"
      }
    }
  ],
  "nbformat": 4,
  "nbformat_minor": 0,
  "metadata": {
    "kernelspec": {
      "display_name": "Python 3",
      "language": "python",
      "name": "python3"
    },
    "language_info": {
      "codemirror_mode": {
        "name": "ipython",
        "version": 3
      },
      "file_extension": ".py",
      "mimetype": "text/x-python",
      "name": "python",
      "nbconvert_exporter": "python",
      "pygments_lexer": "ipython3",
      "version": "3.6.5"
    },
    "colab": {
      "name": "Copie de Project - Tennis Match Prediction.ipynb",
      "provenance": [],
      "collapsed_sections": [],
      "toc_visible": true,
      "include_colab_link": true
    },
    "deepnote_notebook_id": "1fe6aa0f-0818-433e-96dd-542b90482eba",
    "deepnote": {
      "is_reactive": false
    },
    "deepnote_execution_queue": []
  }
}