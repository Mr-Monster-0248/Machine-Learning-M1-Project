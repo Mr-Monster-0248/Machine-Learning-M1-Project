{
  "cells": [
    {
      "cell_type": "markdown",
      "source": "# The data\n\nThe website http://tennis-data.co.uk/alldata.php gathers outcomes of both WTA (Women Tennis Association) and ATP (Association of Tennis Professionals - men only) tennis games over several years.\n\nA short description of each variable can be found here :\nhttp://www.tennis-data.co.uk/notes.txt",
      "metadata": {
        "id": "NHvNu1WXs1zz",
        "cell_id": "00001-36e450ba-0cf0-4883-87c6-49ea3a33fc09",
        "deepnote_cell_type": "markdown"
      }
    },
    {
      "cell_type": "code",
      "metadata": {
        "id": "l-88kRrKsYrQ",
        "cell_id": "00002-fea8427d-83e4-472e-acbc-cb4698b083ef",
        "deepnote_to_be_reexecuted": false,
        "source_hash": "6cee7f3",
        "execution_millis": 2,
        "execution_start": 1616576788080,
        "deepnote_cell_type": "code"
      },
      "source": "import pandas as pd\nfrom urllib.request import urlopen  \nimport os.path as osp\nimport os\nimport logging\nimport zipfile\nfrom glob import glob\nlogging.getLogger().setLevel('INFO')",
      "execution_count": 1,
      "outputs": []
    },
    {
      "cell_type": "markdown",
      "source": "## Helpers",
      "metadata": {
        "id": "sKIDsLWbsYrV",
        "cell_id": "00003-46a4dfc0-141c-4bc3-baa1-4593cc270df9",
        "deepnote_cell_type": "markdown"
      }
    },
    {
      "cell_type": "code",
      "metadata": {
        "id": "vLAQ3fO8sYrW",
        "cell_id": "00004-0ad8735a-9ae9-425f-b592-79ef032d3bf2",
        "deepnote_to_be_reexecuted": false,
        "source_hash": "4ea38c69",
        "execution_millis": 2,
        "execution_start": 1616576788085,
        "deepnote_cell_type": "code"
      },
      "source": "def download_file(url_str, path):\n    url = urlopen(url_str)\n    output = open(path, 'wb')       \n    output.write(url.read())\n    output.close()  \n    \ndef extract_file(archive_path, target_dir):\n    zip_file = zipfile.ZipFile(archive_path, 'r')\n    zip_file.extractall(target_dir)\n    zip_file.close()",
      "execution_count": 2,
      "outputs": []
    },
    {
      "cell_type": "markdown",
      "source": "## Download the dataset\nExecuting the cell below should provide you with :\n- one pandas dataframe for all ATP matches ( df_atp )\n- one pandas dataframe for all WTA matches ( df_wta )",
      "metadata": {
        "id": "nHRZzc_GsYrZ",
        "cell_id": "00005-6bd6b7f8-d358-4e10-8b07-788de0772542",
        "deepnote_cell_type": "markdown"
      }
    },
    {
      "cell_type": "code",
      "metadata": {
        "id": "OSofwP-AsYra",
        "colab": {
          "base_uri": "https://localhost:8080/"
        },
        "outputId": "010b3090-0801-4b20-e9b9-9ae7bc0aa75f",
        "cell_id": "00006-ffd3cade-7cce-4340-bbd0-6ab005193922",
        "deepnote_to_be_reexecuted": false,
        "source_hash": "65fca1ae",
        "execution_millis": 25174,
        "output_cleared": false,
        "execution_start": 1616576788099,
        "deepnote_cell_type": "code"
      },
      "source": "BASE_URL = 'http://tennis-data.co.uk'\nDATA_DIR = \"tennis_data\"\nATP_DIR = './{}/ATP'.format(DATA_DIR)\nWTA_DIR = './{}/WTA'.format(DATA_DIR)\n\nATP_URLS = [BASE_URL + \"/%i/%i.zip\" % (i,i) for i in range(2000,2019)]\nWTA_URLS = [BASE_URL + \"/%iw/%i.zip\" % (i,i) for i in range(2007,2019)]\n\nos.makedirs(osp.join(ATP_DIR, 'archives'), exist_ok=True)\nos.makedirs(osp.join(WTA_DIR, 'archives'), exist_ok=True)\n\nfor files, directory in ((ATP_URLS, ATP_DIR), (WTA_URLS, WTA_DIR)):\n    for dl_path in files:\n        logging.info(\"downloading & extracting file %s\", dl_path)\n        archive_path = osp.join(directory, 'archives', osp.basename(dl_path))\n        download_file(dl_path, archive_path)\n        extract_file(archive_path, directory)\n    \nATP_FILES = sorted(glob(\"%s/*.xls*\" % ATP_DIR))\nWTA_FILES = sorted(glob(\"%s/*.xls*\" % WTA_DIR))",
      "execution_count": 3,
      "outputs": [
        {
          "name": "stderr",
          "text": "INFO:root:downloading & extracting file http://tennis-data.co.uk/2000/2000.zip\nINFO:root:downloading & extracting file http://tennis-data.co.uk/2001/2001.zip\nINFO:root:downloading & extracting file http://tennis-data.co.uk/2002/2002.zip\nINFO:root:downloading & extracting file http://tennis-data.co.uk/2003/2003.zip\nINFO:root:downloading & extracting file http://tennis-data.co.uk/2004/2004.zip\nINFO:root:downloading & extracting file http://tennis-data.co.uk/2005/2005.zip\nINFO:root:downloading & extracting file http://tennis-data.co.uk/2006/2006.zip\nINFO:root:downloading & extracting file http://tennis-data.co.uk/2007/2007.zip\nINFO:root:downloading & extracting file http://tennis-data.co.uk/2008/2008.zip\nINFO:root:downloading & extracting file http://tennis-data.co.uk/2009/2009.zip\nINFO:root:downloading & extracting file http://tennis-data.co.uk/2010/2010.zip\nINFO:root:downloading & extracting file http://tennis-data.co.uk/2011/2011.zip\nINFO:root:downloading & extracting file http://tennis-data.co.uk/2012/2012.zip\nINFO:root:downloading & extracting file http://tennis-data.co.uk/2013/2013.zip\nINFO:root:downloading & extracting file http://tennis-data.co.uk/2014/2014.zip\nINFO:root:downloading & extracting file http://tennis-data.co.uk/2015/2015.zip\nINFO:root:downloading & extracting file http://tennis-data.co.uk/2016/2016.zip\nINFO:root:downloading & extracting file http://tennis-data.co.uk/2017/2017.zip\nINFO:root:downloading & extracting file http://tennis-data.co.uk/2018/2018.zip\nINFO:root:downloading & extracting file http://tennis-data.co.uk/2007w/2007.zip\nINFO:root:downloading & extracting file http://tennis-data.co.uk/2008w/2008.zip\nINFO:root:downloading & extracting file http://tennis-data.co.uk/2009w/2009.zip\nINFO:root:downloading & extracting file http://tennis-data.co.uk/2010w/2010.zip\nINFO:root:downloading & extracting file http://tennis-data.co.uk/2011w/2011.zip\nINFO:root:downloading & extracting file http://tennis-data.co.uk/2012w/2012.zip\nINFO:root:downloading & extracting file http://tennis-data.co.uk/2013w/2013.zip\nINFO:root:downloading & extracting file http://tennis-data.co.uk/2014w/2014.zip\nINFO:root:downloading & extracting file http://tennis-data.co.uk/2015w/2015.zip\nINFO:root:downloading & extracting file http://tennis-data.co.uk/2016w/2016.zip\nINFO:root:downloading & extracting file http://tennis-data.co.uk/2017w/2017.zip\nINFO:root:downloading & extracting file http://tennis-data.co.uk/2018w/2018.zip\n",
          "output_type": "stream"
        }
      ]
    },
    {
      "cell_type": "code",
      "source": "df_atp = pd.concat([pd.read_excel(f) for f in ATP_FILES], ignore_index=True)\ndf_wta = pd.concat([pd.read_excel(f) for f in WTA_FILES], ignore_index=True)\n\nlogging.info(\"%i matches ATP in df_atp\", df_atp.shape[0])\nlogging.info(\"%i matches WTA in df_wta\", df_wta.shape[0])",
      "metadata": {
        "tags": [],
        "cell_id": "00006-93dc39a6-4c4f-4d84-881e-ecca2337aca6",
        "deepnote_to_be_reexecuted": false,
        "source_hash": "5aa1f074",
        "execution_millis": 20677,
        "execution_start": 1616576813280,
        "deepnote_cell_type": "code"
      },
      "outputs": [
        {
          "name": "stderr",
          "text": "/shared-libs/python3.7/py-core/lib/python3.7/site-packages/ipykernel_launcher.py:1: FutureWarning: Your version of xlrd is 1.2.0. In xlrd >= 2.0, only the xls format is supported. As a result, the openpyxl engine will be used if it is installed and the engine argument is not specified. Install openpyxl instead.\n  \"\"\"Entry point for launching an IPython kernel.\n/shared-libs/python3.7/py-core/lib/python3.7/site-packages/ipykernel_launcher.py:2: FutureWarning: Your version of xlrd is 1.2.0. In xlrd >= 2.0, only the xls format is supported. As a result, the openpyxl engine will be used if it is installed and the engine argument is not specified. Install openpyxl instead.\n  \nINFO:root:52298 matches ATP in df_atp\nINFO:root:29581 matches WTA in df_wta\n",
          "output_type": "stream"
        }
      ],
      "execution_count": 4
    },
    {
      "cell_type": "markdown",
      "source": "# Question 1 - 2 points\nWho are the three ATP players with the most wins ?",
      "metadata": {
        "id": "4JjtgMoBtW96",
        "cell_id": "00007-6077fde6-788b-48ca-b910-03d79d1b03a9",
        "deepnote_cell_type": "markdown"
      }
    },
    {
      "cell_type": "code",
      "metadata": {
        "id": "HK06FiwjtWHk",
        "cell_id": "00008-a333c8c0-9afa-4fd1-b0dc-9856a97a04e2",
        "deepnote_to_be_reexecuted": false,
        "source_hash": "b623e53d",
        "execution_start": 1616576833961,
        "execution_millis": 5,
        "deepnote_cell_type": "code"
      },
      "source": "",
      "execution_count": 4,
      "outputs": []
    },
    {
      "cell_type": "markdown",
      "source": "# Question 2 - 2 points\nHow many sets did the player “ Federer R.” win in total ?",
      "metadata": {
        "id": "gVxNR1Vltafi",
        "cell_id": "00009-e7bf44e4-7a76-4784-8086-ebb1d992f0bd",
        "deepnote_cell_type": "markdown"
      }
    },
    {
      "cell_type": "code",
      "metadata": {
        "id": "L-pY62evte7q",
        "cell_id": "00010-74737b58-f093-4a9f-913f-79663abfcb0d",
        "deepnote_to_be_reexecuted": false,
        "source_hash": "b623e53d",
        "execution_start": 1616576833967,
        "deepnote_cell_type": "code"
      },
      "source": "",
      "execution_count": 4,
      "outputs": []
    },
    {
      "cell_type": "markdown",
      "source": "# Question 3 - 2 points\nHow many sets did the player “ Federer R.” win during the years 2016 and 2017 ?",
      "metadata": {
        "id": "mty2-RVftfZb",
        "cell_id": "00011-9b1c51ac-eb81-4103-8cdf-823160f2b78d",
        "deepnote_cell_type": "markdown"
      }
    },
    {
      "cell_type": "code",
      "metadata": {
        "id": "kXzzkGt0tkC7",
        "cell_id": "00012-dbb48760-fdd7-4a60-8b03-4374d6a9bdbd",
        "deepnote_to_be_reexecuted": false,
        "source_hash": "b623e53d",
        "execution_start": 1616576833970,
        "execution_millis": 1,
        "deepnote_cell_type": "code"
      },
      "source": "",
      "execution_count": 4,
      "outputs": []
    },
    {
      "cell_type": "markdown",
      "source": "# Question 4 - 2 points\nFor each match, what is the percentage of victories of the winner in the past ?",
      "metadata": {
        "id": "Hj-0TPIWtkbU",
        "cell_id": "00013-03328a0c-61c1-41ee-b172-8796cb6bfbe3",
        "deepnote_cell_type": "markdown"
      }
    },
    {
      "cell_type": "code",
      "metadata": {
        "id": "qgHJDcdEtolL",
        "cell_id": "00014-ec74511d-c440-4258-a49d-b8aeb493c07a",
        "deepnote_to_be_reexecuted": false,
        "source_hash": "b623e53d",
        "execution_start": 1616576834015,
        "deepnote_cell_type": "code"
      },
      "source": "",
      "execution_count": 4,
      "outputs": []
    },
    {
      "cell_type": "markdown",
      "source": "# Question 5 - 12 points\nPlease predict the outcome for each ATP tennis game during the year 2017.\nYour notebook should handle:\n- the data preparation process\n- the modeling phase\n- the evaluation of your model(s)\n- any observation or explanation you deem interesting\n\nBonus points if :\n- your notebook contains graphics that are both interesting and pretty\n- The code is clear and well explained",
      "metadata": {
        "id": "HY2s0GIEsYrd",
        "cell_id": "00015-e1a2c657-33e8-4225-9615-a557b550491e",
        "deepnote_cell_type": "markdown"
      }
    },
    {
      "cell_type": "code",
      "metadata": {
        "id": "pjugZ48otl7L",
        "cell_id": "00016-e08508eb-3d86-42ff-a7b3-adb8552743c1",
        "deepnote_to_be_reexecuted": false,
        "source_hash": "b623e53d",
        "execution_start": 1616576834015,
        "deepnote_cell_type": "code"
      },
      "source": "",
      "execution_count": 4,
      "outputs": []
    },
    {
      "cell_type": "markdown",
      "source": "<a style='text-decoration:none;line-height:16px;display:flex;color:#5B5B62;padding:10px;justify-content:end;' href='https://deepnote.com?utm_source=created-in-deepnote-cell&projectId=7b7403a0-e6a1-4dff-9c60-92b666e62671' target=\"_blank\">\n<img style='display:inline;max-height:16px;margin:0px;margin-right:7.5px;' src='data:image/svg+xml;base64,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' > </img>\nCreated in <span style='font-weight:600;margin-left:4px;'>Deepnote</span></a>",
      "metadata": {
        "tags": [],
        "created_in_deepnote_cell": true,
        "deepnote_cell_type": "markdown"
      }
    }
  ],
  "nbformat": 4,
  "nbformat_minor": 0,
  "metadata": {
    "kernelspec": {
      "display_name": "Python 3",
      "language": "python",
      "name": "python3"
    },
    "language_info": {
      "codemirror_mode": {
        "name": "ipython",
        "version": 3
      },
      "file_extension": ".py",
      "mimetype": "text/x-python",
      "name": "python",
      "nbconvert_exporter": "python",
      "pygments_lexer": "ipython3",
      "version": "3.6.5"
    },
    "colab": {
      "name": "Copie de Project - Tennis Match Prediction.ipynb",
      "provenance": [],
      "collapsed_sections": [],
      "toc_visible": true,
      "include_colab_link": true
    },
    "deepnote_notebook_id": "1fe6aa0f-0818-433e-96dd-542b90482eba",
    "deepnote": {},
    "deepnote_execution_queue": []
  }
}