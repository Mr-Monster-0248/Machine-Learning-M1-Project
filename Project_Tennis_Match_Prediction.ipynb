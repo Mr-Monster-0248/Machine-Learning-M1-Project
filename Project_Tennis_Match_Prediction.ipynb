{
  "nbformat": 4,
  "nbformat_minor": 0,
  "metadata": {
    "kernelspec": {
      "display_name": "Python 3",
      "language": "python",
      "name": "python3"
    },
    "language_info": {
      "codemirror_mode": {
        "name": "ipython",
        "version": 3
      },
      "file_extension": ".py",
      "mimetype": "text/x-python",
      "name": "python",
      "nbconvert_exporter": "python",
      "pygments_lexer": "ipython3",
      "version": "3.6.5"
    },
    "colab": {
      "name": "Copie de Project - Tennis Match Prediction.ipynb",
      "provenance": [],
      "collapsed_sections": [],
      "toc_visible": true,
      "include_colab_link": true
    }
  },
  "cells": [
    {
      "cell_type": "markdown",
      "metadata": {
        "id": "view-in-github",
        "colab_type": "text"
      },
      "source": [
        "<a href=\"https://colab.research.google.com/github/Mr-Monster-0248/Machine-Learning-M1-Project/blob/master/Project_Tennis_Match_Prediction.ipynb\" target=\"_parent\"><img src=\"https://colab.research.google.com/assets/colab-badge.svg\" alt=\"Open In Colab\"/></a>"
      ]
    },
    {
      "cell_type": "markdown",
      "metadata": {
        "id": "NHvNu1WXs1zz"
      },
      "source": [
        "#The data\n",
        "The website http://tennis-data.co.uk/alldata.php gathers outcomes of both WTA (Women Tennis Association) and ATP (Association of Tennis Professionals - men only) tennis games over several years.\n",
        "\n",
        "A short description of each variable can be found here :\n",
        "http://www.tennis-data.co.uk/notes.txt"
      ]
    },
    {
      "cell_type": "code",
      "metadata": {
        "id": "l-88kRrKsYrQ"
      },
      "source": [
        "import pandas as pd\n",
        "from urllib.request import urlopen  \n",
        "import os.path as osp\n",
        "import os\n",
        "import logging\n",
        "import zipfile\n",
        "from glob import glob\n",
        "logging.getLogger().setLevel('INFO')"
      ],
      "execution_count": null,
      "outputs": []
    },
    {
      "cell_type": "markdown",
      "metadata": {
        "id": "sKIDsLWbsYrV"
      },
      "source": [
        "## Helpers"
      ]
    },
    {
      "cell_type": "code",
      "metadata": {
        "id": "vLAQ3fO8sYrW"
      },
      "source": [
        "def download_file(url_str, path):\n",
        "    url = urlopen(url_str)\n",
        "    output = open(path, 'wb')       \n",
        "    output.write(url.read())\n",
        "    output.close()  \n",
        "    \n",
        "def extract_file(archive_path, target_dir):\n",
        "    zip_file = zipfile.ZipFile(archive_path, 'r')\n",
        "    zip_file.extractall(target_dir)\n",
        "    zip_file.close()"
      ],
      "execution_count": null,
      "outputs": []
    },
    {
      "cell_type": "markdown",
      "metadata": {
        "id": "nHRZzc_GsYrZ"
      },
      "source": [
        "## Download the dataset\n",
        "Executing the cell below should provide you with :\n",
        "- one pandas dataframe for all ATP matches ( df_atp )\n",
        "- one pandas dataframe for all WTA matches ( df_wta )"
      ]
    },
    {
      "cell_type": "code",
      "metadata": {
        "id": "OSofwP-AsYra",
        "colab": {
          "base_uri": "https://localhost:8080/"
        },
        "outputId": "010b3090-0801-4b20-e9b9-9ae7bc0aa75f"
      },
      "source": [
        "BASE_URL = 'http://tennis-data.co.uk'\n",
        "DATA_DIR = \"tennis_data\"\n",
        "ATP_DIR = './{}/ATP'.format(DATA_DIR)\n",
        "WTA_DIR = './{}/WTA'.format(DATA_DIR)\n",
        "\n",
        "ATP_URLS = [BASE_URL + \"/%i/%i.zip\" % (i,i) for i in range(2000,2019)]\n",
        "WTA_URLS = [BASE_URL + \"/%iw/%i.zip\" % (i,i) for i in range(2007,2019)]\n",
        "\n",
        "os.makedirs(osp.join(ATP_DIR, 'archives'), exist_ok=True)\n",
        "os.makedirs(osp.join(WTA_DIR, 'archives'), exist_ok=True)\n",
        "\n",
        "for files, directory in ((ATP_URLS, ATP_DIR), (WTA_URLS, WTA_DIR)):\n",
        "    for dl_path in files:\n",
        "        logging.info(\"downloading & extracting file %s\", dl_path)\n",
        "        archive_path = osp.join(directory, 'archives', osp.basename(dl_path))\n",
        "        download_file(dl_path, archive_path)\n",
        "        extract_file(archive_path, directory)\n",
        "    \n",
        "ATP_FILES = sorted(glob(\"%s/*.xls*\" % ATP_DIR))\n",
        "WTA_FILES = sorted(glob(\"%s/*.xls*\" % WTA_DIR))\n",
        "\n",
        "df_atp = pd.concat([pd.read_excel(f) for f in ATP_FILES], ignore_index=True)\n",
        "df_wta = pd.concat([pd.read_excel(f) for f in WTA_FILES], ignore_index=True)\n",
        "\n",
        "logging.info(\"%i matches ATP in df_atp\", df_atp.shape[0])\n",
        "logging.info(\"%i matches WTA in df_wta\", df_wta.shape[0])"
      ],
      "execution_count": null,
      "outputs": [
        {
          "output_type": "stream",
          "text": [
            "INFO:root:downloading & extracting file http://tennis-data.co.uk/2000/2000.zip\n",
            "INFO:root:downloading & extracting file http://tennis-data.co.uk/2001/2001.zip\n",
            "INFO:root:downloading & extracting file http://tennis-data.co.uk/2002/2002.zip\n",
            "INFO:root:downloading & extracting file http://tennis-data.co.uk/2003/2003.zip\n",
            "INFO:root:downloading & extracting file http://tennis-data.co.uk/2004/2004.zip\n",
            "INFO:root:downloading & extracting file http://tennis-data.co.uk/2005/2005.zip\n",
            "INFO:root:downloading & extracting file http://tennis-data.co.uk/2006/2006.zip\n",
            "INFO:root:downloading & extracting file http://tennis-data.co.uk/2007/2007.zip\n",
            "INFO:root:downloading & extracting file http://tennis-data.co.uk/2008/2008.zip\n",
            "INFO:root:downloading & extracting file http://tennis-data.co.uk/2009/2009.zip\n",
            "INFO:root:downloading & extracting file http://tennis-data.co.uk/2010/2010.zip\n",
            "INFO:root:downloading & extracting file http://tennis-data.co.uk/2011/2011.zip\n",
            "INFO:root:downloading & extracting file http://tennis-data.co.uk/2012/2012.zip\n",
            "INFO:root:downloading & extracting file http://tennis-data.co.uk/2013/2013.zip\n",
            "INFO:root:downloading & extracting file http://tennis-data.co.uk/2014/2014.zip\n",
            "INFO:root:downloading & extracting file http://tennis-data.co.uk/2015/2015.zip\n",
            "INFO:root:downloading & extracting file http://tennis-data.co.uk/2016/2016.zip\n",
            "INFO:root:downloading & extracting file http://tennis-data.co.uk/2017/2017.zip\n",
            "INFO:root:downloading & extracting file http://tennis-data.co.uk/2018/2018.zip\n",
            "INFO:root:downloading & extracting file http://tennis-data.co.uk/2007w/2007.zip\n",
            "INFO:root:downloading & extracting file http://tennis-data.co.uk/2008w/2008.zip\n",
            "INFO:root:downloading & extracting file http://tennis-data.co.uk/2009w/2009.zip\n",
            "INFO:root:downloading & extracting file http://tennis-data.co.uk/2010w/2010.zip\n",
            "INFO:root:downloading & extracting file http://tennis-data.co.uk/2011w/2011.zip\n",
            "INFO:root:downloading & extracting file http://tennis-data.co.uk/2012w/2012.zip\n",
            "INFO:root:downloading & extracting file http://tennis-data.co.uk/2013w/2013.zip\n",
            "INFO:root:downloading & extracting file http://tennis-data.co.uk/2014w/2014.zip\n",
            "INFO:root:downloading & extracting file http://tennis-data.co.uk/2015w/2015.zip\n",
            "INFO:root:downloading & extracting file http://tennis-data.co.uk/2016w/2016.zip\n",
            "INFO:root:downloading & extracting file http://tennis-data.co.uk/2017w/2017.zip\n",
            "INFO:root:downloading & extracting file http://tennis-data.co.uk/2018w/2018.zip\n",
            "INFO:root:52298 matches ATP in df_atp\n",
            "INFO:root:29581 matches WTA in df_wta\n"
          ],
          "name": "stderr"
        }
      ]
    },
    {
      "cell_type": "markdown",
      "metadata": {
        "id": "4JjtgMoBtW96"
      },
      "source": [
        "# Question 1 - 2 points\n",
        "Who are the three ATP players with the most wins ?"
      ]
    },
    {
      "cell_type": "code",
      "metadata": {
        "id": "HK06FiwjtWHk"
      },
      "source": [
        ""
      ],
      "execution_count": null,
      "outputs": []
    },
    {
      "cell_type": "markdown",
      "metadata": {
        "id": "gVxNR1Vltafi"
      },
      "source": [
        "# Question 2 - 2 points\n",
        "How many sets did the player “ Federer R.” win in total ?"
      ]
    },
    {
      "cell_type": "code",
      "metadata": {
        "id": "L-pY62evte7q"
      },
      "source": [
        ""
      ],
      "execution_count": null,
      "outputs": []
    },
    {
      "cell_type": "markdown",
      "metadata": {
        "id": "mty2-RVftfZb"
      },
      "source": [
        "# Question 3 - 2 points\n",
        "How many sets did the player “ Federer R.” win during the years 2016 and 2017 ?"
      ]
    },
    {
      "cell_type": "code",
      "metadata": {
        "id": "kXzzkGt0tkC7"
      },
      "source": [
        ""
      ],
      "execution_count": null,
      "outputs": []
    },
    {
      "cell_type": "markdown",
      "metadata": {
        "id": "Hj-0TPIWtkbU"
      },
      "source": [
        "# Question 4 - 2 points\n",
        "For each match, what is the percentage of victories of the winner in the past ?"
      ]
    },
    {
      "cell_type": "code",
      "metadata": {
        "id": "qgHJDcdEtolL"
      },
      "source": [
        ""
      ],
      "execution_count": null,
      "outputs": []
    },
    {
      "cell_type": "markdown",
      "metadata": {
        "id": "HY2s0GIEsYrd"
      },
      "source": [
        "# Question 5 - 12 points\n",
        "Please predict the outcome for each ATP tennis game during the year 2017.\n",
        "Your notebook should handle:\n",
        "- the data preparation process\n",
        "- the modeling phase\n",
        "- the evaluation of your model(s)\n",
        "- any observation or explanation you deem interesting\n",
        "\n",
        "Bonus points if :\n",
        "- your notebook contains graphics that are both interesting and pretty\n",
        "- The code is clear and well explained"
      ]
    },
    {
      "cell_type": "code",
      "metadata": {
        "id": "pjugZ48otl7L"
      },
      "source": [
        ""
      ],
      "execution_count": null,
      "outputs": []
    }
  ]
}